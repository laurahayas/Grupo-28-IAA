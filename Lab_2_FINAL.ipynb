{
  "cells": [
    {
      "cell_type": "markdown",
      "metadata": {
        "id": "iT_VT6Y-NheP"
      },
      "source": [
        "**Diplomatura en Ciencia de Datos, Aprendizaje Automático y sus Aplicaciones**\n",
        "\n",
        "**Introducción al Aprendizaje Automático** - Segunda parte<br>\n",
        "\n",
        "**Grupo 28** <br>\n",
        "Docente: Laura Montes<br>\n",
        "\n",
        "Integrantes:\n",
        "*   Gustavo Alvarez Lupu\n",
        "*   Laura Hayas\n",
        "*   Maria Emilia Santacruz\n",
        "*   Nicolás Ambrosis\n"
      ]
    },
    {
      "cell_type": "markdown",
      "metadata": {
        "id": "UzoMRurrqA2M"
      },
      "source": [
        "# Laboratorio 2: Armado de un esquema de aprendizaje automático\n",
        "\n",
        "En el laboratorio final se espera que puedan poner en práctica los conocimientos adquiridos en el curso, trabajando con un conjunto de datos de clasificación.\n",
        "\n",
        "El objetivo es que se introduzcan en el desarrollo de un esquema para hacer tareas de aprendizaje automático: selección de un modelo, ajuste de hiperparámetros y evaluación.\n",
        "\n",
        "El conjunto de datos a utilizar está en `./data/loan_data.csv`. Si abren el archivo verán que al principio (las líneas que empiezan con `#`) describen el conjunto de datos y sus atributos (incluyendo el atributo de etiqueta o clase).\n",
        "\n",
        "Se espera que hagan uso de las herramientas vistas en el curso. Se espera que hagan uso especialmente de las herramientas brindadas por `scikit-learn`."
      ]
    },
    {
      "cell_type": "code",
      "execution_count": null,
      "metadata": {
        "id": "Gewu5nchqA2S"
      },
      "outputs": [],
      "source": [
        "# Importacion de librerías que se usarán en la notebook\n",
        "\n",
        "import numpy as np\n",
        "import pandas as pd\n",
        "from sklearn.linear_model import SGDClassifier\n",
        "from sklearn.model_selection import train_test_split"
      ]
    },
    {
      "cell_type": "markdown",
      "metadata": {
        "id": "fTJL8orvqA2T"
      },
      "source": [
        "## Carga de datos y división en entrenamiento y evaluación\n",
        "\n",
        "La celda siguiente se encarga de la carga de datos (haciendo uso de pandas). Estos serán los que se trabajarán en el resto del laboratorio."
      ]
    },
    {
      "cell_type": "code",
      "execution_count": null,
      "metadata": {
        "colab": {
          "base_uri": "https://localhost:8080/",
          "height": 347
        },
        "id": "-RslQ2WwqA2U",
        "outputId": "594ef01f-eec9-48e7-f4d6-cca044e04701"
      },
      "outputs": [
        {
          "data": {
            "text/html": [
              "<div>\n",
              "<style scoped>\n",
              "    .dataframe tbody tr th:only-of-type {\n",
              "        vertical-align: middle;\n",
              "    }\n",
              "\n",
              "    .dataframe tbody tr th {\n",
              "        vertical-align: top;\n",
              "    }\n",
              "\n",
              "    .dataframe thead th {\n",
              "        text-align: right;\n",
              "    }\n",
              "</style>\n",
              "<table border=\"1\" class=\"dataframe\">\n",
              "  <thead>\n",
              "    <tr style=\"text-align: right;\">\n",
              "      <th></th>\n",
              "      <th>TARGET</th>\n",
              "      <th>LOAN</th>\n",
              "      <th>MORTDUE</th>\n",
              "      <th>VALUE</th>\n",
              "      <th>YOJ</th>\n",
              "      <th>DEROG</th>\n",
              "      <th>DELINQ</th>\n",
              "      <th>CLAGE</th>\n",
              "      <th>NINQ</th>\n",
              "      <th>CLNO</th>\n",
              "      <th>DEBTINC</th>\n",
              "    </tr>\n",
              "  </thead>\n",
              "  <tbody>\n",
              "    <tr>\n",
              "      <th>0</th>\n",
              "      <td>0</td>\n",
              "      <td>4700</td>\n",
              "      <td>88026.0</td>\n",
              "      <td>115506.0</td>\n",
              "      <td>6.0</td>\n",
              "      <td>0.0</td>\n",
              "      <td>0.0</td>\n",
              "      <td>182.248332</td>\n",
              "      <td>0.0</td>\n",
              "      <td>27.0</td>\n",
              "      <td>29.209023</td>\n",
              "    </tr>\n",
              "    <tr>\n",
              "      <th>1</th>\n",
              "      <td>0</td>\n",
              "      <td>19300</td>\n",
              "      <td>39926.0</td>\n",
              "      <td>101208.0</td>\n",
              "      <td>4.0</td>\n",
              "      <td>0.0</td>\n",
              "      <td>0.0</td>\n",
              "      <td>140.051638</td>\n",
              "      <td>0.0</td>\n",
              "      <td>14.0</td>\n",
              "      <td>31.545694</td>\n",
              "    </tr>\n",
              "    <tr>\n",
              "      <th>2</th>\n",
              "      <td>0</td>\n",
              "      <td>5700</td>\n",
              "      <td>71556.0</td>\n",
              "      <td>79538.0</td>\n",
              "      <td>2.0</td>\n",
              "      <td>0.0</td>\n",
              "      <td>0.0</td>\n",
              "      <td>92.643085</td>\n",
              "      <td>0.0</td>\n",
              "      <td>15.0</td>\n",
              "      <td>41.210012</td>\n",
              "    </tr>\n",
              "    <tr>\n",
              "      <th>3</th>\n",
              "      <td>0</td>\n",
              "      <td>13000</td>\n",
              "      <td>44875.0</td>\n",
              "      <td>57713.0</td>\n",
              "      <td>0.0</td>\n",
              "      <td>1.0</td>\n",
              "      <td>0.0</td>\n",
              "      <td>184.990324</td>\n",
              "      <td>1.0</td>\n",
              "      <td>12.0</td>\n",
              "      <td>28.602076</td>\n",
              "    </tr>\n",
              "    <tr>\n",
              "      <th>4</th>\n",
              "      <td>0</td>\n",
              "      <td>19300</td>\n",
              "      <td>72752.0</td>\n",
              "      <td>106084.0</td>\n",
              "      <td>11.0</td>\n",
              "      <td>0.0</td>\n",
              "      <td>0.0</td>\n",
              "      <td>193.707100</td>\n",
              "      <td>1.0</td>\n",
              "      <td>13.0</td>\n",
              "      <td>30.686106</td>\n",
              "    </tr>\n",
              "    <tr>\n",
              "      <th>...</th>\n",
              "      <td>...</td>\n",
              "      <td>...</td>\n",
              "      <td>...</td>\n",
              "      <td>...</td>\n",
              "      <td>...</td>\n",
              "      <td>...</td>\n",
              "      <td>...</td>\n",
              "      <td>...</td>\n",
              "      <td>...</td>\n",
              "      <td>...</td>\n",
              "      <td>...</td>\n",
              "    </tr>\n",
              "    <tr>\n",
              "      <th>1849</th>\n",
              "      <td>1</td>\n",
              "      <td>53400</td>\n",
              "      <td>228236.0</td>\n",
              "      <td>305514.0</td>\n",
              "      <td>6.0</td>\n",
              "      <td>0.0</td>\n",
              "      <td>0.0</td>\n",
              "      <td>11.148069</td>\n",
              "      <td>0.0</td>\n",
              "      <td>2.0</td>\n",
              "      <td>34.558417</td>\n",
              "    </tr>\n",
              "    <tr>\n",
              "      <th>1850</th>\n",
              "      <td>1</td>\n",
              "      <td>53600</td>\n",
              "      <td>235895.0</td>\n",
              "      <td>299772.0</td>\n",
              "      <td>5.0</td>\n",
              "      <td>0.0</td>\n",
              "      <td>0.0</td>\n",
              "      <td>112.748282</td>\n",
              "      <td>7.0</td>\n",
              "      <td>22.0</td>\n",
              "      <td>44.945929</td>\n",
              "    </tr>\n",
              "    <tr>\n",
              "      <th>1851</th>\n",
              "      <td>1</td>\n",
              "      <td>53600</td>\n",
              "      <td>208197.0</td>\n",
              "      <td>297280.0</td>\n",
              "      <td>4.0</td>\n",
              "      <td>1.0</td>\n",
              "      <td>1.0</td>\n",
              "      <td>160.485251</td>\n",
              "      <td>2.0</td>\n",
              "      <td>29.0</td>\n",
              "      <td>41.646731</td>\n",
              "    </tr>\n",
              "    <tr>\n",
              "      <th>1852</th>\n",
              "      <td>1</td>\n",
              "      <td>65500</td>\n",
              "      <td>205156.0</td>\n",
              "      <td>290239.0</td>\n",
              "      <td>2.0</td>\n",
              "      <td>0.0</td>\n",
              "      <td>0.0</td>\n",
              "      <td>98.808206</td>\n",
              "      <td>1.0</td>\n",
              "      <td>21.0</td>\n",
              "      <td>144.189001</td>\n",
              "    </tr>\n",
              "    <tr>\n",
              "      <th>1853</th>\n",
              "      <td>1</td>\n",
              "      <td>77400</td>\n",
              "      <td>87651.0</td>\n",
              "      <td>224630.0</td>\n",
              "      <td>9.0</td>\n",
              "      <td>0.0</td>\n",
              "      <td>2.0</td>\n",
              "      <td>73.469630</td>\n",
              "      <td>3.0</td>\n",
              "      <td>13.0</td>\n",
              "      <td>40.929793</td>\n",
              "    </tr>\n",
              "  </tbody>\n",
              "</table>\n",
              "<p>1854 rows × 11 columns</p>\n",
              "</div>"
            ],
            "text/plain": [
              "      TARGET   LOAN   MORTDUE     VALUE   YOJ  DEROG  DELINQ       CLAGE  \\\n",
              "0          0   4700   88026.0  115506.0   6.0    0.0     0.0  182.248332   \n",
              "1          0  19300   39926.0  101208.0   4.0    0.0     0.0  140.051638   \n",
              "2          0   5700   71556.0   79538.0   2.0    0.0     0.0   92.643085   \n",
              "3          0  13000   44875.0   57713.0   0.0    1.0     0.0  184.990324   \n",
              "4          0  19300   72752.0  106084.0  11.0    0.0     0.0  193.707100   \n",
              "...      ...    ...       ...       ...   ...    ...     ...         ...   \n",
              "1849       1  53400  228236.0  305514.0   6.0    0.0     0.0   11.148069   \n",
              "1850       1  53600  235895.0  299772.0   5.0    0.0     0.0  112.748282   \n",
              "1851       1  53600  208197.0  297280.0   4.0    1.0     1.0  160.485251   \n",
              "1852       1  65500  205156.0  290239.0   2.0    0.0     0.0   98.808206   \n",
              "1853       1  77400   87651.0  224630.0   9.0    0.0     2.0   73.469630   \n",
              "\n",
              "      NINQ  CLNO     DEBTINC  \n",
              "0      0.0  27.0   29.209023  \n",
              "1      0.0  14.0   31.545694  \n",
              "2      0.0  15.0   41.210012  \n",
              "3      1.0  12.0   28.602076  \n",
              "4      1.0  13.0   30.686106  \n",
              "...    ...   ...         ...  \n",
              "1849   0.0   2.0   34.558417  \n",
              "1850   7.0  22.0   44.945929  \n",
              "1851   2.0  29.0   41.646731  \n",
              "1852   1.0  21.0  144.189001  \n",
              "1853   3.0  13.0   40.929793  \n",
              "\n",
              "[1854 rows x 11 columns]"
            ]
          },
          "execution_count": 2,
          "metadata": {},
          "output_type": "execute_result"
        }
      ],
      "source": [
        "# Se carga el dataset\n",
        "\n",
        "dataset = pd.read_csv(\"data/loan_data.csv\", comment=\"#\")\n",
        "dataset"
      ]
    },
    {
      "cell_type": "code",
      "execution_count": null,
      "metadata": {
        "id": "cK6iVKMDqA2V"
      },
      "outputs": [],
      "source": [
        "# Se analiza la información disponible sobre el dataset\n",
        "\n",
        "#Context\n",
        "# =======\n",
        "# The consumer credit department of a bank wants to automate the decisionmaking\n",
        "# process for approval of home equity lines of credit. To do this, they will\n",
        "# follow the recommendations of the Equal Credit Opportunity Act to create an\n",
        "# empirically derived and statistically sound credit scoring model. The model\n",
        "# will be based on data collected from recent applicants granted credit through\n",
        "# the current process of loan underwriting. The model will be built from\n",
        "# predictive modeling tools, but the created model must be sufficiently\n",
        "# interpretable to provide a reason for any adverse actions (rejections).\n",
        "#\n",
        "# Content\n",
        "# =======\n",
        "# The Home Equity dataset (HMEQ) contains baseline and loan performance\n",
        "# information for 5,960 recent home equity loans. The target (BAD) is a binary\n",
        "# variable indicating whether an applicant eventually defaulted or was\n",
        "# seriously delinquent. This adverse outcome occurred in 1,189 cases (20%). For\n",
        "# each applicant, 12 input variables were recorded. \n",
        "#\n",
        "# Attributes\n",
        "# ==========\n",
        "# Name    Description\n",
        "# TARGET  Label: 1 = client defaulted on loan - 0 = loan repaid\n",
        "# LOAN    Amount of the loan request\n",
        "# MORTDUE Amount due on existing mortgage\n",
        "# VALUE   Value of current property\n",
        "# YOJ     Years at present job\n",
        "# DEROG   Number of major derogatory reports\n",
        "# DELINQ  Number of delinquent credit lines\n",
        "# CLAGE   Age of oldest trade line in months\n",
        "# NINQ    Number of recent credit lines\n",
        "# CLNO    Number of credit lines\n",
        "# DEBTINC Debt-to-income ratio"
      ]
    },
    {
      "cell_type": "code",
      "execution_count": null,
      "metadata": {
        "id": "P0N5XXQ1qA2W"
      },
      "outputs": [],
      "source": [
        "# Se hace la división del dataset entre atributos y etiquetas\n",
        "X, y = dataset.iloc[:, 1:], dataset.TARGET\n",
        "\n",
        "# Se hace la división entre entrenamiento y evaluación\n",
        "X_train, X_test, y_train, y_test = train_test_split(X, y, test_size=0.2, random_state=0)"
      ]
    },
    {
      "cell_type": "code",
      "execution_count": null,
      "metadata": {
        "id": "FYw_zqntqA2X",
        "outputId": "6fb18c7d-b565-43ee-bcc6-dd58ab3a0ba2"
      },
      "outputs": [
        {
          "data": {
            "text/plain": [
              "((1854, 10), (1854,))"
            ]
          },
          "execution_count": 5,
          "metadata": {},
          "output_type": "execute_result"
        }
      ],
      "source": [
        "# Se analiza las dimensiones de los atributos y las etiquetas\n",
        "X.shape, y.shape"
      ]
    },
    {
      "cell_type": "code",
      "execution_count": null,
      "metadata": {
        "id": "Uzf_RJB3qA2Y",
        "outputId": "e149a032-24fe-4467-ae0f-7aa61cfb5855"
      },
      "outputs": [
        {
          "data": {
            "text/plain": [
              "((1483, 10), (1483,))"
            ]
          },
          "execution_count": 6,
          "metadata": {},
          "output_type": "execute_result"
        }
      ],
      "source": [
        "# Se analiza las dimensiones de los atributos y las etiquetas del grupo de entrenamiento\n",
        "X_train.shape, y_train.shape"
      ]
    },
    {
      "cell_type": "code",
      "execution_count": null,
      "metadata": {
        "id": "4lg6G-lgqA2Y",
        "outputId": "16b3a234-6fbd-4874-a74f-57decb62c8d1"
      },
      "outputs": [
        {
          "data": {
            "text/plain": [
              "((371, 10), (371,))"
            ]
          },
          "execution_count": 7,
          "metadata": {},
          "output_type": "execute_result"
        }
      ],
      "source": [
        "# Se analiza las dimensiones de los atributos y las etiquetas del grupo de test\n",
        "X_test.shape, y_test.shape"
      ]
    },
    {
      "cell_type": "markdown",
      "metadata": {
        "id": "5Xw6_KbuqA2Z"
      },
      "source": [
        "\n",
        "Documentación:\n",
        "\n",
        "- https://scikit-learn.org/stable/modules/generated/sklearn.model_selection.train_test_split.html"
      ]
    },
    {
      "cell_type": "markdown",
      "metadata": {
        "id": "-PjqmCTkqA2Z"
      },
      "source": [
        "## Ejercicio 1: Descripción de los Datos y la Tarea\n",
        "\n",
        "Responder las siguientes preguntas:\n",
        "\n",
        "**1. ¿De qué se trata el conjunto de datos?**<br>\n",
        "Son datos de una entidad bancaria, cada observación corresponde a un análisis crediticio, es decir clientes del banco a los que se les otorgó un préstamo.  \n",
        "\n",
        "**2. ¿Cuál es la variable objetivo que hay que predecir? ¿Qué significado tiene?**<br>\n",
        "La variable que hay que predecir es TARGET. Esta es una variable de clasificación binaria que indica si el cliente en cuestión cumplió con el pago del crédito. Esta variable es la que queremos predecir a futuro con el modelo de entrenamiento automático.   \n",
        "\n",
        "**3. ¿Qué información (atributos) hay disponible para hacer la predicción?**<br>\n",
        "Los datos con los que contamos para realizar la predicción son:\n",
        "\n",
        "- LOAN: Importe de la solicitud de préstamo\n",
        "- MORTDUE: Monto adeudado en la hipoteca existente\n",
        "- VALUE: Valor de la propiedad actual\n",
        "- YOJ: Años en el trabajo actual\n",
        "- DEROG: Número de informes despectivos importantes\n",
        "- DELINQ: Número de líneas de crédito morosas\n",
        "- CLAGE: Edad de la línea comercial más antigua en meses\n",
        "- NINQ: Número de líneas de crédito recientes\n",
        "- CLNO: Número de líneas de crédito\n",
        "- DEBTINC: Relación deuda-ingresos\n",
        "\n",
        "**4. ¿Qué atributos imagina ud. que son los más determinantes para la predicción?**<br>\n",
        "A priori podriamos suponer que los atributos mas importantes serían: DEBTINC (relación deuda-ingresos), DELINQ (número de líneas de crédito morosas), LOAN (importe de la solicitud de préstamo), YOJ (años en el trabajo actual), DEROG (número de informes despectivos importantes).\n",
        "\n"
      ]
    },
    {
      "cell_type": "markdown",
      "metadata": {
        "id": "GyDDHmLaqA2a"
      },
      "source": [
        "## Ejercicio 2: Predicción con Modelos Lineales\n",
        "\n",
        "En este ejercicio se entrenarán modelos lineales de clasificación para predecir la variable objetivo.\n",
        "\n",
        "Para ello, deberán utilizar la clase SGDClassifier de scikit-learn.\n",
        "\n",
        "Documentación:\n",
        "- https://scikit-learn.org/stable/modules/sgd.html\n",
        "- https://scikit-learn.org/stable/modules/generated/sklearn.linear_model.SGDClassifier.html\n"
      ]
    },
    {
      "cell_type": "markdown",
      "metadata": {
        "id": "Xis61giXqA2b"
      },
      "source": [
        "### Ejercicio 2.1: SGDClassifier con hiperparámetros por defecto\n",
        "\n",
        "Entrenar y evaluar el clasificador SGDClassifier usando los valores por omisión de scikit-learn para todos los parámetros. Únicamente **fijar la semilla aleatoria** para hacer repetible el experimento.\n",
        "\n",
        "Evaluar sobre el conjunto de **entrenamiento** y sobre el conjunto de **evaluación**, reportando:\n",
        "- Accuracy\n",
        "- Precision\n",
        "- Recall\n",
        "- F1\n",
        "- matriz de confusión"
      ]
    },
    {
      "cell_type": "markdown",
      "metadata": {
        "id": "OhpoPn_ZNFeX"
      },
      "source": [
        "**De acuerdo a la documentación de SGDClassifier de scikit-learn, para obtener los mejores resultados con el programa de tasa de aprendizaje predeterminado, los datos deben tener una media cero y una varianza unitaria.**"
      ]
    },
    {
      "cell_type": "code",
      "execution_count": null,
      "metadata": {
        "id": "VG3wU8kZNFeY",
        "outputId": "82cb94a2-df2c-4f14-c55f-f99f1b4ba921"
      },
      "outputs": [
        {
          "data": {
            "text/plain": [
              "Index(['TARGET', 'LOAN', 'MORTDUE', 'VALUE', 'YOJ', 'DEROG', 'DELINQ', 'CLAGE',\n",
              "       'NINQ', 'CLNO', 'DEBTINC'],\n",
              "      dtype='object')"
            ]
          },
          "execution_count": 8,
          "metadata": {},
          "output_type": "execute_result"
        }
      ],
      "source": [
        "# Inspeccionamos las columnas del dataset\n",
        "dataset.columns"
      ]
    },
    {
      "cell_type": "code",
      "execution_count": null,
      "metadata": {
        "id": "-VxJZusqNFeY",
        "outputId": "59140b4b-e4b8-480c-bcee-e3e7cac151ef",
        "scrolled": false
      },
      "outputs": [
        {
          "data": {
            "text/plain": [
              "array([[-1.31047211,  0.25338224,  0.14609504, ..., -0.67838835,\n",
              "         0.54089035, -0.57642621],\n",
              "       [ 0.01711695, -0.78741534, -0.10911442, ..., -0.67838835,\n",
              "        -0.82633977, -0.32534084],\n",
              "       [-1.21954135, -0.10299897, -0.495909  , ..., -0.67838835,\n",
              "        -0.72116822,  0.71313156],\n",
              "       ...,\n",
              "       [ 3.13604195,  2.85366676,  3.39063579, ...,  0.5234578 ,\n",
              "         0.75123345,  0.76005889],\n",
              "       [ 4.21811797,  2.78786498,  3.26495879, ..., -0.07746527,\n",
              "        -0.09013894, 11.77866506],\n",
              "       [ 5.30019399,  0.24526791,  2.09388331, ...,  1.12438087,\n",
              "        -0.93151132,  0.68302081]])"
            ]
          },
          "execution_count": 9,
          "metadata": {},
          "output_type": "execute_result"
        }
      ],
      "source": [
        "# Se realiza el escalado de los atributos numéricos utilizando la clase StandardScaler de sklearn\n",
        "\n",
        "from sklearn.preprocessing import StandardScaler\n",
        "\n",
        "col_names =['LOAN', 'MORTDUE', 'VALUE', 'YOJ', 'DEROG', 'DELINQ', 'CLAGE',\n",
        "       'NINQ', 'CLNO', 'DEBTINC']\n",
        "\n",
        "# Se realiza una copia del dataset con los atributos que luego serán escaladas\n",
        "dataset_ss = dataset[col_names]\n",
        "\n",
        "\n",
        "# Se instancia, entrena y transforma\n",
        "std_scaler = StandardScaler()\n",
        "dataset_ss = std_scaler.fit_transform(dataset_ss)\n",
        "dataset_ss"
      ]
    },
    {
      "cell_type": "code",
      "execution_count": null,
      "metadata": {
        "id": "RS0AVYcENFeZ",
        "outputId": "42ee3c00-34e8-4745-882c-f1027b24b519"
      },
      "outputs": [
        {
          "data": {
            "text/plain": [
              "(1854, 10)"
            ]
          },
          "execution_count": 10,
          "metadata": {},
          "output_type": "execute_result"
        }
      ],
      "source": [
        "# Se corrobora que la transforamción del dataset no ha alterado sus dimensiones \n",
        "dataset_ss.shape"
      ]
    },
    {
      "cell_type": "markdown",
      "metadata": {
        "id": "gSs8W1CMNFeZ"
      },
      "source": [
        "### Dividimos el dataset entre train y test"
      ]
    },
    {
      "cell_type": "code",
      "execution_count": null,
      "metadata": {
        "id": "_aRV5Yg_NFeZ"
      },
      "outputs": [],
      "source": [
        "X2 = dataset_ss\n",
        "y2 = dataset['TARGET']\n",
        "\n",
        "# división entre entrenamiento y evaluación\n",
        "X2_train, X2_test, y2_train, y2_test = train_test_split(X2, y2, test_size=0.2, random_state=0)\n"
      ]
    },
    {
      "cell_type": "code",
      "execution_count": null,
      "metadata": {
        "id": "7tjQ0Gf2NFea",
        "outputId": "6eec2283-0ea7-4665-e139-cb9d0d05226e",
        "scrolled": true
      },
      "outputs": [
        {
          "data": {
            "text/plain": [
              "(1854, 10)"
            ]
          },
          "execution_count": 12,
          "metadata": {},
          "output_type": "execute_result"
        }
      ],
      "source": [
        "X2.shape"
      ]
    },
    {
      "cell_type": "code",
      "execution_count": null,
      "metadata": {
        "id": "lzuBdeGKNFea",
        "outputId": "5cc319a7-0f23-42e3-922b-62b8718c8e87"
      },
      "outputs": [
        {
          "data": {
            "text/plain": [
              "(1854,)"
            ]
          },
          "execution_count": 13,
          "metadata": {},
          "output_type": "execute_result"
        }
      ],
      "source": [
        "y2.shape"
      ]
    },
    {
      "cell_type": "code",
      "execution_count": null,
      "metadata": {
        "id": "XkW09XidNFeZ",
        "outputId": "d2593dfd-4137-456b-8015-26dc4b89dfaa",
        "scrolled": true
      },
      "outputs": [
        {
          "data": {
            "text/plain": [
              "((1483, 10), (1483,))"
            ]
          },
          "execution_count": 14,
          "metadata": {},
          "output_type": "execute_result"
        }
      ],
      "source": [
        "# Se analiza las dimensiones de los atributos y etiquetas de entrenamiento\n",
        "X2_train.shape, y2_train.shape"
      ]
    },
    {
      "cell_type": "markdown",
      "metadata": {
        "id": "XXXMOnTwNFeb"
      },
      "source": [
        "### Entrenamos el modelo"
      ]
    },
    {
      "cell_type": "code",
      "execution_count": null,
      "metadata": {
        "id": "-4OCGPIONFeb",
        "outputId": "c45e1294-345b-4bcf-d47e-3972fe003725"
      },
      "outputs": [
        {
          "data": {
            "text/html": [
              "<style>#sk-container-id-1 {color: black;background-color: white;}#sk-container-id-1 pre{padding: 0;}#sk-container-id-1 div.sk-toggleable {background-color: white;}#sk-container-id-1 label.sk-toggleable__label {cursor: pointer;display: block;width: 100%;margin-bottom: 0;padding: 0.3em;box-sizing: border-box;text-align: center;}#sk-container-id-1 label.sk-toggleable__label-arrow:before {content: \"▸\";float: left;margin-right: 0.25em;color: #696969;}#sk-container-id-1 label.sk-toggleable__label-arrow:hover:before {color: black;}#sk-container-id-1 div.sk-estimator:hover label.sk-toggleable__label-arrow:before {color: black;}#sk-container-id-1 div.sk-toggleable__content {max-height: 0;max-width: 0;overflow: hidden;text-align: left;background-color: #f0f8ff;}#sk-container-id-1 div.sk-toggleable__content pre {margin: 0.2em;color: black;border-radius: 0.25em;background-color: #f0f8ff;}#sk-container-id-1 input.sk-toggleable__control:checked~div.sk-toggleable__content {max-height: 200px;max-width: 100%;overflow: auto;}#sk-container-id-1 input.sk-toggleable__control:checked~label.sk-toggleable__label-arrow:before {content: \"▾\";}#sk-container-id-1 div.sk-estimator input.sk-toggleable__control:checked~label.sk-toggleable__label {background-color: #d4ebff;}#sk-container-id-1 div.sk-label input.sk-toggleable__control:checked~label.sk-toggleable__label {background-color: #d4ebff;}#sk-container-id-1 input.sk-hidden--visually {border: 0;clip: rect(1px 1px 1px 1px);clip: rect(1px, 1px, 1px, 1px);height: 1px;margin: -1px;overflow: hidden;padding: 0;position: absolute;width: 1px;}#sk-container-id-1 div.sk-estimator {font-family: monospace;background-color: #f0f8ff;border: 1px dotted black;border-radius: 0.25em;box-sizing: border-box;margin-bottom: 0.5em;}#sk-container-id-1 div.sk-estimator:hover {background-color: #d4ebff;}#sk-container-id-1 div.sk-parallel-item::after {content: \"\";width: 100%;border-bottom: 1px solid gray;flex-grow: 1;}#sk-container-id-1 div.sk-label:hover label.sk-toggleable__label {background-color: #d4ebff;}#sk-container-id-1 div.sk-serial::before {content: \"\";position: absolute;border-left: 1px solid gray;box-sizing: border-box;top: 0;bottom: 0;left: 50%;z-index: 0;}#sk-container-id-1 div.sk-serial {display: flex;flex-direction: column;align-items: center;background-color: white;padding-right: 0.2em;padding-left: 0.2em;position: relative;}#sk-container-id-1 div.sk-item {position: relative;z-index: 1;}#sk-container-id-1 div.sk-parallel {display: flex;align-items: stretch;justify-content: center;background-color: white;position: relative;}#sk-container-id-1 div.sk-item::before, #sk-container-id-1 div.sk-parallel-item::before {content: \"\";position: absolute;border-left: 1px solid gray;box-sizing: border-box;top: 0;bottom: 0;left: 50%;z-index: -1;}#sk-container-id-1 div.sk-parallel-item {display: flex;flex-direction: column;z-index: 1;position: relative;background-color: white;}#sk-container-id-1 div.sk-parallel-item:first-child::after {align-self: flex-end;width: 50%;}#sk-container-id-1 div.sk-parallel-item:last-child::after {align-self: flex-start;width: 50%;}#sk-container-id-1 div.sk-parallel-item:only-child::after {width: 0;}#sk-container-id-1 div.sk-dashed-wrapped {border: 1px dashed gray;margin: 0 0.4em 0.5em 0.4em;box-sizing: border-box;padding-bottom: 0.4em;background-color: white;}#sk-container-id-1 div.sk-label label {font-family: monospace;font-weight: bold;display: inline-block;line-height: 1.2em;}#sk-container-id-1 div.sk-label-container {text-align: center;}#sk-container-id-1 div.sk-container {/* jupyter's `normalize.less` sets `[hidden] { display: none; }` but bootstrap.min.css set `[hidden] { display: none !important; }` so we also need the `!important` here to be able to override the default hidden behavior on the sphinx rendered scikit-learn.org. See: https://github.com/scikit-learn/scikit-learn/issues/21755 */display: inline-block !important;position: relative;}#sk-container-id-1 div.sk-text-repr-fallback {display: none;}</style><div id=\"sk-container-id-1\" class=\"sk-top-container\"><div class=\"sk-text-repr-fallback\"><pre>SGDClassifier(random_state=0)</pre><b>In a Jupyter environment, please rerun this cell to show the HTML representation or trust the notebook. <br />On GitHub, the HTML representation is unable to render, please try loading this page with nbviewer.org.</b></div><div class=\"sk-container\" hidden><div class=\"sk-item\"><div class=\"sk-estimator sk-toggleable\"><input class=\"sk-toggleable__control sk-hidden--visually\" id=\"sk-estimator-id-1\" type=\"checkbox\" checked><label for=\"sk-estimator-id-1\" class=\"sk-toggleable__label sk-toggleable__label-arrow\">SGDClassifier</label><div class=\"sk-toggleable__content\"><pre>SGDClassifier(random_state=0)</pre></div></div></div></div></div>"
            ],
            "text/plain": [
              "SGDClassifier(random_state=0)"
            ]
          },
          "execution_count": 15,
          "metadata": {},
          "output_type": "execute_result"
        }
      ],
      "source": [
        "# Instanciamos la clase SGDClassifier dejando las configuración de hiperparámetros que trae por defecto\n",
        "\n",
        "clf = SGDClassifier(loss='hinge', penalty='l2', \n",
        "                    alpha=0.0001, l1_ratio=0.15, \n",
        "                    fit_intercept=True, max_iter=1000, \n",
        "                    tol=0.001, shuffle=True, verbose=0, \n",
        "                    epsilon=0.1, n_jobs=None, random_state=0, \n",
        "                    learning_rate='optimal', eta0=0.0, \n",
        "                    power_t=0.5, early_stopping=False, \n",
        "                    validation_fraction=0.1, \n",
        "                    n_iter_no_change=5, class_weight=None, \n",
        "                    warm_start=False, average=False)\n",
        "\n",
        "# Se entrena el modelo utilizando los datos de entrenamiento\n",
        "clf.fit(X2_train, y2_train)"
      ]
    },
    {
      "cell_type": "markdown",
      "metadata": {
        "id": "kjig262oNFeb"
      },
      "source": [
        "### Predecimos \n",
        "Para predecir, usamos la función predict:"
      ]
    },
    {
      "cell_type": "code",
      "execution_count": null,
      "metadata": {
        "id": "WYg4dRvYNFec"
      },
      "outputs": [],
      "source": [
        "# Utilizamos el modelo entrenado para predecir las etiquetas utilizando los datos de entrenamiento y de test\n",
        "y_train_pred = clf.predict(X2_train)\n",
        "y_test_pred = clf.predict(X2_test)\n"
      ]
    },
    {
      "cell_type": "markdown",
      "metadata": {
        "id": "WA9gxkq-NFec"
      },
      "source": [
        "### Evaluamos el modelo"
      ]
    },
    {
      "cell_type": "markdown",
      "metadata": {
        "id": "Au0oHbkmNFec"
      },
      "source": [
        "**Evaluar sobre el conjunto de entrenamiento y sobre el conjunto de evaluación, reportando:**\n",
        "\n",
        "- Accuracy\n",
        "- Precision\n",
        "- Recall\n",
        "- F1\n",
        "- matriz de confusión"
      ]
    },
    {
      "cell_type": "code",
      "execution_count": null,
      "metadata": {
        "id": "HGkWnquWNFec"
      },
      "outputs": [],
      "source": [
        "from sklearn.metrics import classification_report"
      ]
    },
    {
      "cell_type": "markdown",
      "metadata": {
        "id": "MJKvtym2NFec"
      },
      "source": [
        "#### Sobre el conjunto de entrenamiento"
      ]
    },
    {
      "cell_type": "code",
      "execution_count": null,
      "metadata": {
        "id": "uGNdnKVGNFed",
        "outputId": "f4a89c56-2075-4586-fe34-6bad4b332f2a"
      },
      "outputs": [
        {
          "name": "stdout",
          "output_type": "stream",
          "text": [
            "              precision    recall  f1-score   support\n",
            "\n",
            "           0       0.89      0.95      0.92      1232\n",
            "           1       0.63      0.43      0.51       251\n",
            "\n",
            "    accuracy                           0.86      1483\n",
            "   macro avg       0.76      0.69      0.72      1483\n",
            "weighted avg       0.85      0.86      0.85      1483\n",
            "\n"
          ]
        }
      ],
      "source": [
        "print(classification_report(y2_train, y_train_pred))"
      ]
    },
    {
      "cell_type": "markdown",
      "metadata": {
        "id": "v6GkLRO5NFed"
      },
      "source": [
        "#### Sobre el conjunto de evaluación"
      ]
    },
    {
      "cell_type": "code",
      "execution_count": null,
      "metadata": {
        "id": "GCzyKNNQNFed",
        "outputId": "447940a0-31d1-471a-eb0d-d6b34682e3de",
        "scrolled": false
      },
      "outputs": [
        {
          "name": "stdout",
          "output_type": "stream",
          "text": [
            "              precision    recall  f1-score   support\n",
            "\n",
            "           0       0.89      0.95      0.92       313\n",
            "           1       0.57      0.40      0.47        58\n",
            "\n",
            "    accuracy                           0.86       371\n",
            "   macro avg       0.73      0.67      0.69       371\n",
            "weighted avg       0.84      0.86      0.85       371\n",
            "\n"
          ]
        }
      ],
      "source": [
        "print(classification_report(y2_test, y_test_pred))"
      ]
    },
    {
      "cell_type": "markdown",
      "metadata": {
        "id": "V2LVgO4bNFed"
      },
      "source": [
        "#### Matriz de confusión"
      ]
    },
    {
      "cell_type": "code",
      "execution_count": null,
      "metadata": {
        "id": "ZOdoZxCpNFed",
        "outputId": "be56d415-8d8f-48b4-85fd-6efbde151093"
      },
      "outputs": [
        {
          "data": {
            "text/plain": [
              "array([[296,  17],\n",
              "       [ 35,  23]], dtype=int64)"
            ]
          },
          "execution_count": 20,
          "metadata": {},
          "output_type": "execute_result"
        }
      ],
      "source": [
        "from sklearn.metrics import confusion_matrix\n",
        "confusion_matrix(y2_test, y_test_pred)"
      ]
    },
    {
      "cell_type": "code",
      "execution_count": null,
      "metadata": {
        "id": "L2ongGpbNFee",
        "outputId": "11f9f332-39fe-4fac-8f01-3ef9cdd23977"
      },
      "outputs": [
        {
          "data": {
            "text/plain": [
              "array([[296,  17],\n",
              "       [ 35,  23]], dtype=int64)"
            ]
          },
          "execution_count": 21,
          "metadata": {},
          "output_type": "execute_result"
        }
      ],
      "source": [
        "cm = confusion_matrix(y2_test, y_test_pred, labels=[0, 1])\n",
        "cm"
      ]
    },
    {
      "cell_type": "code",
      "execution_count": null,
      "metadata": {
        "id": "8syj5yYzNFef",
        "outputId": "e406200d-f5e0-449b-92a9-1b1b817cfcd5"
      },
      "outputs": [
        {
          "data": {
            "image/png": "[encoded data removed]",
            "text/plain": [
              "<Figure size 432x288 with 2 Axes>"
            ]
          },
          "metadata": {
            "needs_background": "light"
          },
          "output_type": "display_data"
        }
      ],
      "source": [
        "from utils import plot_confusion_matrix\n",
        "\n",
        "plot_confusion_matrix(cm, [0,1])"
      ]
    },
    {
      "cell_type": "code",
      "execution_count": null,
      "metadata": {
        "id": "I_nkkH4XNFef",
        "outputId": "e42379d7-e934-4b1f-a77a-56e4900d0355",
        "scrolled": false
      },
      "outputs": [
        {
          "data": {
            "text/html": [
              "<div>\n",
              "<style scoped>\n",
              "    .dataframe tbody tr th:only-of-type {\n",
              "        vertical-align: middle;\n",
              "    }\n",
              "\n",
              "    .dataframe tbody tr th {\n",
              "        vertical-align: top;\n",
              "    }\n",
              "\n",
              "    .dataframe thead th {\n",
              "        text-align: right;\n",
              "    }\n",
              "</style>\n",
              "<table border=\"1\" class=\"dataframe\">\n",
              "  <thead>\n",
              "    <tr style=\"text-align: right;\">\n",
              "      <th></th>\n",
              "      <th>etiqueta_original</th>\n",
              "      <th>predicción</th>\n",
              "    </tr>\n",
              "  </thead>\n",
              "  <tbody>\n",
              "    <tr>\n",
              "      <th>1670</th>\n",
              "      <td>1</td>\n",
              "      <td>0</td>\n",
              "    </tr>\n",
              "    <tr>\n",
              "      <th>1683</th>\n",
              "      <td>1</td>\n",
              "      <td>1</td>\n",
              "    </tr>\n",
              "    <tr>\n",
              "      <th>1586</th>\n",
              "      <td>1</td>\n",
              "      <td>0</td>\n",
              "    </tr>\n",
              "    <tr>\n",
              "      <th>1718</th>\n",
              "      <td>1</td>\n",
              "      <td>0</td>\n",
              "    </tr>\n",
              "    <tr>\n",
              "      <th>1775</th>\n",
              "      <td>1</td>\n",
              "      <td>0</td>\n",
              "    </tr>\n",
              "    <tr>\n",
              "      <th>...</th>\n",
              "      <td>...</td>\n",
              "      <td>...</td>\n",
              "    </tr>\n",
              "    <tr>\n",
              "      <th>1058</th>\n",
              "      <td>0</td>\n",
              "      <td>0</td>\n",
              "    </tr>\n",
              "    <tr>\n",
              "      <th>1161</th>\n",
              "      <td>0</td>\n",
              "      <td>0</td>\n",
              "    </tr>\n",
              "    <tr>\n",
              "      <th>768</th>\n",
              "      <td>0</td>\n",
              "      <td>1</td>\n",
              "    </tr>\n",
              "    <tr>\n",
              "      <th>1282</th>\n",
              "      <td>0</td>\n",
              "      <td>0</td>\n",
              "    </tr>\n",
              "    <tr>\n",
              "      <th>233</th>\n",
              "      <td>0</td>\n",
              "      <td>0</td>\n",
              "    </tr>\n",
              "  </tbody>\n",
              "</table>\n",
              "<p>371 rows × 2 columns</p>\n",
              "</div>"
            ],
            "text/plain": [
              "      etiqueta_original  predicción\n",
              "1670                  1           0\n",
              "1683                  1           1\n",
              "1586                  1           0\n",
              "1718                  1           0\n",
              "1775                  1           0\n",
              "...                 ...         ...\n",
              "1058                  0           0\n",
              "1161                  0           0\n",
              "768                   0           1\n",
              "1282                  0           0\n",
              "233                   0           0\n",
              "\n",
              "[371 rows x 2 columns]"
            ]
          },
          "execution_count": 23,
          "metadata": {},
          "output_type": "execute_result"
        }
      ],
      "source": [
        "# Se visualiza como una Dataframe las etiquetas originales y las etiquetas predichas\n",
        "df_importancia_2 = pd.DataFrame({\n",
        "                                #'features':features,\n",
        "                                'etiqueta_original':y2_test,\n",
        "                                'predicción': y_test_pred\n",
        "                                })\n",
        "df_importancia_2.sort_values(by='etiqueta_original', ascending=False, inplace=True)\n",
        "df_importancia_2"
      ]
    },
    {
      "cell_type": "code",
      "execution_count": null,
      "metadata": {
        "id": "joRRT55NNFef",
        "outputId": "3f3f15a6-a1de-4522-bdf1-c95a7bfafce4",
        "scrolled": false
      },
      "outputs": [
        {
          "data": {
            "text/html": [
              "<div>\n",
              "<style scoped>\n",
              "    .dataframe tbody tr th:only-of-type {\n",
              "        vertical-align: middle;\n",
              "    }\n",
              "\n",
              "    .dataframe tbody tr th {\n",
              "        vertical-align: top;\n",
              "    }\n",
              "\n",
              "    .dataframe thead th {\n",
              "        text-align: right;\n",
              "    }\n",
              "</style>\n",
              "<table border=\"1\" class=\"dataframe\">\n",
              "  <thead>\n",
              "    <tr style=\"text-align: right;\">\n",
              "      <th></th>\n",
              "      <th>etiqueta_original</th>\n",
              "      <th>predicción</th>\n",
              "    </tr>\n",
              "  </thead>\n",
              "  <tbody>\n",
              "    <tr>\n",
              "      <th>1670</th>\n",
              "      <td>1</td>\n",
              "      <td>0</td>\n",
              "    </tr>\n",
              "    <tr>\n",
              "      <th>1586</th>\n",
              "      <td>1</td>\n",
              "      <td>0</td>\n",
              "    </tr>\n",
              "    <tr>\n",
              "      <th>1718</th>\n",
              "      <td>1</td>\n",
              "      <td>0</td>\n",
              "    </tr>\n",
              "    <tr>\n",
              "      <th>1775</th>\n",
              "      <td>1</td>\n",
              "      <td>0</td>\n",
              "    </tr>\n",
              "    <tr>\n",
              "      <th>1546</th>\n",
              "      <td>1</td>\n",
              "      <td>0</td>\n",
              "    </tr>\n",
              "    <tr>\n",
              "      <th>1558</th>\n",
              "      <td>1</td>\n",
              "      <td>0</td>\n",
              "    </tr>\n",
              "    <tr>\n",
              "      <th>1646</th>\n",
              "      <td>1</td>\n",
              "      <td>0</td>\n",
              "    </tr>\n",
              "    <tr>\n",
              "      <th>1599</th>\n",
              "      <td>1</td>\n",
              "      <td>0</td>\n",
              "    </tr>\n",
              "    <tr>\n",
              "      <th>1811</th>\n",
              "      <td>1</td>\n",
              "      <td>0</td>\n",
              "    </tr>\n",
              "    <tr>\n",
              "      <th>1764</th>\n",
              "      <td>1</td>\n",
              "      <td>0</td>\n",
              "    </tr>\n",
              "    <tr>\n",
              "      <th>1728</th>\n",
              "      <td>1</td>\n",
              "      <td>0</td>\n",
              "    </tr>\n",
              "    <tr>\n",
              "      <th>1784</th>\n",
              "      <td>1</td>\n",
              "      <td>0</td>\n",
              "    </tr>\n",
              "    <tr>\n",
              "      <th>1659</th>\n",
              "      <td>1</td>\n",
              "      <td>0</td>\n",
              "    </tr>\n",
              "    <tr>\n",
              "      <th>1592</th>\n",
              "      <td>1</td>\n",
              "      <td>0</td>\n",
              "    </tr>\n",
              "    <tr>\n",
              "      <th>1700</th>\n",
              "      <td>1</td>\n",
              "      <td>0</td>\n",
              "    </tr>\n",
              "    <tr>\n",
              "      <th>1720</th>\n",
              "      <td>1</td>\n",
              "      <td>0</td>\n",
              "    </tr>\n",
              "    <tr>\n",
              "      <th>1623</th>\n",
              "      <td>1</td>\n",
              "      <td>0</td>\n",
              "    </tr>\n",
              "    <tr>\n",
              "      <th>1705</th>\n",
              "      <td>1</td>\n",
              "      <td>0</td>\n",
              "    </tr>\n",
              "    <tr>\n",
              "      <th>1617</th>\n",
              "      <td>1</td>\n",
              "      <td>0</td>\n",
              "    </tr>\n",
              "    <tr>\n",
              "      <th>1602</th>\n",
              "      <td>1</td>\n",
              "      <td>0</td>\n",
              "    </tr>\n",
              "    <tr>\n",
              "      <th>1803</th>\n",
              "      <td>1</td>\n",
              "      <td>0</td>\n",
              "    </tr>\n",
              "    <tr>\n",
              "      <th>1606</th>\n",
              "      <td>1</td>\n",
              "      <td>0</td>\n",
              "    </tr>\n",
              "    <tr>\n",
              "      <th>1553</th>\n",
              "      <td>1</td>\n",
              "      <td>0</td>\n",
              "    </tr>\n",
              "    <tr>\n",
              "      <th>1742</th>\n",
              "      <td>1</td>\n",
              "      <td>0</td>\n",
              "    </tr>\n",
              "    <tr>\n",
              "      <th>1656</th>\n",
              "      <td>1</td>\n",
              "      <td>0</td>\n",
              "    </tr>\n",
              "    <tr>\n",
              "      <th>1715</th>\n",
              "      <td>1</td>\n",
              "      <td>0</td>\n",
              "    </tr>\n",
              "    <tr>\n",
              "      <th>1727</th>\n",
              "      <td>1</td>\n",
              "      <td>0</td>\n",
              "    </tr>\n",
              "    <tr>\n",
              "      <th>1833</th>\n",
              "      <td>1</td>\n",
              "      <td>0</td>\n",
              "    </tr>\n",
              "    <tr>\n",
              "      <th>1783</th>\n",
              "      <td>1</td>\n",
              "      <td>0</td>\n",
              "    </tr>\n",
              "    <tr>\n",
              "      <th>1547</th>\n",
              "      <td>1</td>\n",
              "      <td>0</td>\n",
              "    </tr>\n",
              "    <tr>\n",
              "      <th>1841</th>\n",
              "      <td>1</td>\n",
              "      <td>0</td>\n",
              "    </tr>\n",
              "    <tr>\n",
              "      <th>1625</th>\n",
              "      <td>1</td>\n",
              "      <td>0</td>\n",
              "    </tr>\n",
              "    <tr>\n",
              "      <th>1702</th>\n",
              "      <td>1</td>\n",
              "      <td>0</td>\n",
              "    </tr>\n",
              "    <tr>\n",
              "      <th>1669</th>\n",
              "      <td>1</td>\n",
              "      <td>0</td>\n",
              "    </tr>\n",
              "    <tr>\n",
              "      <th>1629</th>\n",
              "      <td>1</td>\n",
              "      <td>0</td>\n",
              "    </tr>\n",
              "    <tr>\n",
              "      <th>82</th>\n",
              "      <td>0</td>\n",
              "      <td>1</td>\n",
              "    </tr>\n",
              "    <tr>\n",
              "      <th>54</th>\n",
              "      <td>0</td>\n",
              "      <td>1</td>\n",
              "    </tr>\n",
              "    <tr>\n",
              "      <th>279</th>\n",
              "      <td>0</td>\n",
              "      <td>1</td>\n",
              "    </tr>\n",
              "    <tr>\n",
              "      <th>823</th>\n",
              "      <td>0</td>\n",
              "      <td>1</td>\n",
              "    </tr>\n",
              "    <tr>\n",
              "      <th>322</th>\n",
              "      <td>0</td>\n",
              "      <td>1</td>\n",
              "    </tr>\n",
              "    <tr>\n",
              "      <th>1362</th>\n",
              "      <td>0</td>\n",
              "      <td>1</td>\n",
              "    </tr>\n",
              "    <tr>\n",
              "      <th>251</th>\n",
              "      <td>0</td>\n",
              "      <td>1</td>\n",
              "    </tr>\n",
              "    <tr>\n",
              "      <th>985</th>\n",
              "      <td>0</td>\n",
              "      <td>1</td>\n",
              "    </tr>\n",
              "    <tr>\n",
              "      <th>175</th>\n",
              "      <td>0</td>\n",
              "      <td>1</td>\n",
              "    </tr>\n",
              "    <tr>\n",
              "      <th>425</th>\n",
              "      <td>0</td>\n",
              "      <td>1</td>\n",
              "    </tr>\n",
              "    <tr>\n",
              "      <th>1456</th>\n",
              "      <td>0</td>\n",
              "      <td>1</td>\n",
              "    </tr>\n",
              "    <tr>\n",
              "      <th>1262</th>\n",
              "      <td>0</td>\n",
              "      <td>1</td>\n",
              "    </tr>\n",
              "    <tr>\n",
              "      <th>1070</th>\n",
              "      <td>0</td>\n",
              "      <td>1</td>\n",
              "    </tr>\n",
              "    <tr>\n",
              "      <th>997</th>\n",
              "      <td>0</td>\n",
              "      <td>1</td>\n",
              "    </tr>\n",
              "    <tr>\n",
              "      <th>652</th>\n",
              "      <td>0</td>\n",
              "      <td>1</td>\n",
              "    </tr>\n",
              "    <tr>\n",
              "      <th>161</th>\n",
              "      <td>0</td>\n",
              "      <td>1</td>\n",
              "    </tr>\n",
              "    <tr>\n",
              "      <th>768</th>\n",
              "      <td>0</td>\n",
              "      <td>1</td>\n",
              "    </tr>\n",
              "  </tbody>\n",
              "</table>\n",
              "</div>"
            ],
            "text/plain": [
              "      etiqueta_original  predicción\n",
              "1670                  1           0\n",
              "1586                  1           0\n",
              "1718                  1           0\n",
              "1775                  1           0\n",
              "1546                  1           0\n",
              "1558                  1           0\n",
              "1646                  1           0\n",
              "1599                  1           0\n",
              "1811                  1           0\n",
              "1764                  1           0\n",
              "1728                  1           0\n",
              "1784                  1           0\n",
              "1659                  1           0\n",
              "1592                  1           0\n",
              "1700                  1           0\n",
              "1720                  1           0\n",
              "1623                  1           0\n",
              "1705                  1           0\n",
              "1617                  1           0\n",
              "1602                  1           0\n",
              "1803                  1           0\n",
              "1606                  1           0\n",
              "1553                  1           0\n",
              "1742                  1           0\n",
              "1656                  1           0\n",
              "1715                  1           0\n",
              "1727                  1           0\n",
              "1833                  1           0\n",
              "1783                  1           0\n",
              "1547                  1           0\n",
              "1841                  1           0\n",
              "1625                  1           0\n",
              "1702                  1           0\n",
              "1669                  1           0\n",
              "1629                  1           0\n",
              "82                    0           1\n",
              "54                    0           1\n",
              "279                   0           1\n",
              "823                   0           1\n",
              "322                   0           1\n",
              "1362                  0           1\n",
              "251                   0           1\n",
              "985                   0           1\n",
              "175                   0           1\n",
              "425                   0           1\n",
              "1456                  0           1\n",
              "1262                  0           1\n",
              "1070                  0           1\n",
              "997                   0           1\n",
              "652                   0           1\n",
              "161                   0           1\n",
              "768                   0           1"
            ]
          },
          "execution_count": 24,
          "metadata": {},
          "output_type": "execute_result"
        }
      ],
      "source": [
        "# Se visualizan las observaciones que no fueron correctamente predichas por el modelo\n",
        "\n",
        "df_importancia_3 = df_importancia_2[df_importancia_2.etiqueta_original!=df_importancia_2.predicción]\n",
        "df_importancia_3"
      ]
    },
    {
      "cell_type": "code",
      "execution_count": null,
      "metadata": {
        "id": "NZLlbOkTNFeg",
        "outputId": "dc62159e-52d5-4a8c-b20f-c914a1ce744a"
      },
      "outputs": [
        {
          "data": {
            "text/plain": [
              "(52, 2)"
            ]
          },
          "execution_count": 25,
          "metadata": {},
          "output_type": "execute_result"
        }
      ],
      "source": [
        "# Verificamos los casos mal etiquetados\n",
        "df_importancia_3.shape"
      ]
    },
    {
      "cell_type": "markdown",
      "metadata": {
        "id": "PfVd1U8_qA2b"
      },
      "source": [
        "### Ejercicio 2.2: Ajuste de Hiperparámetros\n",
        "\n",
        "Seleccionar valores para los hiperparámetros principales del SGDClassifier. Como mínimo, probar diferentes funciones de loss, tasas de entrenamiento y tasas de regularización.\n",
        "\n",
        "Para ello, usar grid-search y 5-fold cross-validation sobre el conjunto de entrenamiento para explorar muchas combinaciones posibles de valores.\n",
        "\n",
        "Reportar accuracy promedio y varianza para todas las configuraciones.\n",
        "\n",
        "Para la mejor configuración encontrada, evaluar sobre el conjunto de **entrenamiento** y sobre el conjunto de **evaluación**, reportando:\n",
        "- Accuracy\n",
        "- Precision\n",
        "- Recall\n",
        "- F1\n",
        "- matriz de confusión\n",
        "\n",
        "Documentación:\n",
        "- https://scikit-learn.org/stable/modules/grid_search.html\n",
        "- https://scikit-learn.org/stable/modules/generated/sklearn.model_selection.GridSearchCV.html"
      ]
    },
    {
      "cell_type": "markdown",
      "metadata": {
        "id": "cB0n-uphNFeg"
      },
      "source": [
        "#### Seleccionamos valores para los hiperparámetros que vamos a probar"
      ]
    },
    {
      "cell_type": "code",
      "execution_count": null,
      "metadata": {
        "id": "HqgENLNfNFeh"
      },
      "outputs": [],
      "source": [
        "from sklearn.model_selection import ParameterGrid\n",
        "from sklearn.model_selection import GridSearchCV\n",
        "\n",
        "# Se define un diccionario con los distintos valores de los hiperparámetros que van a ser evaluados\n",
        "parameter_options = {'loss' : ['hinge','log_loss','modified_huber'], # función de pérdida\n",
        "        'learning_rate' : ['constant','adaptive','optimal'], # tasa de aprendizaje\n",
        "        'penalty' : ['l2', 'l1', 'elasticnet'],\n",
        "        'eta0' :[0.01,0.05,1, 2] } # regularizador\n"
      ]
    },
    {
      "cell_type": "code",
      "execution_count": null,
      "metadata": {
        "id": "x1ojimCtNFeh",
        "outputId": "94adf7d2-386a-47d7-c984-2c21d62be7d5",
        "scrolled": false
      },
      "outputs": [
        {
          "name": "stdout",
          "output_type": "stream",
          "text": [
            "{'eta0': 0.01, 'learning_rate': 'constant', 'loss': 'hinge', 'penalty': 'l2'}\n",
            "{'eta0': 0.01, 'learning_rate': 'constant', 'loss': 'hinge', 'penalty': 'l1'}\n",
            "{'eta0': 0.01, 'learning_rate': 'constant', 'loss': 'hinge', 'penalty': 'elasticnet'}\n",
            "{'eta0': 0.01, 'learning_rate': 'constant', 'loss': 'log_loss', 'penalty': 'l2'}\n",
            "{'eta0': 0.01, 'learning_rate': 'constant', 'loss': 'log_loss', 'penalty': 'l1'}\n",
            "{'eta0': 0.01, 'learning_rate': 'constant', 'loss': 'log_loss', 'penalty': 'elasticnet'}\n",
            "{'eta0': 0.01, 'learning_rate': 'constant', 'loss': 'modified_huber', 'penalty': 'l2'}\n",
            "{'eta0': 0.01, 'learning_rate': 'constant', 'loss': 'modified_huber', 'penalty': 'l1'}\n",
            "{'eta0': 0.01, 'learning_rate': 'constant', 'loss': 'modified_huber', 'penalty': 'elasticnet'}\n",
            "{'eta0': 0.01, 'learning_rate': 'adaptive', 'loss': 'hinge', 'penalty': 'l2'}\n",
            "{'eta0': 0.01, 'learning_rate': 'adaptive', 'loss': 'hinge', 'penalty': 'l1'}\n",
            "{'eta0': 0.01, 'learning_rate': 'adaptive', 'loss': 'hinge', 'penalty': 'elasticnet'}\n",
            "{'eta0': 0.01, 'learning_rate': 'adaptive', 'loss': 'log_loss', 'penalty': 'l2'}\n",
            "{'eta0': 0.01, 'learning_rate': 'adaptive', 'loss': 'log_loss', 'penalty': 'l1'}\n",
            "{'eta0': 0.01, 'learning_rate': 'adaptive', 'loss': 'log_loss', 'penalty': 'elasticnet'}\n",
            "{'eta0': 0.01, 'learning_rate': 'adaptive', 'loss': 'modified_huber', 'penalty': 'l2'}\n",
            "{'eta0': 0.01, 'learning_rate': 'adaptive', 'loss': 'modified_huber', 'penalty': 'l1'}\n",
            "{'eta0': 0.01, 'learning_rate': 'adaptive', 'loss': 'modified_huber', 'penalty': 'elasticnet'}\n",
            "{'eta0': 0.01, 'learning_rate': 'optimal', 'loss': 'hinge', 'penalty': 'l2'}\n",
            "{'eta0': 0.01, 'learning_rate': 'optimal', 'loss': 'hinge', 'penalty': 'l1'}\n",
            "{'eta0': 0.01, 'learning_rate': 'optimal', 'loss': 'hinge', 'penalty': 'elasticnet'}\n",
            "{'eta0': 0.01, 'learning_rate': 'optimal', 'loss': 'log_loss', 'penalty': 'l2'}\n",
            "{'eta0': 0.01, 'learning_rate': 'optimal', 'loss': 'log_loss', 'penalty': 'l1'}\n",
            "{'eta0': 0.01, 'learning_rate': 'optimal', 'loss': 'log_loss', 'penalty': 'elasticnet'}\n",
            "{'eta0': 0.01, 'learning_rate': 'optimal', 'loss': 'modified_huber', 'penalty': 'l2'}\n",
            "{'eta0': 0.01, 'learning_rate': 'optimal', 'loss': 'modified_huber', 'penalty': 'l1'}\n",
            "{'eta0': 0.01, 'learning_rate': 'optimal', 'loss': 'modified_huber', 'penalty': 'elasticnet'}\n",
            "{'eta0': 0.05, 'learning_rate': 'constant', 'loss': 'hinge', 'penalty': 'l2'}\n",
            "{'eta0': 0.05, 'learning_rate': 'constant', 'loss': 'hinge', 'penalty': 'l1'}\n",
            "{'eta0': 0.05, 'learning_rate': 'constant', 'loss': 'hinge', 'penalty': 'elasticnet'}\n",
            "{'eta0': 0.05, 'learning_rate': 'constant', 'loss': 'log_loss', 'penalty': 'l2'}\n",
            "{'eta0': 0.05, 'learning_rate': 'constant', 'loss': 'log_loss', 'penalty': 'l1'}\n",
            "{'eta0': 0.05, 'learning_rate': 'constant', 'loss': 'log_loss', 'penalty': 'elasticnet'}\n",
            "{'eta0': 0.05, 'learning_rate': 'constant', 'loss': 'modified_huber', 'penalty': 'l2'}\n",
            "{'eta0': 0.05, 'learning_rate': 'constant', 'loss': 'modified_huber', 'penalty': 'l1'}\n",
            "{'eta0': 0.05, 'learning_rate': 'constant', 'loss': 'modified_huber', 'penalty': 'elasticnet'}\n",
            "{'eta0': 0.05, 'learning_rate': 'adaptive', 'loss': 'hinge', 'penalty': 'l2'}\n",
            "{'eta0': 0.05, 'learning_rate': 'adaptive', 'loss': 'hinge', 'penalty': 'l1'}\n",
            "{'eta0': 0.05, 'learning_rate': 'adaptive', 'loss': 'hinge', 'penalty': 'elasticnet'}\n",
            "{'eta0': 0.05, 'learning_rate': 'adaptive', 'loss': 'log_loss', 'penalty': 'l2'}\n",
            "{'eta0': 0.05, 'learning_rate': 'adaptive', 'loss': 'log_loss', 'penalty': 'l1'}\n",
            "{'eta0': 0.05, 'learning_rate': 'adaptive', 'loss': 'log_loss', 'penalty': 'elasticnet'}\n",
            "{'eta0': 0.05, 'learning_rate': 'adaptive', 'loss': 'modified_huber', 'penalty': 'l2'}\n",
            "{'eta0': 0.05, 'learning_rate': 'adaptive', 'loss': 'modified_huber', 'penalty': 'l1'}\n",
            "{'eta0': 0.05, 'learning_rate': 'adaptive', 'loss': 'modified_huber', 'penalty': 'elasticnet'}\n",
            "{'eta0': 0.05, 'learning_rate': 'optimal', 'loss': 'hinge', 'penalty': 'l2'}\n",
            "{'eta0': 0.05, 'learning_rate': 'optimal', 'loss': 'hinge', 'penalty': 'l1'}\n",
            "{'eta0': 0.05, 'learning_rate': 'optimal', 'loss': 'hinge', 'penalty': 'elasticnet'}\n",
            "{'eta0': 0.05, 'learning_rate': 'optimal', 'loss': 'log_loss', 'penalty': 'l2'}\n",
            "{'eta0': 0.05, 'learning_rate': 'optimal', 'loss': 'log_loss', 'penalty': 'l1'}\n",
            "{'eta0': 0.05, 'learning_rate': 'optimal', 'loss': 'log_loss', 'penalty': 'elasticnet'}\n",
            "{'eta0': 0.05, 'learning_rate': 'optimal', 'loss': 'modified_huber', 'penalty': 'l2'}\n",
            "{'eta0': 0.05, 'learning_rate': 'optimal', 'loss': 'modified_huber', 'penalty': 'l1'}\n",
            "{'eta0': 0.05, 'learning_rate': 'optimal', 'loss': 'modified_huber', 'penalty': 'elasticnet'}\n",
            "{'eta0': 1, 'learning_rate': 'constant', 'loss': 'hinge', 'penalty': 'l2'}\n",
            "{'eta0': 1, 'learning_rate': 'constant', 'loss': 'hinge', 'penalty': 'l1'}\n",
            "{'eta0': 1, 'learning_rate': 'constant', 'loss': 'hinge', 'penalty': 'elasticnet'}\n",
            "{'eta0': 1, 'learning_rate': 'constant', 'loss': 'log_loss', 'penalty': 'l2'}\n",
            "{'eta0': 1, 'learning_rate': 'constant', 'loss': 'log_loss', 'penalty': 'l1'}\n",
            "{'eta0': 1, 'learning_rate': 'constant', 'loss': 'log_loss', 'penalty': 'elasticnet'}\n",
            "{'eta0': 1, 'learning_rate': 'constant', 'loss': 'modified_huber', 'penalty': 'l2'}\n",
            "{'eta0': 1, 'learning_rate': 'constant', 'loss': 'modified_huber', 'penalty': 'l1'}\n",
            "{'eta0': 1, 'learning_rate': 'constant', 'loss': 'modified_huber', 'penalty': 'elasticnet'}\n",
            "{'eta0': 1, 'learning_rate': 'adaptive', 'loss': 'hinge', 'penalty': 'l2'}\n",
            "{'eta0': 1, 'learning_rate': 'adaptive', 'loss': 'hinge', 'penalty': 'l1'}\n",
            "{'eta0': 1, 'learning_rate': 'adaptive', 'loss': 'hinge', 'penalty': 'elasticnet'}\n",
            "{'eta0': 1, 'learning_rate': 'adaptive', 'loss': 'log_loss', 'penalty': 'l2'}\n",
            "{'eta0': 1, 'learning_rate': 'adaptive', 'loss': 'log_loss', 'penalty': 'l1'}\n",
            "{'eta0': 1, 'learning_rate': 'adaptive', 'loss': 'log_loss', 'penalty': 'elasticnet'}\n",
            "{'eta0': 1, 'learning_rate': 'adaptive', 'loss': 'modified_huber', 'penalty': 'l2'}\n",
            "{'eta0': 1, 'learning_rate': 'adaptive', 'loss': 'modified_huber', 'penalty': 'l1'}\n",
            "{'eta0': 1, 'learning_rate': 'adaptive', 'loss': 'modified_huber', 'penalty': 'elasticnet'}\n",
            "{'eta0': 1, 'learning_rate': 'optimal', 'loss': 'hinge', 'penalty': 'l2'}\n",
            "{'eta0': 1, 'learning_rate': 'optimal', 'loss': 'hinge', 'penalty': 'l1'}\n",
            "{'eta0': 1, 'learning_rate': 'optimal', 'loss': 'hinge', 'penalty': 'elasticnet'}\n",
            "{'eta0': 1, 'learning_rate': 'optimal', 'loss': 'log_loss', 'penalty': 'l2'}\n",
            "{'eta0': 1, 'learning_rate': 'optimal', 'loss': 'log_loss', 'penalty': 'l1'}\n",
            "{'eta0': 1, 'learning_rate': 'optimal', 'loss': 'log_loss', 'penalty': 'elasticnet'}\n",
            "{'eta0': 1, 'learning_rate': 'optimal', 'loss': 'modified_huber', 'penalty': 'l2'}\n",
            "{'eta0': 1, 'learning_rate': 'optimal', 'loss': 'modified_huber', 'penalty': 'l1'}\n",
            "{'eta0': 1, 'learning_rate': 'optimal', 'loss': 'modified_huber', 'penalty': 'elasticnet'}\n",
            "{'eta0': 2, 'learning_rate': 'constant', 'loss': 'hinge', 'penalty': 'l2'}\n",
            "{'eta0': 2, 'learning_rate': 'constant', 'loss': 'hinge', 'penalty': 'l1'}\n",
            "{'eta0': 2, 'learning_rate': 'constant', 'loss': 'hinge', 'penalty': 'elasticnet'}\n",
            "{'eta0': 2, 'learning_rate': 'constant', 'loss': 'log_loss', 'penalty': 'l2'}\n",
            "{'eta0': 2, 'learning_rate': 'constant', 'loss': 'log_loss', 'penalty': 'l1'}\n",
            "{'eta0': 2, 'learning_rate': 'constant', 'loss': 'log_loss', 'penalty': 'elasticnet'}\n",
            "{'eta0': 2, 'learning_rate': 'constant', 'loss': 'modified_huber', 'penalty': 'l2'}\n",
            "{'eta0': 2, 'learning_rate': 'constant', 'loss': 'modified_huber', 'penalty': 'l1'}\n",
            "{'eta0': 2, 'learning_rate': 'constant', 'loss': 'modified_huber', 'penalty': 'elasticnet'}\n",
            "{'eta0': 2, 'learning_rate': 'adaptive', 'loss': 'hinge', 'penalty': 'l2'}\n",
            "{'eta0': 2, 'learning_rate': 'adaptive', 'loss': 'hinge', 'penalty': 'l1'}\n",
            "{'eta0': 2, 'learning_rate': 'adaptive', 'loss': 'hinge', 'penalty': 'elasticnet'}\n",
            "{'eta0': 2, 'learning_rate': 'adaptive', 'loss': 'log_loss', 'penalty': 'l2'}\n",
            "{'eta0': 2, 'learning_rate': 'adaptive', 'loss': 'log_loss', 'penalty': 'l1'}\n",
            "{'eta0': 2, 'learning_rate': 'adaptive', 'loss': 'log_loss', 'penalty': 'elasticnet'}\n",
            "{'eta0': 2, 'learning_rate': 'adaptive', 'loss': 'modified_huber', 'penalty': 'l2'}\n",
            "{'eta0': 2, 'learning_rate': 'adaptive', 'loss': 'modified_huber', 'penalty': 'l1'}\n",
            "{'eta0': 2, 'learning_rate': 'adaptive', 'loss': 'modified_huber', 'penalty': 'elasticnet'}\n",
            "{'eta0': 2, 'learning_rate': 'optimal', 'loss': 'hinge', 'penalty': 'l2'}\n",
            "{'eta0': 2, 'learning_rate': 'optimal', 'loss': 'hinge', 'penalty': 'l1'}\n",
            "{'eta0': 2, 'learning_rate': 'optimal', 'loss': 'hinge', 'penalty': 'elasticnet'}\n",
            "{'eta0': 2, 'learning_rate': 'optimal', 'loss': 'log_loss', 'penalty': 'l2'}\n",
            "{'eta0': 2, 'learning_rate': 'optimal', 'loss': 'log_loss', 'penalty': 'l1'}\n",
            "{'eta0': 2, 'learning_rate': 'optimal', 'loss': 'log_loss', 'penalty': 'elasticnet'}\n",
            "{'eta0': 2, 'learning_rate': 'optimal', 'loss': 'modified_huber', 'penalty': 'l2'}\n",
            "{'eta0': 2, 'learning_rate': 'optimal', 'loss': 'modified_huber', 'penalty': 'l1'}\n",
            "{'eta0': 2, 'learning_rate': 'optimal', 'loss': 'modified_huber', 'penalty': 'elasticnet'}\n"
          ]
        }
      ],
      "source": [
        "# Se visualizan todas las combinaciones de parámetros que se van a evaluar\n",
        "for params in ParameterGrid(parameter_options):\n",
        "    print(params)"
      ]
    },
    {
      "cell_type": "code",
      "execution_count": null,
      "metadata": {
        "id": "zjC7RbZVNFeh"
      },
      "outputs": [],
      "source": [
        "# GridSearchCV implementa un método de \"ajuste\" y \"puntuación\". Lo definimos y configuramos:\n",
        "clf_grid = GridSearchCV(SGDClassifier(random_state=0),param_grid=parameter_options, cv=5)\n"
      ]
    },
    {
      "cell_type": "markdown",
      "metadata": {
        "id": "EN505NmINFen"
      },
      "source": [
        "#### Buscamos los mejores hiperparámentros"
      ]
    },
    {
      "cell_type": "code",
      "execution_count": null,
      "metadata": {
        "id": "5HeSxMQBNFen",
        "outputId": "457d929a-e190-4e43-8d3e-61b020246486"
      },
      "outputs": [
        {
          "data": {
            "text/html": [
              "<style>#sk-container-id-2 {color: black;background-color: white;}#sk-container-id-2 pre{padding: 0;}#sk-container-id-2 div.sk-toggleable {background-color: white;}#sk-container-id-2 label.sk-toggleable__label {cursor: pointer;display: block;width: 100%;margin-bottom: 0;padding: 0.3em;box-sizing: border-box;text-align: center;}#sk-container-id-2 label.sk-toggleable__label-arrow:before {content: \"▸\";float: left;margin-right: 0.25em;color: #696969;}#sk-container-id-2 label.sk-toggleable__label-arrow:hover:before {color: black;}#sk-container-id-2 div.sk-estimator:hover label.sk-toggleable__label-arrow:before {color: black;}#sk-container-id-2 div.sk-toggleable__content {max-height: 0;max-width: 0;overflow: hidden;text-align: left;background-color: #f0f8ff;}#sk-container-id-2 div.sk-toggleable__content pre {margin: 0.2em;color: black;border-radius: 0.25em;background-color: #f0f8ff;}#sk-container-id-2 input.sk-toggleable__control:checked~div.sk-toggleable__content {max-height: 200px;max-width: 100%;overflow: auto;}#sk-container-id-2 input.sk-toggleable__control:checked~label.sk-toggleable__label-arrow:before {content: \"▾\";}#sk-container-id-2 div.sk-estimator input.sk-toggleable__control:checked~label.sk-toggleable__label {background-color: #d4ebff;}#sk-container-id-2 div.sk-label input.sk-toggleable__control:checked~label.sk-toggleable__label {background-color: #d4ebff;}#sk-container-id-2 input.sk-hidden--visually {border: 0;clip: rect(1px 1px 1px 1px);clip: rect(1px, 1px, 1px, 1px);height: 1px;margin: -1px;overflow: hidden;padding: 0;position: absolute;width: 1px;}#sk-container-id-2 div.sk-estimator {font-family: monospace;background-color: #f0f8ff;border: 1px dotted black;border-radius: 0.25em;box-sizing: border-box;margin-bottom: 0.5em;}#sk-container-id-2 div.sk-estimator:hover {background-color: #d4ebff;}#sk-container-id-2 div.sk-parallel-item::after {content: \"\";width: 100%;border-bottom: 1px solid gray;flex-grow: 1;}#sk-container-id-2 div.sk-label:hover label.sk-toggleable__label {background-color: #d4ebff;}#sk-container-id-2 div.sk-serial::before {content: \"\";position: absolute;border-left: 1px solid gray;box-sizing: border-box;top: 0;bottom: 0;left: 50%;z-index: 0;}#sk-container-id-2 div.sk-serial {display: flex;flex-direction: column;align-items: center;background-color: white;padding-right: 0.2em;padding-left: 0.2em;position: relative;}#sk-container-id-2 div.sk-item {position: relative;z-index: 1;}#sk-container-id-2 div.sk-parallel {display: flex;align-items: stretch;justify-content: center;background-color: white;position: relative;}#sk-container-id-2 div.sk-item::before, #sk-container-id-2 div.sk-parallel-item::before {content: \"\";position: absolute;border-left: 1px solid gray;box-sizing: border-box;top: 0;bottom: 0;left: 50%;z-index: -1;}#sk-container-id-2 div.sk-parallel-item {display: flex;flex-direction: column;z-index: 1;position: relative;background-color: white;}#sk-container-id-2 div.sk-parallel-item:first-child::after {align-self: flex-end;width: 50%;}#sk-container-id-2 div.sk-parallel-item:last-child::after {align-self: flex-start;width: 50%;}#sk-container-id-2 div.sk-parallel-item:only-child::after {width: 0;}#sk-container-id-2 div.sk-dashed-wrapped {border: 1px dashed gray;margin: 0 0.4em 0.5em 0.4em;box-sizing: border-box;padding-bottom: 0.4em;background-color: white;}#sk-container-id-2 div.sk-label label {font-family: monospace;font-weight: bold;display: inline-block;line-height: 1.2em;}#sk-container-id-2 div.sk-label-container {text-align: center;}#sk-container-id-2 div.sk-container {/* jupyter's `normalize.less` sets `[hidden] { display: none; }` but bootstrap.min.css set `[hidden] { display: none !important; }` so we also need the `!important` here to be able to override the default hidden behavior on the sphinx rendered scikit-learn.org. See: https://github.com/scikit-learn/scikit-learn/issues/21755 */display: inline-block !important;position: relative;}#sk-container-id-2 div.sk-text-repr-fallback {display: none;}</style><div id=\"sk-container-id-2\" class=\"sk-top-container\"><div class=\"sk-text-repr-fallback\"><pre>GridSearchCV(cv=5, estimator=SGDClassifier(random_state=0),\n",
              "             param_grid={&#x27;eta0&#x27;: [0.01, 0.05, 1, 2],\n",
              "                         &#x27;learning_rate&#x27;: [&#x27;constant&#x27;, &#x27;adaptive&#x27;, &#x27;optimal&#x27;],\n",
              "                         &#x27;loss&#x27;: [&#x27;hinge&#x27;, &#x27;log_loss&#x27;, &#x27;modified_huber&#x27;],\n",
              "                         &#x27;penalty&#x27;: [&#x27;l2&#x27;, &#x27;l1&#x27;, &#x27;elasticnet&#x27;]})</pre><b>In a Jupyter environment, please rerun this cell to show the HTML representation or trust the notebook. <br />On GitHub, the HTML representation is unable to render, please try loading this page with nbviewer.org.</b></div><div class=\"sk-container\" hidden><div class=\"sk-item sk-dashed-wrapped\"><div class=\"sk-label-container\"><div class=\"sk-label sk-toggleable\"><input class=\"sk-toggleable__control sk-hidden--visually\" id=\"sk-estimator-id-2\" type=\"checkbox\" ><label for=\"sk-estimator-id-2\" class=\"sk-toggleable__label sk-toggleable__label-arrow\">GridSearchCV</label><div class=\"sk-toggleable__content\"><pre>GridSearchCV(cv=5, estimator=SGDClassifier(random_state=0),\n",
              "             param_grid={&#x27;eta0&#x27;: [0.01, 0.05, 1, 2],\n",
              "                         &#x27;learning_rate&#x27;: [&#x27;constant&#x27;, &#x27;adaptive&#x27;, &#x27;optimal&#x27;],\n",
              "                         &#x27;loss&#x27;: [&#x27;hinge&#x27;, &#x27;log_loss&#x27;, &#x27;modified_huber&#x27;],\n",
              "                         &#x27;penalty&#x27;: [&#x27;l2&#x27;, &#x27;l1&#x27;, &#x27;elasticnet&#x27;]})</pre></div></div></div><div class=\"sk-parallel\"><div class=\"sk-parallel-item\"><div class=\"sk-item\"><div class=\"sk-label-container\"><div class=\"sk-label sk-toggleable\"><input class=\"sk-toggleable__control sk-hidden--visually\" id=\"sk-estimator-id-3\" type=\"checkbox\" ><label for=\"sk-estimator-id-3\" class=\"sk-toggleable__label sk-toggleable__label-arrow\">estimator: SGDClassifier</label><div class=\"sk-toggleable__content\"><pre>SGDClassifier(random_state=0)</pre></div></div></div><div class=\"sk-serial\"><div class=\"sk-item\"><div class=\"sk-estimator sk-toggleable\"><input class=\"sk-toggleable__control sk-hidden--visually\" id=\"sk-estimator-id-4\" type=\"checkbox\" ><label for=\"sk-estimator-id-4\" class=\"sk-toggleable__label sk-toggleable__label-arrow\">SGDClassifier</label><div class=\"sk-toggleable__content\"><pre>SGDClassifier(random_state=0)</pre></div></div></div></div></div></div></div></div></div></div>"
            ],
            "text/plain": [
              "GridSearchCV(cv=5, estimator=SGDClassifier(random_state=0),\n",
              "             param_grid={'eta0': [0.01, 0.05, 1, 2],\n",
              "                         'learning_rate': ['constant', 'adaptive', 'optimal'],\n",
              "                         'loss': ['hinge', 'log_loss', 'modified_huber'],\n",
              "                         'penalty': ['l2', 'l1', 'elasticnet']})"
            ]
          },
          "execution_count": 29,
          "metadata": {},
          "output_type": "execute_result"
        }
      ],
      "source": [
        "# Se entrenan todos los modelos\n",
        "clf_grid.fit(X2_train, y2_train)"
      ]
    },
    {
      "cell_type": "code",
      "execution_count": null,
      "metadata": {
        "id": "HdwAGAHRNFeo",
        "outputId": "f9e4e089-bc26-4dd2-b59e-fd058155fa3c"
      },
      "outputs": [
        {
          "data": {
            "text/plain": [
              "{'eta0': 0.01,\n",
              " 'learning_rate': 'constant',\n",
              " 'loss': 'log_loss',\n",
              " 'penalty': 'l2'}"
            ]
          },
          "execution_count": 30,
          "metadata": {},
          "output_type": "execute_result"
        }
      ],
      "source": [
        "# Investigamos los mejores hiperparámetros encontrados\n",
        "clf_grid.best_params_"
      ]
    },
    {
      "cell_type": "code",
      "execution_count": null,
      "metadata": {
        "id": "M2ugN1XsNFeo",
        "scrolled": true
      },
      "outputs": [],
      "source": [
        "# Guardamos el mejor modelo\n",
        "best_model = clf_grid.best_estimator_"
      ]
    },
    {
      "cell_type": "code",
      "execution_count": null,
      "metadata": {
        "id": "YFESkXEZNFeo",
        "outputId": "71d218e6-3fae-4e31-d458-e4bf2277ab3d"
      },
      "outputs": [
        {
          "data": {
            "text/html": [
              "<style>#sk-container-id-3 {color: black;background-color: white;}#sk-container-id-3 pre{padding: 0;}#sk-container-id-3 div.sk-toggleable {background-color: white;}#sk-container-id-3 label.sk-toggleable__label {cursor: pointer;display: block;width: 100%;margin-bottom: 0;padding: 0.3em;box-sizing: border-box;text-align: center;}#sk-container-id-3 label.sk-toggleable__label-arrow:before {content: \"▸\";float: left;margin-right: 0.25em;color: #696969;}#sk-container-id-3 label.sk-toggleable__label-arrow:hover:before {color: black;}#sk-container-id-3 div.sk-estimator:hover label.sk-toggleable__label-arrow:before {color: black;}#sk-container-id-3 div.sk-toggleable__content {max-height: 0;max-width: 0;overflow: hidden;text-align: left;background-color: #f0f8ff;}#sk-container-id-3 div.sk-toggleable__content pre {margin: 0.2em;color: black;border-radius: 0.25em;background-color: #f0f8ff;}#sk-container-id-3 input.sk-toggleable__control:checked~div.sk-toggleable__content {max-height: 200px;max-width: 100%;overflow: auto;}#sk-container-id-3 input.sk-toggleable__control:checked~label.sk-toggleable__label-arrow:before {content: \"▾\";}#sk-container-id-3 div.sk-estimator input.sk-toggleable__control:checked~label.sk-toggleable__label {background-color: #d4ebff;}#sk-container-id-3 div.sk-label input.sk-toggleable__control:checked~label.sk-toggleable__label {background-color: #d4ebff;}#sk-container-id-3 input.sk-hidden--visually {border: 0;clip: rect(1px 1px 1px 1px);clip: rect(1px, 1px, 1px, 1px);height: 1px;margin: -1px;overflow: hidden;padding: 0;position: absolute;width: 1px;}#sk-container-id-3 div.sk-estimator {font-family: monospace;background-color: #f0f8ff;border: 1px dotted black;border-radius: 0.25em;box-sizing: border-box;margin-bottom: 0.5em;}#sk-container-id-3 div.sk-estimator:hover {background-color: #d4ebff;}#sk-container-id-3 div.sk-parallel-item::after {content: \"\";width: 100%;border-bottom: 1px solid gray;flex-grow: 1;}#sk-container-id-3 div.sk-label:hover label.sk-toggleable__label {background-color: #d4ebff;}#sk-container-id-3 div.sk-serial::before {content: \"\";position: absolute;border-left: 1px solid gray;box-sizing: border-box;top: 0;bottom: 0;left: 50%;z-index: 0;}#sk-container-id-3 div.sk-serial {display: flex;flex-direction: column;align-items: center;background-color: white;padding-right: 0.2em;padding-left: 0.2em;position: relative;}#sk-container-id-3 div.sk-item {position: relative;z-index: 1;}#sk-container-id-3 div.sk-parallel {display: flex;align-items: stretch;justify-content: center;background-color: white;position: relative;}#sk-container-id-3 div.sk-item::before, #sk-container-id-3 div.sk-parallel-item::before {content: \"\";position: absolute;border-left: 1px solid gray;box-sizing: border-box;top: 0;bottom: 0;left: 50%;z-index: -1;}#sk-container-id-3 div.sk-parallel-item {display: flex;flex-direction: column;z-index: 1;position: relative;background-color: white;}#sk-container-id-3 div.sk-parallel-item:first-child::after {align-self: flex-end;width: 50%;}#sk-container-id-3 div.sk-parallel-item:last-child::after {align-self: flex-start;width: 50%;}#sk-container-id-3 div.sk-parallel-item:only-child::after {width: 0;}#sk-container-id-3 div.sk-dashed-wrapped {border: 1px dashed gray;margin: 0 0.4em 0.5em 0.4em;box-sizing: border-box;padding-bottom: 0.4em;background-color: white;}#sk-container-id-3 div.sk-label label {font-family: monospace;font-weight: bold;display: inline-block;line-height: 1.2em;}#sk-container-id-3 div.sk-label-container {text-align: center;}#sk-container-id-3 div.sk-container {/* jupyter's `normalize.less` sets `[hidden] { display: none; }` but bootstrap.min.css set `[hidden] { display: none !important; }` so we also need the `!important` here to be able to override the default hidden behavior on the sphinx rendered scikit-learn.org. See: https://github.com/scikit-learn/scikit-learn/issues/21755 */display: inline-block !important;position: relative;}#sk-container-id-3 div.sk-text-repr-fallback {display: none;}</style><div id=\"sk-container-id-3\" class=\"sk-top-container\"><div class=\"sk-text-repr-fallback\"><pre>SGDClassifier(eta0=0.01, learning_rate=&#x27;constant&#x27;, loss=&#x27;log_loss&#x27;,\n",
              "              random_state=0)</pre><b>In a Jupyter environment, please rerun this cell to show the HTML representation or trust the notebook. <br />On GitHub, the HTML representation is unable to render, please try loading this page with nbviewer.org.</b></div><div class=\"sk-container\" hidden><div class=\"sk-item\"><div class=\"sk-estimator sk-toggleable\"><input class=\"sk-toggleable__control sk-hidden--visually\" id=\"sk-estimator-id-5\" type=\"checkbox\" checked><label for=\"sk-estimator-id-5\" class=\"sk-toggleable__label sk-toggleable__label-arrow\">SGDClassifier</label><div class=\"sk-toggleable__content\"><pre>SGDClassifier(eta0=0.01, learning_rate=&#x27;constant&#x27;, loss=&#x27;log_loss&#x27;,\n",
              "              random_state=0)</pre></div></div></div></div></div>"
            ],
            "text/plain": [
              "SGDClassifier(eta0=0.01, learning_rate='constant', loss='log_loss',\n",
              "              random_state=0)"
            ]
          },
          "execution_count": 32,
          "metadata": {},
          "output_type": "execute_result"
        }
      ],
      "source": [
        "best_model"
      ]
    },
    {
      "cell_type": "markdown",
      "metadata": {
        "id": "9hGBKWwLNFeo"
      },
      "source": [
        " #### Accuracy promedio y varianza para todas las configuraciones"
      ]
    },
    {
      "cell_type": "code",
      "execution_count": null,
      "metadata": {
        "id": "wIwMAlKpNFeo",
        "outputId": "a2844a32-66b8-41c8-e1d0-ea4f2d869661",
        "scrolled": true
      },
      "outputs": [
        {
          "data": {
            "text/plain": [
              "{'mean_fit_time': array([0.00939884, 0.0128386 , 0.01776357, 0.01187735, 0.01801548,\n",
              "        0.03622952, 0.01454687, 0.0097815 , 0.02261057, 0.02068443,\n",
              "        0.02841687, 0.05325556, 0.05009947, 0.04911146, 0.04906821,\n",
              "        0.02286782, 0.04051185, 0.03484912, 0.02269793, 0.02066531,\n",
              "        0.04376726, 0.0458343 , 0.03637242, 0.04499779, 0.0362927 ,\n",
              "        0.05361848, 0.054038  , 0.00779133, 0.01641092, 0.01543956,\n",
              "        0.00823812, 0.01579709, 0.01864643, 0.01565208, 0.01655755,\n",
              "        0.02208967, 0.03228483, 0.03659434, 0.04765129, 0.10176105,\n",
              "        0.06410561, 0.06835847, 0.080018  , 0.08346252, 0.05134921,\n",
              "        0.02588167, 0.03897977, 0.07203183, 0.0517066 , 0.03687224,\n",
              "        0.06281919, 0.0407012 , 0.06755905, 0.06817689, 0.01103501,\n",
              "        0.02011685, 0.01016092, 0.01543655, 0.01785116, 0.01550403,\n",
              "        0.01104326, 0.0078145 , 0.00695791, 0.01847572, 0.03215051,\n",
              "        0.02637463, 0.02231774, 0.06547198, 0.04303684, 0.01856909,\n",
              "        0.0349021 , 0.02809429, 0.01309638, 0.01183925, 0.01817856,\n",
              "        0.02112699, 0.02462168, 0.023315  , 0.01638713, 0.01930227,\n",
              "        0.02477274, 0.00292668, 0.00776715, 0.01046348, 0.00637994,\n",
              "        0.01413031, 0.00952945, 0.00486302, 0.00629497, 0.0069303 ,\n",
              "        0.01672673, 0.02245407, 0.02969437, 0.04768949, 0.08276286,\n",
              "        0.11622367, 0.02531085, 0.04157448, 0.05378494, 0.01784315,\n",
              "        0.02059298, 0.03100405, 0.02515211, 0.02103477, 0.03059049,\n",
              "        0.01152143, 0.01830053, 0.0246501 ]),\n",
              " 'std_fit_time': array([0.00607752, 0.00869332, 0.01550867, 0.01510633, 0.01197204,\n",
              "        0.02746422, 0.01168918, 0.00270148, 0.01669105, 0.00808573,\n",
              "        0.00990801, 0.01467883, 0.00933108, 0.0101053 , 0.01660981,\n",
              "        0.00699612, 0.00950974, 0.00907313, 0.00664358, 0.00443145,\n",
              "        0.02034659, 0.0051719 , 0.00579025, 0.01116896, 0.01434339,\n",
              "        0.01173008, 0.02598186, 0.00293701, 0.00619721, 0.00146594,\n",
              "        0.00250678, 0.00554338, 0.00845915, 0.00504171, 0.00279348,\n",
              "        0.01533596, 0.00798586, 0.01035663, 0.01216091, 0.1129307 ,\n",
              "        0.02956837, 0.02644772, 0.03563597, 0.03702193, 0.01135644,\n",
              "        0.01549618, 0.020021  , 0.02520898, 0.02314444, 0.01160788,\n",
              "        0.01931905, 0.02247814, 0.03631027, 0.0216354 , 0.00409093,\n",
              "        0.00589634, 0.0024602 , 0.00419158, 0.00500599, 0.00667353,\n",
              "        0.00530663, 0.0030491 , 0.00156187, 0.00577395, 0.00375976,\n",
              "        0.00512841, 0.00328343, 0.02235582, 0.00810141, 0.00349577,\n",
              "        0.00536964, 0.00530369, 0.0019701 , 0.00347327, 0.00396991,\n",
              "        0.00242493, 0.00291145, 0.00306121, 0.00831649, 0.01076552,\n",
              "        0.00939431, 0.00067493, 0.00168614, 0.00351003, 0.00252139,\n",
              "        0.00543298, 0.00192045, 0.00208227, 0.00165773, 0.00147485,\n",
              "        0.00353441, 0.00272581, 0.0046527 , 0.01890971, 0.03251284,\n",
              "        0.02443886, 0.00367791, 0.01421319, 0.01172924, 0.00700566,\n",
              "        0.00718747, 0.01480691, 0.0061128 , 0.0042012 , 0.00672392,\n",
              "        0.0041193 , 0.00464438, 0.01019844]),\n",
              " 'mean_score_time': array([0.00270591, 0.001648  , 0.00196204, 0.00723763, 0.01141729,\n",
              "        0.00232534, 0.00202475, 0.00135498, 0.00101848, 0.00186777,\n",
              "        0.00250392, 0.00319891, 0.00392795, 0.00288625, 0.00615821,\n",
              "        0.00329552, 0.00409217, 0.00166893, 0.00480785, 0.00261269,\n",
              "        0.00290465, 0.00234571, 0.00230012, 0.00216069, 0.00568347,\n",
              "        0.00181899, 0.01609116, 0.00251341, 0.00293946, 0.00200276,\n",
              "        0.0021121 , 0.00275292, 0.00845375, 0.00190706, 0.00299239,\n",
              "        0.00333304, 0.00099306, 0.00170984, 0.00192194, 0.00391479,\n",
              "        0.00411782, 0.00114012, 0.0084404 , 0.01198311, 0.00403953,\n",
              "        0.00231543, 0.01329284, 0.00296021, 0.0035233 , 0.00504193,\n",
              "        0.00642738, 0.00293798, 0.00550699, 0.00144906, 0.0038044 ,\n",
              "        0.00396595, 0.00272374, 0.00395627, 0.00296779, 0.0020081 ,\n",
              "        0.00384493, 0.00213747, 0.00094075, 0.00307193, 0.0011353 ,\n",
              "        0.00110927, 0.00062327, 0.00051703, 0.0022769 , 0.00080996,\n",
              "        0.00141473, 0.00097518, 0.00055261, 0.00059891, 0.00199127,\n",
              "        0.00094776, 0.00263801, 0.00217795, 0.00101228, 0.00113926,\n",
              "        0.00116396, 0.00079908, 0.00121527, 0.00244737, 0.00080671,\n",
              "        0.00093694, 0.00083103, 0.00226588, 0.00149932, 0.00122724,\n",
              "        0.00141578, 0.00059924, 0.00100765, 0.0011961 , 0.00146856,\n",
              "        0.00217848, 0.00153489, 0.00162039, 0.00126367, 0.00263386,\n",
              "        0.0025661 , 0.00187821, 0.00100465, 0.00240846, 0.00261383,\n",
              "        0.0008141 , 0.00174708, 0.00116534]),\n",
              " 'std_score_time': array([0.00288835, 0.00127162, 0.00162546, 0.01125004, 0.02161749,\n",
              "        0.00092798, 0.00062649, 0.00043521, 0.00091471, 0.00091147,\n",
              "        0.0015892 , 0.00135865, 0.00290658, 0.00219171, 0.00698432,\n",
              "        0.00206803, 0.00440228, 0.00094336, 0.00246167, 0.00243007,\n",
              "        0.00206162, 0.00079883, 0.00161068, 0.00133379, 0.0054817 ,\n",
              "        0.00046804, 0.0265216 , 0.00147117, 0.00256974, 0.00178349,\n",
              "        0.00101118, 0.00352175, 0.00946582, 0.00137331, 0.00229658,\n",
              "        0.00273748, 0.00063299, 0.00100684, 0.00162237, 0.00335522,\n",
              "        0.00342352, 0.00101145, 0.01376187, 0.01563007, 0.00281602,\n",
              "        0.00091476, 0.02513308, 0.00259639, 0.00084613, 0.00452351,\n",
              "        0.009215  , 0.00282764, 0.00607897, 0.00080235, 0.00284982,\n",
              "        0.00269883, 0.00101209, 0.00377149, 0.0030454 , 0.00123841,\n",
              "        0.00308642, 0.00150768, 0.00054376, 0.00292802, 0.00068   ,\n",
              "        0.00051868, 0.00051078, 0.00045463, 0.00099952, 0.00076443,\n",
              "        0.00075662, 0.00011421, 0.00046198, 0.00048901, 0.00133957,\n",
              "        0.00064568, 0.00214933, 0.0014479 , 0.00065289, 0.00017211,\n",
              "        0.00043056, 0.00040826, 0.00039975, 0.0010347 , 0.00062406,\n",
              "        0.00061156, 0.0007127 , 0.00196003, 0.00066125, 0.00077933,\n",
              "        0.00160379, 0.00079917, 0.00111159, 0.00034974, 0.00055878,\n",
              "        0.00121414, 0.00128018, 0.00100264, 0.00092976, 0.00239528,\n",
              "        0.00130024, 0.0020095 , 0.00110382, 0.00334334, 0.0019975 ,\n",
              "        0.00040813, 0.00117712, 0.00065682]),\n",
              " 'param_eta0': masked_array(data=[0.01, 0.01, 0.01, 0.01, 0.01, 0.01, 0.01, 0.01, 0.01,\n",
              "                    0.01, 0.01, 0.01, 0.01, 0.01, 0.01, 0.01, 0.01, 0.01,\n",
              "                    0.01, 0.01, 0.01, 0.01, 0.01, 0.01, 0.01, 0.01, 0.01,\n",
              "                    0.05, 0.05, 0.05, 0.05, 0.05, 0.05, 0.05, 0.05, 0.05,\n",
              "                    0.05, 0.05, 0.05, 0.05, 0.05, 0.05, 0.05, 0.05, 0.05,\n",
              "                    0.05, 0.05, 0.05, 0.05, 0.05, 0.05, 0.05, 0.05, 0.05,\n",
              "                    1, 1, 1, 1, 1, 1, 1, 1, 1, 1, 1, 1, 1, 1, 1, 1, 1, 1,\n",
              "                    1, 1, 1, 1, 1, 1, 1, 1, 1, 2, 2, 2, 2, 2, 2, 2, 2, 2,\n",
              "                    2, 2, 2, 2, 2, 2, 2, 2, 2, 2, 2, 2, 2, 2, 2, 2, 2, 2],\n",
              "              mask=[False, False, False, False, False, False, False, False,\n",
              "                    False, False, False, False, False, False, False, False,\n",
              "                    False, False, False, False, False, False, False, False,\n",
              "                    False, False, False, False, False, False, False, False,\n",
              "                    False, False, False, False, False, False, False, False,\n",
              "                    False, False, False, False, False, False, False, False,\n",
              "                    False, False, False, False, False, False, False, False,\n",
              "                    False, False, False, False, False, False, False, False,\n",
              "                    False, False, False, False, False, False, False, False,\n",
              "                    False, False, False, False, False, False, False, False,\n",
              "                    False, False, False, False, False, False, False, False,\n",
              "                    False, False, False, False, False, False, False, False,\n",
              "                    False, False, False, False, False, False, False, False,\n",
              "                    False, False, False, False],\n",
              "        fill_value='?',\n",
              "             dtype=object),\n",
              " 'param_learning_rate': masked_array(data=['constant', 'constant', 'constant', 'constant',\n",
              "                    'constant', 'constant', 'constant', 'constant',\n",
              "                    'constant', 'adaptive', 'adaptive', 'adaptive',\n",
              "                    'adaptive', 'adaptive', 'adaptive', 'adaptive',\n",
              "                    'adaptive', 'adaptive', 'optimal', 'optimal',\n",
              "                    'optimal', 'optimal', 'optimal', 'optimal', 'optimal',\n",
              "                    'optimal', 'optimal', 'constant', 'constant',\n",
              "                    'constant', 'constant', 'constant', 'constant',\n",
              "                    'constant', 'constant', 'constant', 'adaptive',\n",
              "                    'adaptive', 'adaptive', 'adaptive', 'adaptive',\n",
              "                    'adaptive', 'adaptive', 'adaptive', 'adaptive',\n",
              "                    'optimal', 'optimal', 'optimal', 'optimal', 'optimal',\n",
              "                    'optimal', 'optimal', 'optimal', 'optimal', 'constant',\n",
              "                    'constant', 'constant', 'constant', 'constant',\n",
              "                    'constant', 'constant', 'constant', 'constant',\n",
              "                    'adaptive', 'adaptive', 'adaptive', 'adaptive',\n",
              "                    'adaptive', 'adaptive', 'adaptive', 'adaptive',\n",
              "                    'adaptive', 'optimal', 'optimal', 'optimal', 'optimal',\n",
              "                    'optimal', 'optimal', 'optimal', 'optimal', 'optimal',\n",
              "                    'constant', 'constant', 'constant', 'constant',\n",
              "                    'constant', 'constant', 'constant', 'constant',\n",
              "                    'constant', 'adaptive', 'adaptive', 'adaptive',\n",
              "                    'adaptive', 'adaptive', 'adaptive', 'adaptive',\n",
              "                    'adaptive', 'adaptive', 'optimal', 'optimal',\n",
              "                    'optimal', 'optimal', 'optimal', 'optimal', 'optimal',\n",
              "                    'optimal', 'optimal'],\n",
              "              mask=[False, False, False, False, False, False, False, False,\n",
              "                    False, False, False, False, False, False, False, False,\n",
              "                    False, False, False, False, False, False, False, False,\n",
              "                    False, False, False, False, False, False, False, False,\n",
              "                    False, False, False, False, False, False, False, False,\n",
              "                    False, False, False, False, False, False, False, False,\n",
              "                    False, False, False, False, False, False, False, False,\n",
              "                    False, False, False, False, False, False, False, False,\n",
              "                    False, False, False, False, False, False, False, False,\n",
              "                    False, False, False, False, False, False, False, False,\n",
              "                    False, False, False, False, False, False, False, False,\n",
              "                    False, False, False, False, False, False, False, False,\n",
              "                    False, False, False, False, False, False, False, False,\n",
              "                    False, False, False, False],\n",
              "        fill_value='?',\n",
              "             dtype=object),\n",
              " 'param_loss': masked_array(data=['hinge', 'hinge', 'hinge', 'log_loss', 'log_loss',\n",
              "                    'log_loss', 'modified_huber', 'modified_huber',\n",
              "                    'modified_huber', 'hinge', 'hinge', 'hinge',\n",
              "                    'log_loss', 'log_loss', 'log_loss', 'modified_huber',\n",
              "                    'modified_huber', 'modified_huber', 'hinge', 'hinge',\n",
              "                    'hinge', 'log_loss', 'log_loss', 'log_loss',\n",
              "                    'modified_huber', 'modified_huber', 'modified_huber',\n",
              "                    'hinge', 'hinge', 'hinge', 'log_loss', 'log_loss',\n",
              "                    'log_loss', 'modified_huber', 'modified_huber',\n",
              "                    'modified_huber', 'hinge', 'hinge', 'hinge',\n",
              "                    'log_loss', 'log_loss', 'log_loss', 'modified_huber',\n",
              "                    'modified_huber', 'modified_huber', 'hinge', 'hinge',\n",
              "                    'hinge', 'log_loss', 'log_loss', 'log_loss',\n",
              "                    'modified_huber', 'modified_huber', 'modified_huber',\n",
              "                    'hinge', 'hinge', 'hinge', 'log_loss', 'log_loss',\n",
              "                    'log_loss', 'modified_huber', 'modified_huber',\n",
              "                    'modified_huber', 'hinge', 'hinge', 'hinge',\n",
              "                    'log_loss', 'log_loss', 'log_loss', 'modified_huber',\n",
              "                    'modified_huber', 'modified_huber', 'hinge', 'hinge',\n",
              "                    'hinge', 'log_loss', 'log_loss', 'log_loss',\n",
              "                    'modified_huber', 'modified_huber', 'modified_huber',\n",
              "                    'hinge', 'hinge', 'hinge', 'log_loss', 'log_loss',\n",
              "                    'log_loss', 'modified_huber', 'modified_huber',\n",
              "                    'modified_huber', 'hinge', 'hinge', 'hinge',\n",
              "                    'log_loss', 'log_loss', 'log_loss', 'modified_huber',\n",
              "                    'modified_huber', 'modified_huber', 'hinge', 'hinge',\n",
              "                    'hinge', 'log_loss', 'log_loss', 'log_loss',\n",
              "                    'modified_huber', 'modified_huber', 'modified_huber'],\n",
              "              mask=[False, False, False, False, False, False, False, False,\n",
              "                    False, False, False, False, False, False, False, False,\n",
              "                    False, False, False, False, False, False, False, False,\n",
              "                    False, False, False, False, False, False, False, False,\n",
              "                    False, False, False, False, False, False, False, False,\n",
              "                    False, False, False, False, False, False, False, False,\n",
              "                    False, False, False, False, False, False, False, False,\n",
              "                    False, False, False, False, False, False, False, False,\n",
              "                    False, False, False, False, False, False, False, False,\n",
              "                    False, False, False, False, False, False, False, False,\n",
              "                    False, False, False, False, False, False, False, False,\n",
              "                    False, False, False, False, False, False, False, False,\n",
              "                    False, False, False, False, False, False, False, False,\n",
              "                    False, False, False, False],\n",
              "        fill_value='?',\n",
              "             dtype=object),\n",
              " 'param_penalty': masked_array(data=['l2', 'l1', 'elasticnet', 'l2', 'l1', 'elasticnet',\n",
              "                    'l2', 'l1', 'elasticnet', 'l2', 'l1', 'elasticnet',\n",
              "                    'l2', 'l1', 'elasticnet', 'l2', 'l1', 'elasticnet',\n",
              "                    'l2', 'l1', 'elasticnet', 'l2', 'l1', 'elasticnet',\n",
              "                    'l2', 'l1', 'elasticnet', 'l2', 'l1', 'elasticnet',\n",
              "                    'l2', 'l1', 'elasticnet', 'l2', 'l1', 'elasticnet',\n",
              "                    'l2', 'l1', 'elasticnet', 'l2', 'l1', 'elasticnet',\n",
              "                    'l2', 'l1', 'elasticnet', 'l2', 'l1', 'elasticnet',\n",
              "                    'l2', 'l1', 'elasticnet', 'l2', 'l1', 'elasticnet',\n",
              "                    'l2', 'l1', 'elasticnet', 'l2', 'l1', 'elasticnet',\n",
              "                    'l2', 'l1', 'elasticnet', 'l2', 'l1', 'elasticnet',\n",
              "                    'l2', 'l1', 'elasticnet', 'l2', 'l1', 'elasticnet',\n",
              "                    'l2', 'l1', 'elasticnet', 'l2', 'l1', 'elasticnet',\n",
              "                    'l2', 'l1', 'elasticnet', 'l2', 'l1', 'elasticnet',\n",
              "                    'l2', 'l1', 'elasticnet', 'l2', 'l1', 'elasticnet',\n",
              "                    'l2', 'l1', 'elasticnet', 'l2', 'l1', 'elasticnet',\n",
              "                    'l2', 'l1', 'elasticnet', 'l2', 'l1', 'elasticnet',\n",
              "                    'l2', 'l1', 'elasticnet', 'l2', 'l1', 'elasticnet'],\n",
              "              mask=[False, False, False, False, False, False, False, False,\n",
              "                    False, False, False, False, False, False, False, False,\n",
              "                    False, False, False, False, False, False, False, False,\n",
              "                    False, False, False, False, False, False, False, False,\n",
              "                    False, False, False, False, False, False, False, False,\n",
              "                    False, False, False, False, False, False, False, False,\n",
              "                    False, False, False, False, False, False, False, False,\n",
              "                    False, False, False, False, False, False, False, False,\n",
              "                    False, False, False, False, False, False, False, False,\n",
              "                    False, False, False, False, False, False, False, False,\n",
              "                    False, False, False, False, False, False, False, False,\n",
              "                    False, False, False, False, False, False, False, False,\n",
              "                    False, False, False, False, False, False, False, False,\n",
              "                    False, False, False, False],\n",
              "        fill_value='?',\n",
              "             dtype=object),\n",
              " 'params': [{'eta0': 0.01,\n",
              "   'learning_rate': 'constant',\n",
              "   'loss': 'hinge',\n",
              "   'penalty': 'l2'},\n",
              "  {'eta0': 0.01,\n",
              "   'learning_rate': 'constant',\n",
              "   'loss': 'hinge',\n",
              "   'penalty': 'l1'},\n",
              "  {'eta0': 0.01,\n",
              "   'learning_rate': 'constant',\n",
              "   'loss': 'hinge',\n",
              "   'penalty': 'elasticnet'},\n",
              "  {'eta0': 0.01,\n",
              "   'learning_rate': 'constant',\n",
              "   'loss': 'log_loss',\n",
              "   'penalty': 'l2'},\n",
              "  {'eta0': 0.01,\n",
              "   'learning_rate': 'constant',\n",
              "   'loss': 'log_loss',\n",
              "   'penalty': 'l1'},\n",
              "  {'eta0': 0.01,\n",
              "   'learning_rate': 'constant',\n",
              "   'loss': 'log_loss',\n",
              "   'penalty': 'elasticnet'},\n",
              "  {'eta0': 0.01,\n",
              "   'learning_rate': 'constant',\n",
              "   'loss': 'modified_huber',\n",
              "   'penalty': 'l2'},\n",
              "  {'eta0': 0.01,\n",
              "   'learning_rate': 'constant',\n",
              "   'loss': 'modified_huber',\n",
              "   'penalty': 'l1'},\n",
              "  {'eta0': 0.01,\n",
              "   'learning_rate': 'constant',\n",
              "   'loss': 'modified_huber',\n",
              "   'penalty': 'elasticnet'},\n",
              "  {'eta0': 0.01,\n",
              "   'learning_rate': 'adaptive',\n",
              "   'loss': 'hinge',\n",
              "   'penalty': 'l2'},\n",
              "  {'eta0': 0.01,\n",
              "   'learning_rate': 'adaptive',\n",
              "   'loss': 'hinge',\n",
              "   'penalty': 'l1'},\n",
              "  {'eta0': 0.01,\n",
              "   'learning_rate': 'adaptive',\n",
              "   'loss': 'hinge',\n",
              "   'penalty': 'elasticnet'},\n",
              "  {'eta0': 0.01,\n",
              "   'learning_rate': 'adaptive',\n",
              "   'loss': 'log_loss',\n",
              "   'penalty': 'l2'},\n",
              "  {'eta0': 0.01,\n",
              "   'learning_rate': 'adaptive',\n",
              "   'loss': 'log_loss',\n",
              "   'penalty': 'l1'},\n",
              "  {'eta0': 0.01,\n",
              "   'learning_rate': 'adaptive',\n",
              "   'loss': 'log_loss',\n",
              "   'penalty': 'elasticnet'},\n",
              "  {'eta0': 0.01,\n",
              "   'learning_rate': 'adaptive',\n",
              "   'loss': 'modified_huber',\n",
              "   'penalty': 'l2'},\n",
              "  {'eta0': 0.01,\n",
              "   'learning_rate': 'adaptive',\n",
              "   'loss': 'modified_huber',\n",
              "   'penalty': 'l1'},\n",
              "  {'eta0': 0.01,\n",
              "   'learning_rate': 'adaptive',\n",
              "   'loss': 'modified_huber',\n",
              "   'penalty': 'elasticnet'},\n",
              "  {'eta0': 0.01, 'learning_rate': 'optimal', 'loss': 'hinge', 'penalty': 'l2'},\n",
              "  {'eta0': 0.01, 'learning_rate': 'optimal', 'loss': 'hinge', 'penalty': 'l1'},\n",
              "  {'eta0': 0.01,\n",
              "   'learning_rate': 'optimal',\n",
              "   'loss': 'hinge',\n",
              "   'penalty': 'elasticnet'},\n",
              "  {'eta0': 0.01,\n",
              "   'learning_rate': 'optimal',\n",
              "   'loss': 'log_loss',\n",
              "   'penalty': 'l2'},\n",
              "  {'eta0': 0.01,\n",
              "   'learning_rate': 'optimal',\n",
              "   'loss': 'log_loss',\n",
              "   'penalty': 'l1'},\n",
              "  {'eta0': 0.01,\n",
              "   'learning_rate': 'optimal',\n",
              "   'loss': 'log_loss',\n",
              "   'penalty': 'elasticnet'},\n",
              "  {'eta0': 0.01,\n",
              "   'learning_rate': 'optimal',\n",
              "   'loss': 'modified_huber',\n",
              "   'penalty': 'l2'},\n",
              "  {'eta0': 0.01,\n",
              "   'learning_rate': 'optimal',\n",
              "   'loss': 'modified_huber',\n",
              "   'penalty': 'l1'},\n",
              "  {'eta0': 0.01,\n",
              "   'learning_rate': 'optimal',\n",
              "   'loss': 'modified_huber',\n",
              "   'penalty': 'elasticnet'},\n",
              "  {'eta0': 0.05,\n",
              "   'learning_rate': 'constant',\n",
              "   'loss': 'hinge',\n",
              "   'penalty': 'l2'},\n",
              "  {'eta0': 0.05,\n",
              "   'learning_rate': 'constant',\n",
              "   'loss': 'hinge',\n",
              "   'penalty': 'l1'},\n",
              "  {'eta0': 0.05,\n",
              "   'learning_rate': 'constant',\n",
              "   'loss': 'hinge',\n",
              "   'penalty': 'elasticnet'},\n",
              "  {'eta0': 0.05,\n",
              "   'learning_rate': 'constant',\n",
              "   'loss': 'log_loss',\n",
              "   'penalty': 'l2'},\n",
              "  {'eta0': 0.05,\n",
              "   'learning_rate': 'constant',\n",
              "   'loss': 'log_loss',\n",
              "   'penalty': 'l1'},\n",
              "  {'eta0': 0.05,\n",
              "   'learning_rate': 'constant',\n",
              "   'loss': 'log_loss',\n",
              "   'penalty': 'elasticnet'},\n",
              "  {'eta0': 0.05,\n",
              "   'learning_rate': 'constant',\n",
              "   'loss': 'modified_huber',\n",
              "   'penalty': 'l2'},\n",
              "  {'eta0': 0.05,\n",
              "   'learning_rate': 'constant',\n",
              "   'loss': 'modified_huber',\n",
              "   'penalty': 'l1'},\n",
              "  {'eta0': 0.05,\n",
              "   'learning_rate': 'constant',\n",
              "   'loss': 'modified_huber',\n",
              "   'penalty': 'elasticnet'},\n",
              "  {'eta0': 0.05,\n",
              "   'learning_rate': 'adaptive',\n",
              "   'loss': 'hinge',\n",
              "   'penalty': 'l2'},\n",
              "  {'eta0': 0.05,\n",
              "   'learning_rate': 'adaptive',\n",
              "   'loss': 'hinge',\n",
              "   'penalty': 'l1'},\n",
              "  {'eta0': 0.05,\n",
              "   'learning_rate': 'adaptive',\n",
              "   'loss': 'hinge',\n",
              "   'penalty': 'elasticnet'},\n",
              "  {'eta0': 0.05,\n",
              "   'learning_rate': 'adaptive',\n",
              "   'loss': 'log_loss',\n",
              "   'penalty': 'l2'},\n",
              "  {'eta0': 0.05,\n",
              "   'learning_rate': 'adaptive',\n",
              "   'loss': 'log_loss',\n",
              "   'penalty': 'l1'},\n",
              "  {'eta0': 0.05,\n",
              "   'learning_rate': 'adaptive',\n",
              "   'loss': 'log_loss',\n",
              "   'penalty': 'elasticnet'},\n",
              "  {'eta0': 0.05,\n",
              "   'learning_rate': 'adaptive',\n",
              "   'loss': 'modified_huber',\n",
              "   'penalty': 'l2'},\n",
              "  {'eta0': 0.05,\n",
              "   'learning_rate': 'adaptive',\n",
              "   'loss': 'modified_huber',\n",
              "   'penalty': 'l1'},\n",
              "  {'eta0': 0.05,\n",
              "   'learning_rate': 'adaptive',\n",
              "   'loss': 'modified_huber',\n",
              "   'penalty': 'elasticnet'},\n",
              "  {'eta0': 0.05, 'learning_rate': 'optimal', 'loss': 'hinge', 'penalty': 'l2'},\n",
              "  {'eta0': 0.05, 'learning_rate': 'optimal', 'loss': 'hinge', 'penalty': 'l1'},\n",
              "  {'eta0': 0.05,\n",
              "   'learning_rate': 'optimal',\n",
              "   'loss': 'hinge',\n",
              "   'penalty': 'elasticnet'},\n",
              "  {'eta0': 0.05,\n",
              "   'learning_rate': 'optimal',\n",
              "   'loss': 'log_loss',\n",
              "   'penalty': 'l2'},\n",
              "  {'eta0': 0.05,\n",
              "   'learning_rate': 'optimal',\n",
              "   'loss': 'log_loss',\n",
              "   'penalty': 'l1'},\n",
              "  {'eta0': 0.05,\n",
              "   'learning_rate': 'optimal',\n",
              "   'loss': 'log_loss',\n",
              "   'penalty': 'elasticnet'},\n",
              "  {'eta0': 0.05,\n",
              "   'learning_rate': 'optimal',\n",
              "   'loss': 'modified_huber',\n",
              "   'penalty': 'l2'},\n",
              "  {'eta0': 0.05,\n",
              "   'learning_rate': 'optimal',\n",
              "   'loss': 'modified_huber',\n",
              "   'penalty': 'l1'},\n",
              "  {'eta0': 0.05,\n",
              "   'learning_rate': 'optimal',\n",
              "   'loss': 'modified_huber',\n",
              "   'penalty': 'elasticnet'},\n",
              "  {'eta0': 1, 'learning_rate': 'constant', 'loss': 'hinge', 'penalty': 'l2'},\n",
              "  {'eta0': 1, 'learning_rate': 'constant', 'loss': 'hinge', 'penalty': 'l1'},\n",
              "  {'eta0': 1,\n",
              "   'learning_rate': 'constant',\n",
              "   'loss': 'hinge',\n",
              "   'penalty': 'elasticnet'},\n",
              "  {'eta0': 1,\n",
              "   'learning_rate': 'constant',\n",
              "   'loss': 'log_loss',\n",
              "   'penalty': 'l2'},\n",
              "  {'eta0': 1,\n",
              "   'learning_rate': 'constant',\n",
              "   'loss': 'log_loss',\n",
              "   'penalty': 'l1'},\n",
              "  {'eta0': 1,\n",
              "   'learning_rate': 'constant',\n",
              "   'loss': 'log_loss',\n",
              "   'penalty': 'elasticnet'},\n",
              "  {'eta0': 1,\n",
              "   'learning_rate': 'constant',\n",
              "   'loss': 'modified_huber',\n",
              "   'penalty': 'l2'},\n",
              "  {'eta0': 1,\n",
              "   'learning_rate': 'constant',\n",
              "   'loss': 'modified_huber',\n",
              "   'penalty': 'l1'},\n",
              "  {'eta0': 1,\n",
              "   'learning_rate': 'constant',\n",
              "   'loss': 'modified_huber',\n",
              "   'penalty': 'elasticnet'},\n",
              "  {'eta0': 1, 'learning_rate': 'adaptive', 'loss': 'hinge', 'penalty': 'l2'},\n",
              "  {'eta0': 1, 'learning_rate': 'adaptive', 'loss': 'hinge', 'penalty': 'l1'},\n",
              "  {'eta0': 1,\n",
              "   'learning_rate': 'adaptive',\n",
              "   'loss': 'hinge',\n",
              "   'penalty': 'elasticnet'},\n",
              "  {'eta0': 1,\n",
              "   'learning_rate': 'adaptive',\n",
              "   'loss': 'log_loss',\n",
              "   'penalty': 'l2'},\n",
              "  {'eta0': 1,\n",
              "   'learning_rate': 'adaptive',\n",
              "   'loss': 'log_loss',\n",
              "   'penalty': 'l1'},\n",
              "  {'eta0': 1,\n",
              "   'learning_rate': 'adaptive',\n",
              "   'loss': 'log_loss',\n",
              "   'penalty': 'elasticnet'},\n",
              "  {'eta0': 1,\n",
              "   'learning_rate': 'adaptive',\n",
              "   'loss': 'modified_huber',\n",
              "   'penalty': 'l2'},\n",
              "  {'eta0': 1,\n",
              "   'learning_rate': 'adaptive',\n",
              "   'loss': 'modified_huber',\n",
              "   'penalty': 'l1'},\n",
              "  {'eta0': 1,\n",
              "   'learning_rate': 'adaptive',\n",
              "   'loss': 'modified_huber',\n",
              "   'penalty': 'elasticnet'},\n",
              "  {'eta0': 1, 'learning_rate': 'optimal', 'loss': 'hinge', 'penalty': 'l2'},\n",
              "  {'eta0': 1, 'learning_rate': 'optimal', 'loss': 'hinge', 'penalty': 'l1'},\n",
              "  {'eta0': 1,\n",
              "   'learning_rate': 'optimal',\n",
              "   'loss': 'hinge',\n",
              "   'penalty': 'elasticnet'},\n",
              "  {'eta0': 1, 'learning_rate': 'optimal', 'loss': 'log_loss', 'penalty': 'l2'},\n",
              "  {'eta0': 1, 'learning_rate': 'optimal', 'loss': 'log_loss', 'penalty': 'l1'},\n",
              "  {'eta0': 1,\n",
              "   'learning_rate': 'optimal',\n",
              "   'loss': 'log_loss',\n",
              "   'penalty': 'elasticnet'},\n",
              "  {'eta0': 1,\n",
              "   'learning_rate': 'optimal',\n",
              "   'loss': 'modified_huber',\n",
              "   'penalty': 'l2'},\n",
              "  {'eta0': 1,\n",
              "   'learning_rate': 'optimal',\n",
              "   'loss': 'modified_huber',\n",
              "   'penalty': 'l1'},\n",
              "  {'eta0': 1,\n",
              "   'learning_rate': 'optimal',\n",
              "   'loss': 'modified_huber',\n",
              "   'penalty': 'elasticnet'},\n",
              "  {'eta0': 2, 'learning_rate': 'constant', 'loss': 'hinge', 'penalty': 'l2'},\n",
              "  {'eta0': 2, 'learning_rate': 'constant', 'loss': 'hinge', 'penalty': 'l1'},\n",
              "  {'eta0': 2,\n",
              "   'learning_rate': 'constant',\n",
              "   'loss': 'hinge',\n",
              "   'penalty': 'elasticnet'},\n",
              "  {'eta0': 2,\n",
              "   'learning_rate': 'constant',\n",
              "   'loss': 'log_loss',\n",
              "   'penalty': 'l2'},\n",
              "  {'eta0': 2,\n",
              "   'learning_rate': 'constant',\n",
              "   'loss': 'log_loss',\n",
              "   'penalty': 'l1'},\n",
              "  {'eta0': 2,\n",
              "   'learning_rate': 'constant',\n",
              "   'loss': 'log_loss',\n",
              "   'penalty': 'elasticnet'},\n",
              "  {'eta0': 2,\n",
              "   'learning_rate': 'constant',\n",
              "   'loss': 'modified_huber',\n",
              "   'penalty': 'l2'},\n",
              "  {'eta0': 2,\n",
              "   'learning_rate': 'constant',\n",
              "   'loss': 'modified_huber',\n",
              "   'penalty': 'l1'},\n",
              "  {'eta0': 2,\n",
              "   'learning_rate': 'constant',\n",
              "   'loss': 'modified_huber',\n",
              "   'penalty': 'elasticnet'},\n",
              "  {'eta0': 2, 'learning_rate': 'adaptive', 'loss': 'hinge', 'penalty': 'l2'},\n",
              "  {'eta0': 2, 'learning_rate': 'adaptive', 'loss': 'hinge', 'penalty': 'l1'},\n",
              "  {'eta0': 2,\n",
              "   'learning_rate': 'adaptive',\n",
              "   'loss': 'hinge',\n",
              "   'penalty': 'elasticnet'},\n",
              "  {'eta0': 2,\n",
              "   'learning_rate': 'adaptive',\n",
              "   'loss': 'log_loss',\n",
              "   'penalty': 'l2'},\n",
              "  {'eta0': 2,\n",
              "   'learning_rate': 'adaptive',\n",
              "   'loss': 'log_loss',\n",
              "   'penalty': 'l1'},\n",
              "  {'eta0': 2,\n",
              "   'learning_rate': 'adaptive',\n",
              "   'loss': 'log_loss',\n",
              "   'penalty': 'elasticnet'},\n",
              "  {'eta0': 2,\n",
              "   'learning_rate': 'adaptive',\n",
              "   'loss': 'modified_huber',\n",
              "   'penalty': 'l2'},\n",
              "  {'eta0': 2,\n",
              "   'learning_rate': 'adaptive',\n",
              "   'loss': 'modified_huber',\n",
              "   'penalty': 'l1'},\n",
              "  {'eta0': 2,\n",
              "   'learning_rate': 'adaptive',\n",
              "   'loss': 'modified_huber',\n",
              "   'penalty': 'elasticnet'},\n",
              "  {'eta0': 2, 'learning_rate': 'optimal', 'loss': 'hinge', 'penalty': 'l2'},\n",
              "  {'eta0': 2, 'learning_rate': 'optimal', 'loss': 'hinge', 'penalty': 'l1'},\n",
              "  {'eta0': 2,\n",
              "   'learning_rate': 'optimal',\n",
              "   'loss': 'hinge',\n",
              "   'penalty': 'elasticnet'},\n",
              "  {'eta0': 2, 'learning_rate': 'optimal', 'loss': 'log_loss', 'penalty': 'l2'},\n",
              "  {'eta0': 2, 'learning_rate': 'optimal', 'loss': 'log_loss', 'penalty': 'l1'},\n",
              "  {'eta0': 2,\n",
              "   'learning_rate': 'optimal',\n",
              "   'loss': 'log_loss',\n",
              "   'penalty': 'elasticnet'},\n",
              "  {'eta0': 2,\n",
              "   'learning_rate': 'optimal',\n",
              "   'loss': 'modified_huber',\n",
              "   'penalty': 'l2'},\n",
              "  {'eta0': 2,\n",
              "   'learning_rate': 'optimal',\n",
              "   'loss': 'modified_huber',\n",
              "   'penalty': 'l1'},\n",
              "  {'eta0': 2,\n",
              "   'learning_rate': 'optimal',\n",
              "   'loss': 'modified_huber',\n",
              "   'penalty': 'elasticnet'}],\n",
              " 'split0_test_score': array([0.86868687, 0.87542088, 0.86868687, 0.87205387, 0.87205387,\n",
              "        0.87205387, 0.85858586, 0.86195286, 0.86195286, 0.87542088,\n",
              "        0.87542088, 0.87542088, 0.86531987, 0.86531987, 0.86531987,\n",
              "        0.87542088, 0.87542088, 0.87542088, 0.84511785, 0.82828283,\n",
              "        0.8013468 , 0.85185185, 0.82828283, 0.82491582, 0.81818182,\n",
              "        0.8013468 , 0.71043771, 0.85521886, 0.86531987, 0.86531987,\n",
              "        0.86531987, 0.87205387, 0.86531987, 0.7979798 , 0.76430976,\n",
              "        0.76094276, 0.87878788, 0.87878788, 0.87542088, 0.86868687,\n",
              "        0.86868687, 0.86868687, 0.87205387, 0.87205387, 0.87205387,\n",
              "        0.84511785, 0.82828283, 0.8013468 , 0.85185185, 0.82828283,\n",
              "        0.82491582, 0.81818182, 0.8013468 , 0.71043771, 0.78451178,\n",
              "        0.86531987, 0.74747475, 0.76094276, 0.7979798 , 0.77104377,\n",
              "        0.78787879, 0.77104377, 0.79461279, 0.87542088, 0.87878788,\n",
              "        0.87878788, 0.86531987, 0.86531987, 0.86531987, 0.87542088,\n",
              "        0.87542088, 0.87542088, 0.84511785, 0.82828283, 0.8013468 ,\n",
              "        0.85185185, 0.82828283, 0.82491582, 0.81818182, 0.8013468 ,\n",
              "        0.71043771, 0.76430976, 0.73063973, 0.77441077, 0.8047138 ,\n",
              "        0.76767677, 0.78114478, 0.80808081, 0.77441077, 0.72727273,\n",
              "        0.87542088, 0.87878788, 0.87878788, 0.86868687, 0.86531987,\n",
              "        0.86868687, 0.87205387, 0.87205387, 0.87205387, 0.84511785,\n",
              "        0.82828283, 0.8013468 , 0.85185185, 0.82828283, 0.82491582,\n",
              "        0.81818182, 0.8013468 , 0.71043771]),\n",
              " 'split1_test_score': array([0.86531987, 0.85858586, 0.86868687, 0.86868687, 0.86868687,\n",
              "        0.86868687, 0.86195286, 0.85521886, 0.86195286, 0.86195286,\n",
              "        0.86195286, 0.86195286, 0.86868687, 0.86868687, 0.86868687,\n",
              "        0.86531987, 0.86531987, 0.86531987, 0.78114478, 0.83838384,\n",
              "        0.87878788, 0.84848485, 0.85185185, 0.85185185, 0.7979798 ,\n",
              "        0.78451178, 0.82491582, 0.86531987, 0.86195286, 0.86531987,\n",
              "        0.85521886, 0.85858586, 0.85521886, 0.78114478, 0.8013468 ,\n",
              "        0.8013468 , 0.86195286, 0.86195286, 0.86195286, 0.86868687,\n",
              "        0.86868687, 0.86868687, 0.86531987, 0.86531987, 0.86531987,\n",
              "        0.78114478, 0.83838384, 0.87878788, 0.84848485, 0.85185185,\n",
              "        0.85185185, 0.7979798 , 0.78451178, 0.82491582, 0.79124579,\n",
              "        0.83501684, 0.77777778, 0.7979798 , 0.81144781, 0.8013468 ,\n",
              "        0.8013468 , 0.84848485, 0.74074074, 0.86195286, 0.86195286,\n",
              "        0.86195286, 0.86868687, 0.86868687, 0.86868687, 0.86531987,\n",
              "        0.86531987, 0.86531987, 0.78114478, 0.83838384, 0.87878788,\n",
              "        0.84848485, 0.85185185, 0.85185185, 0.7979798 , 0.78451178,\n",
              "        0.82491582, 0.83501684, 0.73063973, 0.78114478, 0.8013468 ,\n",
              "        0.80808081, 0.77777778, 0.82828283, 0.77777778, 0.79461279,\n",
              "        0.86195286, 0.86195286, 0.86195286, 0.86868687, 0.86868687,\n",
              "        0.86868687, 0.86531987, 0.86531987, 0.86531987, 0.78114478,\n",
              "        0.83838384, 0.87878788, 0.84848485, 0.85185185, 0.85185185,\n",
              "        0.7979798 , 0.78451178, 0.82491582]),\n",
              " 'split2_test_score': array([0.87205387, 0.86868687, 0.87205387, 0.86195286, 0.86195286,\n",
              "        0.86195286, 0.84511785, 0.84511785, 0.84511785, 0.86868687,\n",
              "        0.86868687, 0.86868687, 0.86531987, 0.86531987, 0.86531987,\n",
              "        0.86531987, 0.86531987, 0.86531987, 0.83164983, 0.85858586,\n",
              "        0.87542088, 0.85521886, 0.86531987, 0.83838384, 0.83164983,\n",
              "        0.82828283, 0.79124579, 0.86195286, 0.85858586, 0.86195286,\n",
              "        0.86531987, 0.86195286, 0.86195286, 0.86868687, 0.82828283,\n",
              "        0.86868687, 0.86868687, 0.86868687, 0.86868687, 0.86531987,\n",
              "        0.86531987, 0.86531987, 0.86531987, 0.86531987, 0.86531987,\n",
              "        0.83164983, 0.85858586, 0.87542088, 0.85521886, 0.86531987,\n",
              "        0.83838384, 0.83164983, 0.82828283, 0.79124579, 0.86195286,\n",
              "        0.82154882, 0.81481481, 0.84848485, 0.82491582, 0.84175084,\n",
              "        0.82154882, 0.82828283, 0.87205387, 0.86868687, 0.86868687,\n",
              "        0.86868687, 0.86195286, 0.85858586, 0.86531987, 0.86531987,\n",
              "        0.86531987, 0.86531987, 0.83164983, 0.85858586, 0.87542088,\n",
              "        0.85521886, 0.86531987, 0.83838384, 0.83164983, 0.82828283,\n",
              "        0.79124579, 0.84175084, 0.77441077, 0.82154882, 0.8013468 ,\n",
              "        0.85521886, 0.82828283, 0.8013468 , 0.82154882, 0.83164983,\n",
              "        0.86868687, 0.86868687, 0.86868687, 0.86531987, 0.86531987,\n",
              "        0.86531987, 0.86531987, 0.86531987, 0.86531987, 0.83164983,\n",
              "        0.85858586, 0.87542088, 0.85521886, 0.86531987, 0.83838384,\n",
              "        0.83164983, 0.82828283, 0.79124579]),\n",
              " 'split3_test_score': array([0.875     , 0.87837838, 0.87837838, 0.89189189, 0.89189189,\n",
              "        0.89189189, 0.88513514, 0.88513514, 0.88513514, 0.88175676,\n",
              "        0.87837838, 0.88175676, 0.89189189, 0.89189189, 0.89189189,\n",
              "        0.875     , 0.875     , 0.875     , 0.85135135, 0.86486486,\n",
              "        0.83108108, 0.85810811, 0.86824324, 0.86824324, 0.87162162,\n",
              "        0.72297297, 0.63513514, 0.88175676, 0.88513514, 0.88851351,\n",
              "        0.88851351, 0.88851351, 0.88851351, 0.85135135, 0.83783784,\n",
              "        0.85135135, 0.87837838, 0.88175676, 0.88175676, 0.89189189,\n",
              "        0.89189189, 0.89189189, 0.87837838, 0.875     , 0.87837838,\n",
              "        0.85135135, 0.86486486, 0.83108108, 0.85810811, 0.86824324,\n",
              "        0.86824324, 0.87162162, 0.72297297, 0.63513514, 0.83108108,\n",
              "        0.875     , 0.87162162, 0.78716216, 0.84121622, 0.83445946,\n",
              "        0.84121622, 0.84121622, 0.83445946, 0.88175676, 0.88175676,\n",
              "        0.88175676, 0.89189189, 0.89189189, 0.89189189, 0.875     ,\n",
              "        0.87837838, 0.87837838, 0.85135135, 0.86486486, 0.83108108,\n",
              "        0.85810811, 0.86824324, 0.86824324, 0.87162162, 0.72297297,\n",
              "        0.63513514, 0.83783784, 0.7972973 , 0.78716216, 0.85135135,\n",
              "        0.88851351, 0.84797297, 0.86824324, 0.76689189, 0.8277027 ,\n",
              "        0.88175676, 0.88175676, 0.88175676, 0.89189189, 0.89189189,\n",
              "        0.89189189, 0.875     , 0.875     , 0.875     , 0.85135135,\n",
              "        0.86486486, 0.83108108, 0.85810811, 0.86824324, 0.86824324,\n",
              "        0.87162162, 0.72297297, 0.63513514]),\n",
              " 'split4_test_score': array([0.86148649, 0.86148649, 0.86148649, 0.85810811, 0.85810811,\n",
              "        0.85810811, 0.84459459, 0.84797297, 0.84459459, 0.86148649,\n",
              "        0.86148649, 0.86148649, 0.85472973, 0.85472973, 0.85472973,\n",
              "        0.85810811, 0.85810811, 0.85810811, 0.84459459, 0.86486486,\n",
              "        0.85810811, 0.84797297, 0.85135135, 0.86148649, 0.81081081,\n",
              "        0.86148649, 0.83445946, 0.86148649, 0.85472973, 0.86824324,\n",
              "        0.84797297, 0.84797297, 0.84797297, 0.83108108, 0.85810811,\n",
              "        0.8277027 , 0.86148649, 0.86148649, 0.86148649, 0.85810811,\n",
              "        0.85810811, 0.85472973, 0.85810811, 0.85472973, 0.85810811,\n",
              "        0.84459459, 0.86486486, 0.85810811, 0.84797297, 0.85135135,\n",
              "        0.86148649, 0.81081081, 0.86148649, 0.83445946, 0.81418919,\n",
              "        0.81081081, 0.84459459, 0.80405405, 0.83445946, 0.81418919,\n",
              "        0.83445946, 0.82432432, 0.8277027 , 0.86148649, 0.86148649,\n",
              "        0.86148649, 0.85810811, 0.85472973, 0.85810811, 0.85472973,\n",
              "        0.85472973, 0.85472973, 0.84459459, 0.86486486, 0.85810811,\n",
              "        0.84797297, 0.85135135, 0.86148649, 0.81081081, 0.86148649,\n",
              "        0.83445946, 0.81756757, 0.76013514, 0.78040541, 0.81756757,\n",
              "        0.81081081, 0.81418919, 0.85135135, 0.77364865, 0.875     ,\n",
              "        0.86148649, 0.86148649, 0.86148649, 0.85810811, 0.85472973,\n",
              "        0.85810811, 0.86148649, 0.85810811, 0.86148649, 0.84459459,\n",
              "        0.86486486, 0.85810811, 0.84797297, 0.85135135, 0.86148649,\n",
              "        0.81081081, 0.86148649, 0.83445946]),\n",
              " 'mean_test_score': array([0.86850942, 0.86851169, 0.86985849, 0.87053872, 0.87053872,\n",
              "        0.87053872, 0.85907726, 0.85907953, 0.85975066, 0.86986077,\n",
              "        0.86918509, 0.86986077, 0.86918964, 0.86918964, 0.86918964,\n",
              "        0.86783374, 0.86783374, 0.86783374, 0.83077168, 0.85099645,\n",
              "        0.84894895, 0.85232733, 0.85300983, 0.84897625, 0.82604878,\n",
              "        0.79972017, 0.75923878, 0.86514697, 0.86514469, 0.86986987,\n",
              "        0.86446901, 0.86581582, 0.86379561, 0.82604878, 0.81797707,\n",
              "        0.8220061 , 0.86985849, 0.87053417, 0.86986077, 0.87053872,\n",
              "        0.87053872, 0.86986304, 0.86783602, 0.86648467, 0.86783602,\n",
              "        0.83077168, 0.85099645, 0.84894895, 0.85232733, 0.85300983,\n",
              "        0.84897625, 0.82604878, 0.79972017, 0.75923878, 0.81659614,\n",
              "        0.84153927, 0.81125671, 0.79972472, 0.82200382, 0.81255801,\n",
              "        0.81729002, 0.8226704 , 0.81391391, 0.86986077, 0.87053417,\n",
              "        0.87053417, 0.86919192, 0.86784284, 0.86986532, 0.86715807,\n",
              "        0.86783374, 0.86783374, 0.83077168, 0.85099645, 0.84894895,\n",
              "        0.85232733, 0.85300983, 0.84897625, 0.82604878, 0.79972017,\n",
              "        0.75923878, 0.81929657, 0.75862453, 0.78893439, 0.81526527,\n",
              "        0.82606015, 0.80987351, 0.83146101, 0.78285558, 0.81124761,\n",
              "        0.86986077, 0.87053417, 0.87053417, 0.87053872, 0.86918964,\n",
              "        0.87053872, 0.86783602, 0.86716034, 0.86783602, 0.83077168,\n",
              "        0.85099645, 0.84894895, 0.85232733, 0.85300983, 0.84897625,\n",
              "        0.82604878, 0.79972017, 0.75923878]),\n",
              " 'std_test_score': array([0.00477948, 0.00765499, 0.00548168, 0.01174666, 0.01174666,\n",
              "        0.01174666, 0.01477928, 0.01428523, 0.01481821, 0.00782906,\n",
              "        0.00685891, 0.00782906, 0.01228564, 0.01228564, 0.01228564,\n",
              "        0.00657491, 0.00657491, 0.00657491, 0.02562814, 0.01494825,\n",
              "        0.02918986, 0.00389177, 0.01413584, 0.01566586, 0.02525949,\n",
              "        0.04637882, 0.07586743, 0.00892282, 0.01059553, 0.00953221,\n",
              "        0.01369139, 0.01370883, 0.01371576, 0.03252011, 0.03245891,\n",
              "        0.03802164, 0.00756683, 0.00840217, 0.00782906, 0.01135406,\n",
              "        0.01135406, 0.01214656, 0.00687351, 0.0069917 , 0.00687351,\n",
              "        0.02562814, 0.01494825, 0.02918986, 0.00389177, 0.01413584,\n",
              "        0.01566586, 0.02525949, 0.04637882, 0.07586743, 0.02808874,\n",
              "        0.02478522, 0.04462505, 0.02849981, 0.01562896, 0.02523362,\n",
              "        0.02002297, 0.02723922, 0.04408934, 0.00782906, 0.00840217,\n",
              "        0.00840217, 0.01188101, 0.01298522, 0.01154221, 0.00762878,\n",
              "        0.00840367, 0.00840367, 0.02562814, 0.01494825, 0.02918986,\n",
              "        0.00389177, 0.01413584, 0.01566586, 0.02525949, 0.04637882,\n",
              "        0.07586743, 0.02871111, 0.02574245, 0.01679999, 0.01900677,\n",
              "        0.04174942, 0.0270724 , 0.02534624, 0.01966658, 0.04915259,\n",
              "        0.00782906, 0.00840217, 0.00840217, 0.01135406, 0.01228564,\n",
              "        0.01135406, 0.00494149, 0.00590126, 0.00494149, 0.02562814,\n",
              "        0.01494825, 0.02918986, 0.00389177, 0.01413584, 0.01566586,\n",
              "        0.02525949, 0.04637882, 0.07586743]),\n",
              " 'rank_test_score': array([ 30,  29,  21,   1,   1,   1,  51,  50,  49,  16,  28,  16,  24,\n",
              "         24,  24,  36,  36,  36,  74,  60,  68,  56,  52,  64,  79,  98,\n",
              "        104,  45,  46,  13,  47,  44,  48,  79,  88,  85,  21,   8,  16,\n",
              "          1,   1,  15,  32,  43,  32,  74,  60,  68,  56,  52,  64,  79,\n",
              "         98, 104,  90,  72,  94,  97,  86,  93,  89,  84,  92,  16,   8,\n",
              "          8,  23,  31,  14,  42,  36,  36,  74,  60,  68,  56,  52,  64,\n",
              "         79,  98, 104,  87, 108, 102,  91,  78,  96,  73, 103,  95,  16,\n",
              "          8,   8,   1,  24,   1,  32,  41,  32,  74,  60,  68,  56,  52,\n",
              "         64,  79,  98, 104])}"
            ]
          },
          "execution_count": 33,
          "metadata": {},
          "output_type": "execute_result"
        }
      ],
      "source": [
        "clf_grid.cv_results_"
      ]
    },
    {
      "cell_type": "code",
      "execution_count": null,
      "metadata": {
        "id": "gVrXwrKcNFeo",
        "outputId": "d2de7cda-4ccf-4370-c7b5-c72709f7f87a",
        "scrolled": true
      },
      "outputs": [
        {
          "data": {
            "text/html": [
              "<div>\n",
              "<style scoped>\n",
              "    .dataframe tbody tr th:only-of-type {\n",
              "        vertical-align: middle;\n",
              "    }\n",
              "\n",
              "    .dataframe tbody tr th {\n",
              "        vertical-align: top;\n",
              "    }\n",
              "\n",
              "    .dataframe thead th {\n",
              "        text-align: right;\n",
              "    }\n",
              "</style>\n",
              "<table border=\"1\" class=\"dataframe\">\n",
              "  <thead>\n",
              "    <tr style=\"text-align: right;\">\n",
              "      <th></th>\n",
              "      <th>mean_fit_time</th>\n",
              "      <th>std_fit_time</th>\n",
              "      <th>mean_score_time</th>\n",
              "      <th>std_score_time</th>\n",
              "      <th>param_eta0</th>\n",
              "      <th>param_learning_rate</th>\n",
              "      <th>param_loss</th>\n",
              "      <th>param_penalty</th>\n",
              "      <th>params</th>\n",
              "      <th>split0_test_score</th>\n",
              "      <th>split1_test_score</th>\n",
              "      <th>split2_test_score</th>\n",
              "      <th>split3_test_score</th>\n",
              "      <th>split4_test_score</th>\n",
              "      <th>mean_test_score</th>\n",
              "      <th>std_test_score</th>\n",
              "      <th>rank_test_score</th>\n",
              "    </tr>\n",
              "  </thead>\n",
              "  <tbody>\n",
              "    <tr>\n",
              "      <th>0</th>\n",
              "      <td>0.009399</td>\n",
              "      <td>0.006078</td>\n",
              "      <td>0.002706</td>\n",
              "      <td>0.002888</td>\n",
              "      <td>0.01</td>\n",
              "      <td>constant</td>\n",
              "      <td>hinge</td>\n",
              "      <td>l2</td>\n",
              "      <td>{'eta0': 0.01, 'learning_rate': 'constant', 'l...</td>\n",
              "      <td>0.868687</td>\n",
              "      <td>0.865320</td>\n",
              "      <td>0.872054</td>\n",
              "      <td>0.875000</td>\n",
              "      <td>0.861486</td>\n",
              "      <td>0.868509</td>\n",
              "      <td>0.004779</td>\n",
              "      <td>30</td>\n",
              "    </tr>\n",
              "    <tr>\n",
              "      <th>1</th>\n",
              "      <td>0.012839</td>\n",
              "      <td>0.008693</td>\n",
              "      <td>0.001648</td>\n",
              "      <td>0.001272</td>\n",
              "      <td>0.01</td>\n",
              "      <td>constant</td>\n",
              "      <td>hinge</td>\n",
              "      <td>l1</td>\n",
              "      <td>{'eta0': 0.01, 'learning_rate': 'constant', 'l...</td>\n",
              "      <td>0.875421</td>\n",
              "      <td>0.858586</td>\n",
              "      <td>0.868687</td>\n",
              "      <td>0.878378</td>\n",
              "      <td>0.861486</td>\n",
              "      <td>0.868512</td>\n",
              "      <td>0.007655</td>\n",
              "      <td>29</td>\n",
              "    </tr>\n",
              "    <tr>\n",
              "      <th>2</th>\n",
              "      <td>0.017764</td>\n",
              "      <td>0.015509</td>\n",
              "      <td>0.001962</td>\n",
              "      <td>0.001625</td>\n",
              "      <td>0.01</td>\n",
              "      <td>constant</td>\n",
              "      <td>hinge</td>\n",
              "      <td>elasticnet</td>\n",
              "      <td>{'eta0': 0.01, 'learning_rate': 'constant', 'l...</td>\n",
              "      <td>0.868687</td>\n",
              "      <td>0.868687</td>\n",
              "      <td>0.872054</td>\n",
              "      <td>0.878378</td>\n",
              "      <td>0.861486</td>\n",
              "      <td>0.869858</td>\n",
              "      <td>0.005482</td>\n",
              "      <td>21</td>\n",
              "    </tr>\n",
              "    <tr>\n",
              "      <th>3</th>\n",
              "      <td>0.011877</td>\n",
              "      <td>0.015106</td>\n",
              "      <td>0.007238</td>\n",
              "      <td>0.011250</td>\n",
              "      <td>0.01</td>\n",
              "      <td>constant</td>\n",
              "      <td>log_loss</td>\n",
              "      <td>l2</td>\n",
              "      <td>{'eta0': 0.01, 'learning_rate': 'constant', 'l...</td>\n",
              "      <td>0.872054</td>\n",
              "      <td>0.868687</td>\n",
              "      <td>0.861953</td>\n",
              "      <td>0.891892</td>\n",
              "      <td>0.858108</td>\n",
              "      <td>0.870539</td>\n",
              "      <td>0.011747</td>\n",
              "      <td>1</td>\n",
              "    </tr>\n",
              "    <tr>\n",
              "      <th>4</th>\n",
              "      <td>0.018015</td>\n",
              "      <td>0.011972</td>\n",
              "      <td>0.011417</td>\n",
              "      <td>0.021617</td>\n",
              "      <td>0.01</td>\n",
              "      <td>constant</td>\n",
              "      <td>log_loss</td>\n",
              "      <td>l1</td>\n",
              "      <td>{'eta0': 0.01, 'learning_rate': 'constant', 'l...</td>\n",
              "      <td>0.872054</td>\n",
              "      <td>0.868687</td>\n",
              "      <td>0.861953</td>\n",
              "      <td>0.891892</td>\n",
              "      <td>0.858108</td>\n",
              "      <td>0.870539</td>\n",
              "      <td>0.011747</td>\n",
              "      <td>1</td>\n",
              "    </tr>\n",
              "    <tr>\n",
              "      <th>...</th>\n",
              "      <td>...</td>\n",
              "      <td>...</td>\n",
              "      <td>...</td>\n",
              "      <td>...</td>\n",
              "      <td>...</td>\n",
              "      <td>...</td>\n",
              "      <td>...</td>\n",
              "      <td>...</td>\n",
              "      <td>...</td>\n",
              "      <td>...</td>\n",
              "      <td>...</td>\n",
              "      <td>...</td>\n",
              "      <td>...</td>\n",
              "      <td>...</td>\n",
              "      <td>...</td>\n",
              "      <td>...</td>\n",
              "      <td>...</td>\n",
              "    </tr>\n",
              "    <tr>\n",
              "      <th>103</th>\n",
              "      <td>0.021035</td>\n",
              "      <td>0.004201</td>\n",
              "      <td>0.002408</td>\n",
              "      <td>0.003343</td>\n",
              "      <td>2</td>\n",
              "      <td>optimal</td>\n",
              "      <td>log_loss</td>\n",
              "      <td>l1</td>\n",
              "      <td>{'eta0': 2, 'learning_rate': 'optimal', 'loss'...</td>\n",
              "      <td>0.828283</td>\n",
              "      <td>0.851852</td>\n",
              "      <td>0.865320</td>\n",
              "      <td>0.868243</td>\n",
              "      <td>0.851351</td>\n",
              "      <td>0.853010</td>\n",
              "      <td>0.014136</td>\n",
              "      <td>52</td>\n",
              "    </tr>\n",
              "    <tr>\n",
              "      <th>104</th>\n",
              "      <td>0.030590</td>\n",
              "      <td>0.006724</td>\n",
              "      <td>0.002614</td>\n",
              "      <td>0.001997</td>\n",
              "      <td>2</td>\n",
              "      <td>optimal</td>\n",
              "      <td>log_loss</td>\n",
              "      <td>elasticnet</td>\n",
              "      <td>{'eta0': 2, 'learning_rate': 'optimal', 'loss'...</td>\n",
              "      <td>0.824916</td>\n",
              "      <td>0.851852</td>\n",
              "      <td>0.838384</td>\n",
              "      <td>0.868243</td>\n",
              "      <td>0.861486</td>\n",
              "      <td>0.848976</td>\n",
              "      <td>0.015666</td>\n",
              "      <td>64</td>\n",
              "    </tr>\n",
              "    <tr>\n",
              "      <th>105</th>\n",
              "      <td>0.011521</td>\n",
              "      <td>0.004119</td>\n",
              "      <td>0.000814</td>\n",
              "      <td>0.000408</td>\n",
              "      <td>2</td>\n",
              "      <td>optimal</td>\n",
              "      <td>modified_huber</td>\n",
              "      <td>l2</td>\n",
              "      <td>{'eta0': 2, 'learning_rate': 'optimal', 'loss'...</td>\n",
              "      <td>0.818182</td>\n",
              "      <td>0.797980</td>\n",
              "      <td>0.831650</td>\n",
              "      <td>0.871622</td>\n",
              "      <td>0.810811</td>\n",
              "      <td>0.826049</td>\n",
              "      <td>0.025259</td>\n",
              "      <td>79</td>\n",
              "    </tr>\n",
              "    <tr>\n",
              "      <th>106</th>\n",
              "      <td>0.018301</td>\n",
              "      <td>0.004644</td>\n",
              "      <td>0.001747</td>\n",
              "      <td>0.001177</td>\n",
              "      <td>2</td>\n",
              "      <td>optimal</td>\n",
              "      <td>modified_huber</td>\n",
              "      <td>l1</td>\n",
              "      <td>{'eta0': 2, 'learning_rate': 'optimal', 'loss'...</td>\n",
              "      <td>0.801347</td>\n",
              "      <td>0.784512</td>\n",
              "      <td>0.828283</td>\n",
              "      <td>0.722973</td>\n",
              "      <td>0.861486</td>\n",
              "      <td>0.799720</td>\n",
              "      <td>0.046379</td>\n",
              "      <td>98</td>\n",
              "    </tr>\n",
              "    <tr>\n",
              "      <th>107</th>\n",
              "      <td>0.024650</td>\n",
              "      <td>0.010198</td>\n",
              "      <td>0.001165</td>\n",
              "      <td>0.000657</td>\n",
              "      <td>2</td>\n",
              "      <td>optimal</td>\n",
              "      <td>modified_huber</td>\n",
              "      <td>elasticnet</td>\n",
              "      <td>{'eta0': 2, 'learning_rate': 'optimal', 'loss'...</td>\n",
              "      <td>0.710438</td>\n",
              "      <td>0.824916</td>\n",
              "      <td>0.791246</td>\n",
              "      <td>0.635135</td>\n",
              "      <td>0.834459</td>\n",
              "      <td>0.759239</td>\n",
              "      <td>0.075867</td>\n",
              "      <td>104</td>\n",
              "    </tr>\n",
              "  </tbody>\n",
              "</table>\n",
              "<p>108 rows × 17 columns</p>\n",
              "</div>"
            ],
            "text/plain": [
              "     mean_fit_time  std_fit_time  mean_score_time  std_score_time param_eta0  \\\n",
              "0         0.009399      0.006078         0.002706        0.002888       0.01   \n",
              "1         0.012839      0.008693         0.001648        0.001272       0.01   \n",
              "2         0.017764      0.015509         0.001962        0.001625       0.01   \n",
              "3         0.011877      0.015106         0.007238        0.011250       0.01   \n",
              "4         0.018015      0.011972         0.011417        0.021617       0.01   \n",
              "..             ...           ...              ...             ...        ...   \n",
              "103       0.021035      0.004201         0.002408        0.003343          2   \n",
              "104       0.030590      0.006724         0.002614        0.001997          2   \n",
              "105       0.011521      0.004119         0.000814        0.000408          2   \n",
              "106       0.018301      0.004644         0.001747        0.001177          2   \n",
              "107       0.024650      0.010198         0.001165        0.000657          2   \n",
              "\n",
              "    param_learning_rate      param_loss param_penalty  \\\n",
              "0              constant           hinge            l2   \n",
              "1              constant           hinge            l1   \n",
              "2              constant           hinge    elasticnet   \n",
              "3              constant        log_loss            l2   \n",
              "4              constant        log_loss            l1   \n",
              "..                  ...             ...           ...   \n",
              "103             optimal        log_loss            l1   \n",
              "104             optimal        log_loss    elasticnet   \n",
              "105             optimal  modified_huber            l2   \n",
              "106             optimal  modified_huber            l1   \n",
              "107             optimal  modified_huber    elasticnet   \n",
              "\n",
              "                                                params  split0_test_score  \\\n",
              "0    {'eta0': 0.01, 'learning_rate': 'constant', 'l...           0.868687   \n",
              "1    {'eta0': 0.01, 'learning_rate': 'constant', 'l...           0.875421   \n",
              "2    {'eta0': 0.01, 'learning_rate': 'constant', 'l...           0.868687   \n",
              "3    {'eta0': 0.01, 'learning_rate': 'constant', 'l...           0.872054   \n",
              "4    {'eta0': 0.01, 'learning_rate': 'constant', 'l...           0.872054   \n",
              "..                                                 ...                ...   \n",
              "103  {'eta0': 2, 'learning_rate': 'optimal', 'loss'...           0.828283   \n",
              "104  {'eta0': 2, 'learning_rate': 'optimal', 'loss'...           0.824916   \n",
              "105  {'eta0': 2, 'learning_rate': 'optimal', 'loss'...           0.818182   \n",
              "106  {'eta0': 2, 'learning_rate': 'optimal', 'loss'...           0.801347   \n",
              "107  {'eta0': 2, 'learning_rate': 'optimal', 'loss'...           0.710438   \n",
              "\n",
              "     split1_test_score  split2_test_score  split3_test_score  \\\n",
              "0             0.865320           0.872054           0.875000   \n",
              "1             0.858586           0.868687           0.878378   \n",
              "2             0.868687           0.872054           0.878378   \n",
              "3             0.868687           0.861953           0.891892   \n",
              "4             0.868687           0.861953           0.891892   \n",
              "..                 ...                ...                ...   \n",
              "103           0.851852           0.865320           0.868243   \n",
              "104           0.851852           0.838384           0.868243   \n",
              "105           0.797980           0.831650           0.871622   \n",
              "106           0.784512           0.828283           0.722973   \n",
              "107           0.824916           0.791246           0.635135   \n",
              "\n",
              "     split4_test_score  mean_test_score  std_test_score  rank_test_score  \n",
              "0             0.861486         0.868509        0.004779               30  \n",
              "1             0.861486         0.868512        0.007655               29  \n",
              "2             0.861486         0.869858        0.005482               21  \n",
              "3             0.858108         0.870539        0.011747                1  \n",
              "4             0.858108         0.870539        0.011747                1  \n",
              "..                 ...              ...             ...              ...  \n",
              "103           0.851351         0.853010        0.014136               52  \n",
              "104           0.861486         0.848976        0.015666               64  \n",
              "105           0.810811         0.826049        0.025259               79  \n",
              "106           0.861486         0.799720        0.046379               98  \n",
              "107           0.834459         0.759239        0.075867              104  \n",
              "\n",
              "[108 rows x 17 columns]"
            ]
          },
          "execution_count": 34,
          "metadata": {},
          "output_type": "execute_result"
        }
      ],
      "source": [
        "# Se transforman los resultados en una dataframe para que sea más sencillo analizarlos visualmete\n",
        "import pandas as pd\n",
        "results = clf_grid.cv_results_\n",
        "df = pd.DataFrame(results)\n",
        "df"
      ]
    },
    {
      "cell_type": "markdown",
      "metadata": {
        "id": "FWLSRXM6NFep"
      },
      "source": [
        "#### Accuracy para todas las configuraciones"
      ]
    },
    {
      "cell_type": "code",
      "execution_count": null,
      "metadata": {
        "id": "wkol6BtjNFep",
        "outputId": "4dff325b-a856-41c8-96c5-1b97fc40aa15",
        "scrolled": false
      },
      "outputs": [
        {
          "data": {
            "text/plain": [
              "array([0.86850942, 0.86851169, 0.86985849, 0.87053872, 0.87053872,\n",
              "       0.87053872, 0.85907726, 0.85907953, 0.85975066, 0.86986077,\n",
              "       0.86918509, 0.86986077, 0.86918964, 0.86918964, 0.86918964,\n",
              "       0.86783374, 0.86783374, 0.86783374, 0.83077168, 0.85099645,\n",
              "       0.84894895, 0.85232733, 0.85300983, 0.84897625, 0.82604878,\n",
              "       0.79972017, 0.75923878, 0.86514697, 0.86514469, 0.86986987,\n",
              "       0.86446901, 0.86581582, 0.86379561, 0.82604878, 0.81797707,\n",
              "       0.8220061 , 0.86985849, 0.87053417, 0.86986077, 0.87053872,\n",
              "       0.87053872, 0.86986304, 0.86783602, 0.86648467, 0.86783602,\n",
              "       0.83077168, 0.85099645, 0.84894895, 0.85232733, 0.85300983,\n",
              "       0.84897625, 0.82604878, 0.79972017, 0.75923878, 0.81659614,\n",
              "       0.84153927, 0.81125671, 0.79972472, 0.82200382, 0.81255801,\n",
              "       0.81729002, 0.8226704 , 0.81391391, 0.86986077, 0.87053417,\n",
              "       0.87053417, 0.86919192, 0.86784284, 0.86986532, 0.86715807,\n",
              "       0.86783374, 0.86783374, 0.83077168, 0.85099645, 0.84894895,\n",
              "       0.85232733, 0.85300983, 0.84897625, 0.82604878, 0.79972017,\n",
              "       0.75923878, 0.81929657, 0.75862453, 0.78893439, 0.81526527,\n",
              "       0.82606015, 0.80987351, 0.83146101, 0.78285558, 0.81124761,\n",
              "       0.86986077, 0.87053417, 0.87053417, 0.87053872, 0.86918964,\n",
              "       0.87053872, 0.86783602, 0.86716034, 0.86783602, 0.83077168,\n",
              "       0.85099645, 0.84894895, 0.85232733, 0.85300983, 0.84897625,\n",
              "       0.82604878, 0.79972017, 0.75923878])"
            ]
          },
          "execution_count": 35,
          "metadata": {},
          "output_type": "execute_result"
        }
      ],
      "source": [
        "# Se analizan los resultados de Accuracy\n",
        "accuracies = clf_grid.cv_results_['mean_test_score'] \n",
        "accuracies"
      ]
    },
    {
      "cell_type": "markdown",
      "metadata": {
        "id": "UUOJqy5RNFep"
      },
      "source": [
        "#### Desviación estándar para todas las configuraciones"
      ]
    },
    {
      "cell_type": "code",
      "execution_count": null,
      "metadata": {
        "id": "fEPP4xrbNFep",
        "outputId": "45f64ee2-3c81-4252-d7db-5aa8c5d6c4b5",
        "scrolled": false
      },
      "outputs": [
        {
          "data": {
            "text/plain": [
              "array([0.00477948, 0.00765499, 0.00548168, 0.01174666, 0.01174666,\n",
              "       0.01174666, 0.01477928, 0.01428523, 0.01481821, 0.00782906,\n",
              "       0.00685891, 0.00782906, 0.01228564, 0.01228564, 0.01228564,\n",
              "       0.00657491, 0.00657491, 0.00657491, 0.02562814, 0.01494825,\n",
              "       0.02918986, 0.00389177, 0.01413584, 0.01566586, 0.02525949,\n",
              "       0.04637882, 0.07586743, 0.00892282, 0.01059553, 0.00953221,\n",
              "       0.01369139, 0.01370883, 0.01371576, 0.03252011, 0.03245891,\n",
              "       0.03802164, 0.00756683, 0.00840217, 0.00782906, 0.01135406,\n",
              "       0.01135406, 0.01214656, 0.00687351, 0.0069917 , 0.00687351,\n",
              "       0.02562814, 0.01494825, 0.02918986, 0.00389177, 0.01413584,\n",
              "       0.01566586, 0.02525949, 0.04637882, 0.07586743, 0.02808874,\n",
              "       0.02478522, 0.04462505, 0.02849981, 0.01562896, 0.02523362,\n",
              "       0.02002297, 0.02723922, 0.04408934, 0.00782906, 0.00840217,\n",
              "       0.00840217, 0.01188101, 0.01298522, 0.01154221, 0.00762878,\n",
              "       0.00840367, 0.00840367, 0.02562814, 0.01494825, 0.02918986,\n",
              "       0.00389177, 0.01413584, 0.01566586, 0.02525949, 0.04637882,\n",
              "       0.07586743, 0.02871111, 0.02574245, 0.01679999, 0.01900677,\n",
              "       0.04174942, 0.0270724 , 0.02534624, 0.01966658, 0.04915259,\n",
              "       0.00782906, 0.00840217, 0.00840217, 0.01135406, 0.01228564,\n",
              "       0.01135406, 0.00494149, 0.00590126, 0.00494149, 0.02562814,\n",
              "       0.01494825, 0.02918986, 0.00389177, 0.01413584, 0.01566586,\n",
              "       0.02525949, 0.04637882, 0.07586743])"
            ]
          },
          "execution_count": 36,
          "metadata": {},
          "output_type": "execute_result"
        }
      ],
      "source": [
        "# Se evalúan las desviaciones obtenidas para cada modelo\n",
        "std = clf_grid.cv_results_['std_test_score'] \n",
        "std"
      ]
    },
    {
      "cell_type": "markdown",
      "metadata": {
        "id": "lqlzHm22NFeq"
      },
      "source": [
        "### Evaluamos el mejor modelo"
      ]
    },
    {
      "cell_type": "code",
      "execution_count": null,
      "metadata": {
        "id": "iTKHUp_rNFeq"
      },
      "outputs": [],
      "source": [
        "# Se obtienen las etiquetas predichas para el grupo de datos de entrenamiento y test.\n",
        "y2_train_pred = best_model.predict(X2_train)\n",
        "y2_test_pred = best_model.predict(X2_test)\n"
      ]
    },
    {
      "cell_type": "markdown",
      "metadata": {
        "id": "Xu87hlmzNFeq"
      },
      "source": [
        "#### Sobre el conjunto de entrenamiento"
      ]
    },
    {
      "cell_type": "code",
      "execution_count": null,
      "metadata": {
        "id": "RbJji22UNFeq",
        "outputId": "f36c4e80-4822-4385-b50c-a500e386667e"
      },
      "outputs": [
        {
          "name": "stdout",
          "output_type": "stream",
          "text": [
            "              precision    recall  f1-score   support\n",
            "\n",
            "           0       0.88      0.99      0.93      1232\n",
            "           1       0.83      0.32      0.46       251\n",
            "\n",
            "    accuracy                           0.87      1483\n",
            "   macro avg       0.85      0.65      0.70      1483\n",
            "weighted avg       0.87      0.87      0.85      1483\n",
            "\n"
          ]
        }
      ],
      "source": [
        "# Se obtiene el reporte para los datos de entrenamiento\n",
        "print(classification_report(y2_train, y2_train_pred))"
      ]
    },
    {
      "cell_type": "markdown",
      "metadata": {
        "id": "bzTC3iQwNFeq"
      },
      "source": [
        "#### Sobre el conjunto de evaluación"
      ]
    },
    {
      "cell_type": "code",
      "execution_count": null,
      "metadata": {
        "id": "_oWhK-mCNFeq",
        "outputId": "26f6f78c-90d7-49cd-c614-45fa2132d9eb"
      },
      "outputs": [
        {
          "name": "stdout",
          "output_type": "stream",
          "text": [
            "              precision    recall  f1-score   support\n",
            "\n",
            "           0       0.89      0.98      0.93       313\n",
            "           1       0.76      0.33      0.46        58\n",
            "\n",
            "    accuracy                           0.88       371\n",
            "   macro avg       0.82      0.65      0.69       371\n",
            "weighted avg       0.87      0.88      0.86       371\n",
            "\n"
          ]
        }
      ],
      "source": [
        "# Se obtiene el reporte para los datos de validación\n",
        "print(classification_report(y2_test, y2_test_pred))"
      ]
    },
    {
      "cell_type": "markdown",
      "metadata": {
        "id": "dif-ruU9NFeq"
      },
      "source": [
        "#### Matriz de confusión - conjunto de evaluación"
      ]
    },
    {
      "cell_type": "code",
      "execution_count": null,
      "metadata": {
        "id": "BVoeVAy8NFer",
        "outputId": "3ee8b04b-ff78-4643-89fd-227b768a4c3c"
      },
      "outputs": [
        {
          "data": {
            "text/plain": [
              "array([[307,   6],\n",
              "       [ 39,  19]], dtype=int64)"
            ]
          },
          "execution_count": 40,
          "metadata": {},
          "output_type": "execute_result"
        }
      ],
      "source": [
        "confusion_matrix(y2_test, y2_test_pred)"
      ]
    },
    {
      "cell_type": "code",
      "execution_count": null,
      "metadata": {
        "id": "h8UtaDGVNFer",
        "outputId": "5884a020-9553-4745-c09b-f5aaedb0be6c"
      },
      "outputs": [
        {
          "data": {
            "image/png": "[encoded data removed]",
            "text/plain": [
              "<Figure size 432x288 with 2 Axes>"
            ]
          },
          "metadata": {
            "needs_background": "light"
          },
          "output_type": "display_data"
        }
      ],
      "source": [
        "cm2 = confusion_matrix(y2_test, y2_test_pred, labels=[0, 1])\n",
        "plot_confusion_matrix(cm2, [0,1])"
      ]
    },
    {
      "cell_type": "markdown",
      "metadata": {
        "id": "pWg2JmEqqA2c"
      },
      "source": [
        "## Ejercicio 3: Árboles de Decisión\n",
        "\n",
        "En este ejercicio se entrenarán árboles de decisión para predecir la variable objetivo.\n",
        "\n",
        "Para ello, deberán utilizar la clase DecisionTreeClassifier de scikit-learn.\n",
        "\n",
        "Documentación:\n",
        "- https://scikit-learn.org/stable/modules/tree.html\n",
        "  - https://scikit-learn.org/stable/modules/tree.html#tips-on-practical-use\n",
        "- https://scikit-learn.org/stable/modules/generated/sklearn.tree.DecisionTreeClassifier.html\n",
        "- https://scikit-learn.org/stable/auto_examples/tree/plot_unveil_tree_structure.html"
      ]
    },
    {
      "cell_type": "markdown",
      "metadata": {
        "id": "Y6-5GvObqA2c"
      },
      "source": [
        "### Ejercicio 3.1: DecisionTreeClassifier con hiperparámetros por defecto\n",
        "\n",
        "Entrenar y evaluar el clasificador DecisionTreeClassifier usando los valores por omisión de scikit-learn para todos los parámetros. Únicamente **fijar la semilla aleatoria** para hacer repetible el experimento.\n",
        "\n",
        "Evaluar sobre el conjunto de **entrenamiento** y sobre el conjunto de **evaluación**, reportando:\n",
        "- Accuracy\n",
        "- Precision\n",
        "- Recall\n",
        "- F1\n",
        "- matriz de confusión\n"
      ]
    },
    {
      "cell_type": "code",
      "execution_count": null,
      "metadata": {
        "id": "FWuNvJUsNFes"
      },
      "outputs": [],
      "source": [
        "from sklearn.tree import DecisionTreeClassifier"
      ]
    },
    {
      "cell_type": "code",
      "execution_count": null,
      "metadata": {
        "id": "GW7I6YqtNFes"
      },
      "outputs": [],
      "source": [
        "X3 = X2.copy()\n",
        "y3 = y2.copy()\n",
        "\n",
        "\n",
        "# división entre entrenamiento y evaluación\n",
        "X3_train, X3_test, y3_train, y3_test = train_test_split(X3, y3, test_size=0.2, random_state=0)\n"
      ]
    },
    {
      "cell_type": "code",
      "execution_count": null,
      "metadata": {
        "id": "Jtps8IZ7NFes",
        "outputId": "5e952d8d-87d6-4a69-87c7-8c085b80fcaf"
      },
      "outputs": [
        {
          "data": {
            "text/plain": [
              "(1854, 10)"
            ]
          },
          "execution_count": 44,
          "metadata": {},
          "output_type": "execute_result"
        }
      ],
      "source": [
        "X3.shape"
      ]
    },
    {
      "cell_type": "code",
      "execution_count": null,
      "metadata": {
        "id": "HuCnClpwNFes",
        "outputId": "8342618e-a94f-4bb1-b202-871bfaccab86"
      },
      "outputs": [
        {
          "data": {
            "text/plain": [
              "(1854,)"
            ]
          },
          "execution_count": 45,
          "metadata": {},
          "output_type": "execute_result"
        }
      ],
      "source": [
        "y3.shape"
      ]
    },
    {
      "cell_type": "markdown",
      "metadata": {
        "id": "HnTSx8vINFes"
      },
      "source": [
        "### Entrenamos el modelo"
      ]
    },
    {
      "cell_type": "code",
      "execution_count": null,
      "metadata": {
        "id": "jUQZ6oZ3NFes",
        "outputId": "9bb0d0b8-b7e1-40bd-cc41-2e950f56576a"
      },
      "outputs": [
        {
          "data": {
            "text/html": [
              "<style>#sk-container-id-4 {color: black;background-color: white;}#sk-container-id-4 pre{padding: 0;}#sk-container-id-4 div.sk-toggleable {background-color: white;}#sk-container-id-4 label.sk-toggleable__label {cursor: pointer;display: block;width: 100%;margin-bottom: 0;padding: 0.3em;box-sizing: border-box;text-align: center;}#sk-container-id-4 label.sk-toggleable__label-arrow:before {content: \"▸\";float: left;margin-right: 0.25em;color: #696969;}#sk-container-id-4 label.sk-toggleable__label-arrow:hover:before {color: black;}#sk-container-id-4 div.sk-estimator:hover label.sk-toggleable__label-arrow:before {color: black;}#sk-container-id-4 div.sk-toggleable__content {max-height: 0;max-width: 0;overflow: hidden;text-align: left;background-color: #f0f8ff;}#sk-container-id-4 div.sk-toggleable__content pre {margin: 0.2em;color: black;border-radius: 0.25em;background-color: #f0f8ff;}#sk-container-id-4 input.sk-toggleable__control:checked~div.sk-toggleable__content {max-height: 200px;max-width: 100%;overflow: auto;}#sk-container-id-4 input.sk-toggleable__control:checked~label.sk-toggleable__label-arrow:before {content: \"▾\";}#sk-container-id-4 div.sk-estimator input.sk-toggleable__control:checked~label.sk-toggleable__label {background-color: #d4ebff;}#sk-container-id-4 div.sk-label input.sk-toggleable__control:checked~label.sk-toggleable__label {background-color: #d4ebff;}#sk-container-id-4 input.sk-hidden--visually {border: 0;clip: rect(1px 1px 1px 1px);clip: rect(1px, 1px, 1px, 1px);height: 1px;margin: -1px;overflow: hidden;padding: 0;position: absolute;width: 1px;}#sk-container-id-4 div.sk-estimator {font-family: monospace;background-color: #f0f8ff;border: 1px dotted black;border-radius: 0.25em;box-sizing: border-box;margin-bottom: 0.5em;}#sk-container-id-4 div.sk-estimator:hover {background-color: #d4ebff;}#sk-container-id-4 div.sk-parallel-item::after {content: \"\";width: 100%;border-bottom: 1px solid gray;flex-grow: 1;}#sk-container-id-4 div.sk-label:hover label.sk-toggleable__label {background-color: #d4ebff;}#sk-container-id-4 div.sk-serial::before {content: \"\";position: absolute;border-left: 1px solid gray;box-sizing: border-box;top: 0;bottom: 0;left: 50%;z-index: 0;}#sk-container-id-4 div.sk-serial {display: flex;flex-direction: column;align-items: center;background-color: white;padding-right: 0.2em;padding-left: 0.2em;position: relative;}#sk-container-id-4 div.sk-item {position: relative;z-index: 1;}#sk-container-id-4 div.sk-parallel {display: flex;align-items: stretch;justify-content: center;background-color: white;position: relative;}#sk-container-id-4 div.sk-item::before, #sk-container-id-4 div.sk-parallel-item::before {content: \"\";position: absolute;border-left: 1px solid gray;box-sizing: border-box;top: 0;bottom: 0;left: 50%;z-index: -1;}#sk-container-id-4 div.sk-parallel-item {display: flex;flex-direction: column;z-index: 1;position: relative;background-color: white;}#sk-container-id-4 div.sk-parallel-item:first-child::after {align-self: flex-end;width: 50%;}#sk-container-id-4 div.sk-parallel-item:last-child::after {align-self: flex-start;width: 50%;}#sk-container-id-4 div.sk-parallel-item:only-child::after {width: 0;}#sk-container-id-4 div.sk-dashed-wrapped {border: 1px dashed gray;margin: 0 0.4em 0.5em 0.4em;box-sizing: border-box;padding-bottom: 0.4em;background-color: white;}#sk-container-id-4 div.sk-label label {font-family: monospace;font-weight: bold;display: inline-block;line-height: 1.2em;}#sk-container-id-4 div.sk-label-container {text-align: center;}#sk-container-id-4 div.sk-container {/* jupyter's `normalize.less` sets `[hidden] { display: none; }` but bootstrap.min.css set `[hidden] { display: none !important; }` so we also need the `!important` here to be able to override the default hidden behavior on the sphinx rendered scikit-learn.org. See: https://github.com/scikit-learn/scikit-learn/issues/21755 */display: inline-block !important;position: relative;}#sk-container-id-4 div.sk-text-repr-fallback {display: none;}</style><div id=\"sk-container-id-4\" class=\"sk-top-container\"><div class=\"sk-text-repr-fallback\"><pre>DecisionTreeClassifier(random_state=0)</pre><b>In a Jupyter environment, please rerun this cell to show the HTML representation or trust the notebook. <br />On GitHub, the HTML representation is unable to render, please try loading this page with nbviewer.org.</b></div><div class=\"sk-container\" hidden><div class=\"sk-item\"><div class=\"sk-estimator sk-toggleable\"><input class=\"sk-toggleable__control sk-hidden--visually\" id=\"sk-estimator-id-6\" type=\"checkbox\" checked><label for=\"sk-estimator-id-6\" class=\"sk-toggleable__label sk-toggleable__label-arrow\">DecisionTreeClassifier</label><div class=\"sk-toggleable__content\"><pre>DecisionTreeClassifier(random_state=0)</pre></div></div></div></div></div>"
            ],
            "text/plain": [
              "DecisionTreeClassifier(random_state=0)"
            ]
          },
          "execution_count": 46,
          "metadata": {},
          "output_type": "execute_result"
        }
      ],
      "source": [
        "clf_tree = DecisionTreeClassifier(criterion='gini', splitter='best', \n",
        "                             max_depth=None, min_samples_split=2, \n",
        "                             min_samples_leaf=1, min_weight_fraction_leaf=0.0, \n",
        "                             max_features=None, random_state=0, \n",
        "                             max_leaf_nodes=None, min_impurity_decrease=0.0, \n",
        "                             class_weight=None, ccp_alpha=0.0)\n",
        "clf_tree.fit(X3_train, y3_train)"
      ]
    },
    {
      "cell_type": "markdown",
      "metadata": {
        "id": "BGDHxiVCNFes"
      },
      "source": [
        "### Predecimos"
      ]
    },
    {
      "cell_type": "code",
      "execution_count": null,
      "metadata": {
        "id": "jH3O4xfFNFet"
      },
      "outputs": [],
      "source": [
        "y3_train_pred = clf_tree.predict(X3_train)\n",
        "y3_test_pred = clf_tree.predict(X3_test)"
      ]
    },
    {
      "cell_type": "markdown",
      "metadata": {
        "id": "Ohz6TywHNFet"
      },
      "source": [
        "### Evaluamos el modelo"
      ]
    },
    {
      "cell_type": "markdown",
      "metadata": {
        "id": "OksJg0gYNFet"
      },
      "source": [
        "#### Sobre el conjunto de entrenamiento"
      ]
    },
    {
      "cell_type": "code",
      "execution_count": null,
      "metadata": {
        "id": "h0Bt3swtNFet",
        "outputId": "868bfd7f-02a3-4546-df0a-7939e2a44028"
      },
      "outputs": [
        {
          "name": "stdout",
          "output_type": "stream",
          "text": [
            "              precision    recall  f1-score   support\n",
            "\n",
            "           0       1.00      1.00      1.00      1232\n",
            "           1       1.00      1.00      1.00       251\n",
            "\n",
            "    accuracy                           1.00      1483\n",
            "   macro avg       1.00      1.00      1.00      1483\n",
            "weighted avg       1.00      1.00      1.00      1483\n",
            "\n"
          ]
        }
      ],
      "source": [
        "print(classification_report(y3_train, y3_train_pred))"
      ]
    },
    {
      "cell_type": "markdown",
      "metadata": {
        "id": "YWb69jT4NFeu"
      },
      "source": [
        "#### Sobre el conjunto de test"
      ]
    },
    {
      "cell_type": "code",
      "execution_count": null,
      "metadata": {
        "id": "y188IrfhNFeu",
        "outputId": "3b7519ca-24f5-4417-94e7-457211a1696d"
      },
      "outputs": [
        {
          "name": "stdout",
          "output_type": "stream",
          "text": [
            "              precision    recall  f1-score   support\n",
            "\n",
            "           0       0.94      0.93      0.93       313\n",
            "           1       0.63      0.67      0.65        58\n",
            "\n",
            "    accuracy                           0.89       371\n",
            "   macro avg       0.78      0.80      0.79       371\n",
            "weighted avg       0.89      0.89      0.89       371\n",
            "\n"
          ]
        }
      ],
      "source": [
        "print(classification_report(y3_test, y3_test_pred))"
      ]
    },
    {
      "cell_type": "code",
      "execution_count": null,
      "metadata": {
        "id": "7u6ej8kRNFet",
        "outputId": "c17487ae-501c-4e9a-f7ac-a9dcac4c0087"
      },
      "outputs": [
        {
          "name": "stdout",
          "output_type": "stream",
          "text": [
            "Train accuracy: 1.0\n",
            "Test accuracy: 0.89\n"
          ]
        }
      ],
      "source": [
        "# Sobre ambos\n",
        "from sklearn.metrics import accuracy_score\n",
        "\n",
        "train_acc = accuracy_score(y3_train, y3_train_pred)\n",
        "test_acc = accuracy_score(y3_test, y3_test_pred)\n",
        "print(f'Train accuracy: {train_acc:0.2}')\n",
        "print(f'Test accuracy: {test_acc:0.2}')"
      ]
    },
    {
      "cell_type": "markdown",
      "metadata": {
        "id": "oZMce5DgNFeu"
      },
      "source": [
        "#### Matriz de confusión Entrenamiento\n"
      ]
    },
    {
      "cell_type": "code",
      "execution_count": null,
      "metadata": {
        "id": "JkQgxr6oNFev",
        "outputId": "30221dec-dbbe-43f7-e0df-9c3db478a981"
      },
      "outputs": [
        {
          "data": {
            "text/plain": [
              "array([[1232,    0],\n",
              "       [   0,  251]], dtype=int64)"
            ]
          },
          "execution_count": 51,
          "metadata": {},
          "output_type": "execute_result"
        }
      ],
      "source": [
        "cm = confusion_matrix(y3_train, y3_train_pred, labels=[0, 1])\n",
        "cm"
      ]
    },
    {
      "cell_type": "code",
      "execution_count": null,
      "metadata": {
        "id": "QJ1fkGDaNFev",
        "outputId": "b52a6678-0117-4258-e854-42c37b1fbb9e"
      },
      "outputs": [
        {
          "data": {
            "image/png": "[encoded data removed]",
            "text/plain": [
              "<Figure size 432x288 with 2 Axes>"
            ]
          },
          "metadata": {
            "needs_background": "light"
          },
          "output_type": "display_data"
        }
      ],
      "source": [
        "# Graficamos la matriz de confusión sobre el conjunto de entrenamiento\n",
        "plot_confusion_matrix(cm, [0,1])"
      ]
    },
    {
      "cell_type": "code",
      "execution_count": null,
      "metadata": {
        "id": "ANy0SXYfNFev",
        "outputId": "375b7977-49d7-4bdb-f43f-d886a3430427"
      },
      "outputs": [
        {
          "data": {
            "text/html": [
              "<div>\n",
              "<style scoped>\n",
              "    .dataframe tbody tr th:only-of-type {\n",
              "        vertical-align: middle;\n",
              "    }\n",
              "\n",
              "    .dataframe tbody tr th {\n",
              "        vertical-align: top;\n",
              "    }\n",
              "\n",
              "    .dataframe thead th {\n",
              "        text-align: right;\n",
              "    }\n",
              "</style>\n",
              "<table border=\"1\" class=\"dataframe\">\n",
              "  <thead>\n",
              "    <tr style=\"text-align: right;\">\n",
              "      <th></th>\n",
              "      <th>etiqueta_original</th>\n",
              "      <th>predicción</th>\n",
              "    </tr>\n",
              "  </thead>\n",
              "  <tbody>\n",
              "    <tr>\n",
              "      <th>1626</th>\n",
              "      <td>1</td>\n",
              "      <td>1</td>\n",
              "    </tr>\n",
              "    <tr>\n",
              "      <th>1597</th>\n",
              "      <td>1</td>\n",
              "      <td>1</td>\n",
              "    </tr>\n",
              "    <tr>\n",
              "      <th>1640</th>\n",
              "      <td>1</td>\n",
              "      <td>1</td>\n",
              "    </tr>\n",
              "    <tr>\n",
              "      <th>1687</th>\n",
              "      <td>1</td>\n",
              "      <td>1</td>\n",
              "    </tr>\n",
              "    <tr>\n",
              "      <th>1694</th>\n",
              "      <td>1</td>\n",
              "      <td>1</td>\n",
              "    </tr>\n",
              "    <tr>\n",
              "      <th>...</th>\n",
              "      <td>...</td>\n",
              "      <td>...</td>\n",
              "    </tr>\n",
              "    <tr>\n",
              "      <th>1468</th>\n",
              "      <td>0</td>\n",
              "      <td>0</td>\n",
              "    </tr>\n",
              "    <tr>\n",
              "      <th>1136</th>\n",
              "      <td>0</td>\n",
              "      <td>0</td>\n",
              "    </tr>\n",
              "    <tr>\n",
              "      <th>145</th>\n",
              "      <td>0</td>\n",
              "      <td>0</td>\n",
              "    </tr>\n",
              "    <tr>\n",
              "      <th>613</th>\n",
              "      <td>0</td>\n",
              "      <td>0</td>\n",
              "    </tr>\n",
              "    <tr>\n",
              "      <th>684</th>\n",
              "      <td>0</td>\n",
              "      <td>0</td>\n",
              "    </tr>\n",
              "  </tbody>\n",
              "</table>\n",
              "<p>1483 rows × 2 columns</p>\n",
              "</div>"
            ],
            "text/plain": [
              "      etiqueta_original  predicción\n",
              "1626                  1           1\n",
              "1597                  1           1\n",
              "1640                  1           1\n",
              "1687                  1           1\n",
              "1694                  1           1\n",
              "...                 ...         ...\n",
              "1468                  0           0\n",
              "1136                  0           0\n",
              "145                   0           0\n",
              "613                   0           0\n",
              "684                   0           0\n",
              "\n",
              "[1483 rows x 2 columns]"
            ]
          },
          "execution_count": 53,
          "metadata": {},
          "output_type": "execute_result"
        }
      ],
      "source": [
        "# Verificamos las etiquetas originales y las predichas del conjunto de entrenamiento\n",
        "df_importancia_4 = pd.DataFrame({\n",
        "                                'etiqueta_original':y3_train,\n",
        "                                'predicción': y3_train_pred\n",
        "                                })\n",
        "df_importancia_4.sort_values(by='etiqueta_original', ascending=False, inplace=True)\n",
        "df_importancia_4"
      ]
    },
    {
      "cell_type": "code",
      "execution_count": null,
      "metadata": {
        "id": "fJY1xSA4NFew",
        "outputId": "1cde34b8-7243-4739-f14a-00ff78de1d4c"
      },
      "outputs": [
        {
          "data": {
            "text/html": [
              "<div>\n",
              "<style scoped>\n",
              "    .dataframe tbody tr th:only-of-type {\n",
              "        vertical-align: middle;\n",
              "    }\n",
              "\n",
              "    .dataframe tbody tr th {\n",
              "        vertical-align: top;\n",
              "    }\n",
              "\n",
              "    .dataframe thead th {\n",
              "        text-align: right;\n",
              "    }\n",
              "</style>\n",
              "<table border=\"1\" class=\"dataframe\">\n",
              "  <thead>\n",
              "    <tr style=\"text-align: right;\">\n",
              "      <th></th>\n",
              "      <th>etiqueta_original</th>\n",
              "      <th>predicción</th>\n",
              "    </tr>\n",
              "  </thead>\n",
              "  <tbody>\n",
              "  </tbody>\n",
              "</table>\n",
              "</div>"
            ],
            "text/plain": [
              "Empty DataFrame\n",
              "Columns: [etiqueta_original, predicción]\n",
              "Index: []"
            ]
          },
          "execution_count": 54,
          "metadata": {},
          "output_type": "execute_result"
        }
      ],
      "source": [
        "# Verificamos todos los registros que no se corresponden con clasificaciones positivas correctamente predichas\n",
        "\n",
        "df_importancia_5 = df_importancia_4[df_importancia_4.etiqueta_original!=df_importancia_4.predicción]\n",
        "df_importancia_5"
      ]
    },
    {
      "cell_type": "markdown",
      "metadata": {
        "id": "i5YEaB023Qnt"
      },
      "source": [
        "#### Matriz de Confusion Validacion"
      ]
    },
    {
      "cell_type": "code",
      "execution_count": null,
      "metadata": {
        "id": "yExmWcfeNFeu"
      },
      "outputs": [],
      "source": [
        "cm_test = confusion_matrix(y3_test, y3_test_pred)"
      ]
    },
    {
      "cell_type": "code",
      "execution_count": null,
      "metadata": {
        "outputId": "b52a6678-0117-4258-e854-42c37b1fbb9e",
        "id": "KPrh_eph3Qnt"
      },
      "outputs": [
        {
          "data": {
            "image/png": "[encoded data removed]",
            "text/plain": [
              "<Figure size 432x288 with 2 Axes>"
            ]
          },
          "metadata": {
            "needs_background": "light"
          },
          "output_type": "display_data"
        }
      ],
      "source": [
        "# Graficamos la matriz de confusión sobre el conjunto de entrenamiento\n",
        "plot_confusion_matrix(cm_test, [0,1])"
      ]
    },
    {
      "cell_type": "markdown",
      "metadata": {
        "id": "qx688wn93Qnu"
      },
      "source": [
        "**Conclusión**\n",
        "\n",
        "Analizando los resultados obtenidos para la aplicación del modelo sobre los datos de entrenamiento y validación vemos que si bien el modelo se ajusta perfectamente a los datos de entrenamiento no lo hace con los datos de validación. Se observa que el accuracy obtenido para el conjunto de datos de entrenamiento es del 100% mientras que para los datos de validación baja al 89%. Esta situación podría deberse a que el modelo está sobre ajustado."
      ]
    },
    {
      "cell_type": "markdown",
      "metadata": {
        "id": "e2M317EhqA2d"
      },
      "source": [
        "### Ejercicio 3.2: Ajuste de Hiperparámetros\n",
        "\n",
        "Seleccionar valores para los hiperparámetros principales del DecisionTreeClassifier. Como mínimo, probar diferentes criterios de partición (criterion), profundidad máxima del árbol (max_depth), y cantidad mínima de samples por hoja (min_samples_leaf).\n",
        "\n",
        "Para ello, usar grid-search y 5-fold cross-validation sobre el conjunto de entrenamiento para explorar muchas combinaciones posibles de valores.\n",
        "\n",
        "Reportar accuracy promedio y varianza para todas las configuraciones.\n",
        "\n",
        "Para la mejor configuración encontrada, evaluar sobre el conjunto de **entrenamiento** y sobre el conjunto de **evaluación**, reportando:\n",
        "- Accuracy\n",
        "- Precision\n",
        "- Recall\n",
        "- F1\n",
        "- matriz de confusión\n",
        "\n",
        "\n",
        "Documentación:\n",
        "- https://scikit-learn.org/stable/modules/grid_search.html\n",
        "- https://scikit-learn.org/stable/modules/generated/sklearn.model_selection.GridSearchCV.html"
      ]
    },
    {
      "cell_type": "markdown",
      "metadata": {
        "id": "a_XpW5fcNFew"
      },
      "source": [
        "#### Seleccionamos valores para los hiperparámetros que vamos a probar"
      ]
    },
    {
      "cell_type": "code",
      "execution_count": null,
      "metadata": {
        "id": "WA0itTTHNFew"
      },
      "outputs": [],
      "source": [
        "# Se define un diccionario que contiene los hiperparámetros que se van a evaluar\n",
        "parameter_options2 = {'criterion' : ['gini', 'entropy', 'log_loss'], \n",
        "        'max_depth' : [1,5,10,15,20], \n",
        "        'min_samples_leaf' : [1,5,10,15,20]\n",
        "                     } \n"
      ]
    },
    {
      "cell_type": "code",
      "execution_count": null,
      "metadata": {
        "id": "almhmgo3NFew",
        "outputId": "b09bd630-6802-41ff-b740-79b7e8c1345d"
      },
      "outputs": [
        {
          "name": "stdout",
          "output_type": "stream",
          "text": [
            "{'criterion': 'gini', 'max_depth': 1, 'min_samples_leaf': 1}\n",
            "{'criterion': 'gini', 'max_depth': 1, 'min_samples_leaf': 5}\n",
            "{'criterion': 'gini', 'max_depth': 1, 'min_samples_leaf': 10}\n",
            "{'criterion': 'gini', 'max_depth': 1, 'min_samples_leaf': 15}\n",
            "{'criterion': 'gini', 'max_depth': 1, 'min_samples_leaf': 20}\n",
            "{'criterion': 'gini', 'max_depth': 5, 'min_samples_leaf': 1}\n",
            "{'criterion': 'gini', 'max_depth': 5, 'min_samples_leaf': 5}\n",
            "{'criterion': 'gini', 'max_depth': 5, 'min_samples_leaf': 10}\n",
            "{'criterion': 'gini', 'max_depth': 5, 'min_samples_leaf': 15}\n",
            "{'criterion': 'gini', 'max_depth': 5, 'min_samples_leaf': 20}\n",
            "{'criterion': 'gini', 'max_depth': 10, 'min_samples_leaf': 1}\n",
            "{'criterion': 'gini', 'max_depth': 10, 'min_samples_leaf': 5}\n",
            "{'criterion': 'gini', 'max_depth': 10, 'min_samples_leaf': 10}\n",
            "{'criterion': 'gini', 'max_depth': 10, 'min_samples_leaf': 15}\n",
            "{'criterion': 'gini', 'max_depth': 10, 'min_samples_leaf': 20}\n",
            "{'criterion': 'gini', 'max_depth': 15, 'min_samples_leaf': 1}\n",
            "{'criterion': 'gini', 'max_depth': 15, 'min_samples_leaf': 5}\n",
            "{'criterion': 'gini', 'max_depth': 15, 'min_samples_leaf': 10}\n",
            "{'criterion': 'gini', 'max_depth': 15, 'min_samples_leaf': 15}\n",
            "{'criterion': 'gini', 'max_depth': 15, 'min_samples_leaf': 20}\n",
            "{'criterion': 'gini', 'max_depth': 20, 'min_samples_leaf': 1}\n",
            "{'criterion': 'gini', 'max_depth': 20, 'min_samples_leaf': 5}\n",
            "{'criterion': 'gini', 'max_depth': 20, 'min_samples_leaf': 10}\n",
            "{'criterion': 'gini', 'max_depth': 20, 'min_samples_leaf': 15}\n",
            "{'criterion': 'gini', 'max_depth': 20, 'min_samples_leaf': 20}\n",
            "{'criterion': 'entropy', 'max_depth': 1, 'min_samples_leaf': 1}\n",
            "{'criterion': 'entropy', 'max_depth': 1, 'min_samples_leaf': 5}\n",
            "{'criterion': 'entropy', 'max_depth': 1, 'min_samples_leaf': 10}\n",
            "{'criterion': 'entropy', 'max_depth': 1, 'min_samples_leaf': 15}\n",
            "{'criterion': 'entropy', 'max_depth': 1, 'min_samples_leaf': 20}\n",
            "{'criterion': 'entropy', 'max_depth': 5, 'min_samples_leaf': 1}\n",
            "{'criterion': 'entropy', 'max_depth': 5, 'min_samples_leaf': 5}\n",
            "{'criterion': 'entropy', 'max_depth': 5, 'min_samples_leaf': 10}\n",
            "{'criterion': 'entropy', 'max_depth': 5, 'min_samples_leaf': 15}\n",
            "{'criterion': 'entropy', 'max_depth': 5, 'min_samples_leaf': 20}\n",
            "{'criterion': 'entropy', 'max_depth': 10, 'min_samples_leaf': 1}\n",
            "{'criterion': 'entropy', 'max_depth': 10, 'min_samples_leaf': 5}\n",
            "{'criterion': 'entropy', 'max_depth': 10, 'min_samples_leaf': 10}\n",
            "{'criterion': 'entropy', 'max_depth': 10, 'min_samples_leaf': 15}\n",
            "{'criterion': 'entropy', 'max_depth': 10, 'min_samples_leaf': 20}\n",
            "{'criterion': 'entropy', 'max_depth': 15, 'min_samples_leaf': 1}\n",
            "{'criterion': 'entropy', 'max_depth': 15, 'min_samples_leaf': 5}\n",
            "{'criterion': 'entropy', 'max_depth': 15, 'min_samples_leaf': 10}\n",
            "{'criterion': 'entropy', 'max_depth': 15, 'min_samples_leaf': 15}\n",
            "{'criterion': 'entropy', 'max_depth': 15, 'min_samples_leaf': 20}\n",
            "{'criterion': 'entropy', 'max_depth': 20, 'min_samples_leaf': 1}\n",
            "{'criterion': 'entropy', 'max_depth': 20, 'min_samples_leaf': 5}\n",
            "{'criterion': 'entropy', 'max_depth': 20, 'min_samples_leaf': 10}\n",
            "{'criterion': 'entropy', 'max_depth': 20, 'min_samples_leaf': 15}\n",
            "{'criterion': 'entropy', 'max_depth': 20, 'min_samples_leaf': 20}\n",
            "{'criterion': 'log_loss', 'max_depth': 1, 'min_samples_leaf': 1}\n",
            "{'criterion': 'log_loss', 'max_depth': 1, 'min_samples_leaf': 5}\n",
            "{'criterion': 'log_loss', 'max_depth': 1, 'min_samples_leaf': 10}\n",
            "{'criterion': 'log_loss', 'max_depth': 1, 'min_samples_leaf': 15}\n",
            "{'criterion': 'log_loss', 'max_depth': 1, 'min_samples_leaf': 20}\n",
            "{'criterion': 'log_loss', 'max_depth': 5, 'min_samples_leaf': 1}\n",
            "{'criterion': 'log_loss', 'max_depth': 5, 'min_samples_leaf': 5}\n",
            "{'criterion': 'log_loss', 'max_depth': 5, 'min_samples_leaf': 10}\n",
            "{'criterion': 'log_loss', 'max_depth': 5, 'min_samples_leaf': 15}\n",
            "{'criterion': 'log_loss', 'max_depth': 5, 'min_samples_leaf': 20}\n",
            "{'criterion': 'log_loss', 'max_depth': 10, 'min_samples_leaf': 1}\n",
            "{'criterion': 'log_loss', 'max_depth': 10, 'min_samples_leaf': 5}\n",
            "{'criterion': 'log_loss', 'max_depth': 10, 'min_samples_leaf': 10}\n",
            "{'criterion': 'log_loss', 'max_depth': 10, 'min_samples_leaf': 15}\n",
            "{'criterion': 'log_loss', 'max_depth': 10, 'min_samples_leaf': 20}\n",
            "{'criterion': 'log_loss', 'max_depth': 15, 'min_samples_leaf': 1}\n",
            "{'criterion': 'log_loss', 'max_depth': 15, 'min_samples_leaf': 5}\n",
            "{'criterion': 'log_loss', 'max_depth': 15, 'min_samples_leaf': 10}\n",
            "{'criterion': 'log_loss', 'max_depth': 15, 'min_samples_leaf': 15}\n",
            "{'criterion': 'log_loss', 'max_depth': 15, 'min_samples_leaf': 20}\n",
            "{'criterion': 'log_loss', 'max_depth': 20, 'min_samples_leaf': 1}\n",
            "{'criterion': 'log_loss', 'max_depth': 20, 'min_samples_leaf': 5}\n",
            "{'criterion': 'log_loss', 'max_depth': 20, 'min_samples_leaf': 10}\n",
            "{'criterion': 'log_loss', 'max_depth': 20, 'min_samples_leaf': 15}\n",
            "{'criterion': 'log_loss', 'max_depth': 20, 'min_samples_leaf': 20}\n"
          ]
        }
      ],
      "source": [
        "# Se visulizan las diferentes combinaciones de hiperparámetros que serán evaluadas.\n",
        "for params in ParameterGrid(parameter_options2):\n",
        "    print(params)"
      ]
    },
    {
      "cell_type": "code",
      "execution_count": null,
      "metadata": {
        "id": "_jKAR2MBNFew"
      },
      "outputs": [],
      "source": [
        "# Se instancian todos los modelos\n",
        "clf_grid2 = GridSearchCV(DecisionTreeClassifier(random_state=0),param_grid=parameter_options2, cv=5,error_score=0)\n"
      ]
    },
    {
      "cell_type": "markdown",
      "metadata": {
        "id": "E_noUZsCNFex"
      },
      "source": [
        "#### Buscamos los mejores hiperparámentros"
      ]
    },
    {
      "cell_type": "code",
      "execution_count": null,
      "metadata": {
        "id": "cYMCFQpfNFex",
        "outputId": "6641f013-7c18-47b8-9677-4c7b28fa9eb1"
      },
      "outputs": [
        {
          "data": {
            "text/html": [
              "<style>#sk-container-id-5 {color: black;background-color: white;}#sk-container-id-5 pre{padding: 0;}#sk-container-id-5 div.sk-toggleable {background-color: white;}#sk-container-id-5 label.sk-toggleable__label {cursor: pointer;display: block;width: 100%;margin-bottom: 0;padding: 0.3em;box-sizing: border-box;text-align: center;}#sk-container-id-5 label.sk-toggleable__label-arrow:before {content: \"▸\";float: left;margin-right: 0.25em;color: #696969;}#sk-container-id-5 label.sk-toggleable__label-arrow:hover:before {color: black;}#sk-container-id-5 div.sk-estimator:hover label.sk-toggleable__label-arrow:before {color: black;}#sk-container-id-5 div.sk-toggleable__content {max-height: 0;max-width: 0;overflow: hidden;text-align: left;background-color: #f0f8ff;}#sk-container-id-5 div.sk-toggleable__content pre {margin: 0.2em;color: black;border-radius: 0.25em;background-color: #f0f8ff;}#sk-container-id-5 input.sk-toggleable__control:checked~div.sk-toggleable__content {max-height: 200px;max-width: 100%;overflow: auto;}#sk-container-id-5 input.sk-toggleable__control:checked~label.sk-toggleable__label-arrow:before {content: \"▾\";}#sk-container-id-5 div.sk-estimator input.sk-toggleable__control:checked~label.sk-toggleable__label {background-color: #d4ebff;}#sk-container-id-5 div.sk-label input.sk-toggleable__control:checked~label.sk-toggleable__label {background-color: #d4ebff;}#sk-container-id-5 input.sk-hidden--visually {border: 0;clip: rect(1px 1px 1px 1px);clip: rect(1px, 1px, 1px, 1px);height: 1px;margin: -1px;overflow: hidden;padding: 0;position: absolute;width: 1px;}#sk-container-id-5 div.sk-estimator {font-family: monospace;background-color: #f0f8ff;border: 1px dotted black;border-radius: 0.25em;box-sizing: border-box;margin-bottom: 0.5em;}#sk-container-id-5 div.sk-estimator:hover {background-color: #d4ebff;}#sk-container-id-5 div.sk-parallel-item::after {content: \"\";width: 100%;border-bottom: 1px solid gray;flex-grow: 1;}#sk-container-id-5 div.sk-label:hover label.sk-toggleable__label {background-color: #d4ebff;}#sk-container-id-5 div.sk-serial::before {content: \"\";position: absolute;border-left: 1px solid gray;box-sizing: border-box;top: 0;bottom: 0;left: 50%;z-index: 0;}#sk-container-id-5 div.sk-serial {display: flex;flex-direction: column;align-items: center;background-color: white;padding-right: 0.2em;padding-left: 0.2em;position: relative;}#sk-container-id-5 div.sk-item {position: relative;z-index: 1;}#sk-container-id-5 div.sk-parallel {display: flex;align-items: stretch;justify-content: center;background-color: white;position: relative;}#sk-container-id-5 div.sk-item::before, #sk-container-id-5 div.sk-parallel-item::before {content: \"\";position: absolute;border-left: 1px solid gray;box-sizing: border-box;top: 0;bottom: 0;left: 50%;z-index: -1;}#sk-container-id-5 div.sk-parallel-item {display: flex;flex-direction: column;z-index: 1;position: relative;background-color: white;}#sk-container-id-5 div.sk-parallel-item:first-child::after {align-self: flex-end;width: 50%;}#sk-container-id-5 div.sk-parallel-item:last-child::after {align-self: flex-start;width: 50%;}#sk-container-id-5 div.sk-parallel-item:only-child::after {width: 0;}#sk-container-id-5 div.sk-dashed-wrapped {border: 1px dashed gray;margin: 0 0.4em 0.5em 0.4em;box-sizing: border-box;padding-bottom: 0.4em;background-color: white;}#sk-container-id-5 div.sk-label label {font-family: monospace;font-weight: bold;display: inline-block;line-height: 1.2em;}#sk-container-id-5 div.sk-label-container {text-align: center;}#sk-container-id-5 div.sk-container {/* jupyter's `normalize.less` sets `[hidden] { display: none; }` but bootstrap.min.css set `[hidden] { display: none !important; }` so we also need the `!important` here to be able to override the default hidden behavior on the sphinx rendered scikit-learn.org. See: https://github.com/scikit-learn/scikit-learn/issues/21755 */display: inline-block !important;position: relative;}#sk-container-id-5 div.sk-text-repr-fallback {display: none;}</style><div id=\"sk-container-id-5\" class=\"sk-top-container\"><div class=\"sk-text-repr-fallback\"><pre>GridSearchCV(cv=5, error_score=0,\n",
              "             estimator=DecisionTreeClassifier(random_state=0),\n",
              "             param_grid={&#x27;criterion&#x27;: [&#x27;gini&#x27;, &#x27;entropy&#x27;, &#x27;log_loss&#x27;],\n",
              "                         &#x27;max_depth&#x27;: [1, 5, 10, 15, 20],\n",
              "                         &#x27;min_samples_leaf&#x27;: [1, 5, 10, 15, 20]})</pre><b>In a Jupyter environment, please rerun this cell to show the HTML representation or trust the notebook. <br />On GitHub, the HTML representation is unable to render, please try loading this page with nbviewer.org.</b></div><div class=\"sk-container\" hidden><div class=\"sk-item sk-dashed-wrapped\"><div class=\"sk-label-container\"><div class=\"sk-label sk-toggleable\"><input class=\"sk-toggleable__control sk-hidden--visually\" id=\"sk-estimator-id-7\" type=\"checkbox\" ><label for=\"sk-estimator-id-7\" class=\"sk-toggleable__label sk-toggleable__label-arrow\">GridSearchCV</label><div class=\"sk-toggleable__content\"><pre>GridSearchCV(cv=5, error_score=0,\n",
              "             estimator=DecisionTreeClassifier(random_state=0),\n",
              "             param_grid={&#x27;criterion&#x27;: [&#x27;gini&#x27;, &#x27;entropy&#x27;, &#x27;log_loss&#x27;],\n",
              "                         &#x27;max_depth&#x27;: [1, 5, 10, 15, 20],\n",
              "                         &#x27;min_samples_leaf&#x27;: [1, 5, 10, 15, 20]})</pre></div></div></div><div class=\"sk-parallel\"><div class=\"sk-parallel-item\"><div class=\"sk-item\"><div class=\"sk-label-container\"><div class=\"sk-label sk-toggleable\"><input class=\"sk-toggleable__control sk-hidden--visually\" id=\"sk-estimator-id-8\" type=\"checkbox\" ><label for=\"sk-estimator-id-8\" class=\"sk-toggleable__label sk-toggleable__label-arrow\">estimator: DecisionTreeClassifier</label><div class=\"sk-toggleable__content\"><pre>DecisionTreeClassifier(random_state=0)</pre></div></div></div><div class=\"sk-serial\"><div class=\"sk-item\"><div class=\"sk-estimator sk-toggleable\"><input class=\"sk-toggleable__control sk-hidden--visually\" id=\"sk-estimator-id-9\" type=\"checkbox\" ><label for=\"sk-estimator-id-9\" class=\"sk-toggleable__label sk-toggleable__label-arrow\">DecisionTreeClassifier</label><div class=\"sk-toggleable__content\"><pre>DecisionTreeClassifier(random_state=0)</pre></div></div></div></div></div></div></div></div></div></div>"
            ],
            "text/plain": [
              "GridSearchCV(cv=5, error_score=0,\n",
              "             estimator=DecisionTreeClassifier(random_state=0),\n",
              "             param_grid={'criterion': ['gini', 'entropy', 'log_loss'],\n",
              "                         'max_depth': [1, 5, 10, 15, 20],\n",
              "                         'min_samples_leaf': [1, 5, 10, 15, 20]})"
            ]
          },
          "execution_count": 61,
          "metadata": {},
          "output_type": "execute_result"
        }
      ],
      "source": [
        "# Se entrenan todos los modelos\n",
        "clf_grid2.fit(X3_train, y3_train)"
      ]
    },
    {
      "cell_type": "code",
      "execution_count": null,
      "metadata": {
        "id": "cMKtfI6TNFex",
        "outputId": "6f92adba-552e-4459-904f-6c9f43fc00f0"
      },
      "outputs": [
        {
          "data": {
            "text/plain": [
              "{'criterion': 'gini', 'max_depth': 10, 'min_samples_leaf': 5}"
            ]
          },
          "execution_count": 62,
          "metadata": {},
          "output_type": "execute_result"
        }
      ],
      "source": [
        "# Investigamos los mejores hiperparámetros encontrados\n",
        "clf_grid2.best_params_"
      ]
    },
    {
      "cell_type": "code",
      "execution_count": null,
      "metadata": {
        "id": "VUdQTy5iNFex"
      },
      "outputs": [],
      "source": [
        "# Guardamos el mejor modelo con los mejores hiperparámetros encontrados\n",
        "best_model2 = clf_grid2.best_estimator_"
      ]
    },
    {
      "cell_type": "code",
      "execution_count": null,
      "metadata": {
        "id": "VtEdI0xMNFex",
        "outputId": "587939f7-137f-4d90-b53d-f34b6bb1d2e8"
      },
      "outputs": [
        {
          "data": {
            "text/html": [
              "<style>#sk-container-id-6 {color: black;background-color: white;}#sk-container-id-6 pre{padding: 0;}#sk-container-id-6 div.sk-toggleable {background-color: white;}#sk-container-id-6 label.sk-toggleable__label {cursor: pointer;display: block;width: 100%;margin-bottom: 0;padding: 0.3em;box-sizing: border-box;text-align: center;}#sk-container-id-6 label.sk-toggleable__label-arrow:before {content: \"▸\";float: left;margin-right: 0.25em;color: #696969;}#sk-container-id-6 label.sk-toggleable__label-arrow:hover:before {color: black;}#sk-container-id-6 div.sk-estimator:hover label.sk-toggleable__label-arrow:before {color: black;}#sk-container-id-6 div.sk-toggleable__content {max-height: 0;max-width: 0;overflow: hidden;text-align: left;background-color: #f0f8ff;}#sk-container-id-6 div.sk-toggleable__content pre {margin: 0.2em;color: black;border-radius: 0.25em;background-color: #f0f8ff;}#sk-container-id-6 input.sk-toggleable__control:checked~div.sk-toggleable__content {max-height: 200px;max-width: 100%;overflow: auto;}#sk-container-id-6 input.sk-toggleable__control:checked~label.sk-toggleable__label-arrow:before {content: \"▾\";}#sk-container-id-6 div.sk-estimator input.sk-toggleable__control:checked~label.sk-toggleable__label {background-color: #d4ebff;}#sk-container-id-6 div.sk-label input.sk-toggleable__control:checked~label.sk-toggleable__label {background-color: #d4ebff;}#sk-container-id-6 input.sk-hidden--visually {border: 0;clip: rect(1px 1px 1px 1px);clip: rect(1px, 1px, 1px, 1px);height: 1px;margin: -1px;overflow: hidden;padding: 0;position: absolute;width: 1px;}#sk-container-id-6 div.sk-estimator {font-family: monospace;background-color: #f0f8ff;border: 1px dotted black;border-radius: 0.25em;box-sizing: border-box;margin-bottom: 0.5em;}#sk-container-id-6 div.sk-estimator:hover {background-color: #d4ebff;}#sk-container-id-6 div.sk-parallel-item::after {content: \"\";width: 100%;border-bottom: 1px solid gray;flex-grow: 1;}#sk-container-id-6 div.sk-label:hover label.sk-toggleable__label {background-color: #d4ebff;}#sk-container-id-6 div.sk-serial::before {content: \"\";position: absolute;border-left: 1px solid gray;box-sizing: border-box;top: 0;bottom: 0;left: 50%;z-index: 0;}#sk-container-id-6 div.sk-serial {display: flex;flex-direction: column;align-items: center;background-color: white;padding-right: 0.2em;padding-left: 0.2em;position: relative;}#sk-container-id-6 div.sk-item {position: relative;z-index: 1;}#sk-container-id-6 div.sk-parallel {display: flex;align-items: stretch;justify-content: center;background-color: white;position: relative;}#sk-container-id-6 div.sk-item::before, #sk-container-id-6 div.sk-parallel-item::before {content: \"\";position: absolute;border-left: 1px solid gray;box-sizing: border-box;top: 0;bottom: 0;left: 50%;z-index: -1;}#sk-container-id-6 div.sk-parallel-item {display: flex;flex-direction: column;z-index: 1;position: relative;background-color: white;}#sk-container-id-6 div.sk-parallel-item:first-child::after {align-self: flex-end;width: 50%;}#sk-container-id-6 div.sk-parallel-item:last-child::after {align-self: flex-start;width: 50%;}#sk-container-id-6 div.sk-parallel-item:only-child::after {width: 0;}#sk-container-id-6 div.sk-dashed-wrapped {border: 1px dashed gray;margin: 0 0.4em 0.5em 0.4em;box-sizing: border-box;padding-bottom: 0.4em;background-color: white;}#sk-container-id-6 div.sk-label label {font-family: monospace;font-weight: bold;display: inline-block;line-height: 1.2em;}#sk-container-id-6 div.sk-label-container {text-align: center;}#sk-container-id-6 div.sk-container {/* jupyter's `normalize.less` sets `[hidden] { display: none; }` but bootstrap.min.css set `[hidden] { display: none !important; }` so we also need the `!important` here to be able to override the default hidden behavior on the sphinx rendered scikit-learn.org. See: https://github.com/scikit-learn/scikit-learn/issues/21755 */display: inline-block !important;position: relative;}#sk-container-id-6 div.sk-text-repr-fallback {display: none;}</style><div id=\"sk-container-id-6\" class=\"sk-top-container\"><div class=\"sk-text-repr-fallback\"><pre>DecisionTreeClassifier(max_depth=10, min_samples_leaf=5, random_state=0)</pre><b>In a Jupyter environment, please rerun this cell to show the HTML representation or trust the notebook. <br />On GitHub, the HTML representation is unable to render, please try loading this page with nbviewer.org.</b></div><div class=\"sk-container\" hidden><div class=\"sk-item\"><div class=\"sk-estimator sk-toggleable\"><input class=\"sk-toggleable__control sk-hidden--visually\" id=\"sk-estimator-id-10\" type=\"checkbox\" checked><label for=\"sk-estimator-id-10\" class=\"sk-toggleable__label sk-toggleable__label-arrow\">DecisionTreeClassifier</label><div class=\"sk-toggleable__content\"><pre>DecisionTreeClassifier(max_depth=10, min_samples_leaf=5, random_state=0)</pre></div></div></div></div></div>"
            ],
            "text/plain": [
              "DecisionTreeClassifier(max_depth=10, min_samples_leaf=5, random_state=0)"
            ]
          },
          "execution_count": 64,
          "metadata": {},
          "output_type": "execute_result"
        }
      ],
      "source": [
        "best_model2"
      ]
    },
    {
      "cell_type": "markdown",
      "metadata": {
        "id": "_86Ly8FlNFex"
      },
      "source": [
        "#### Accuracy promedio y varianza para todas las configuraciones"
      ]
    },
    {
      "cell_type": "code",
      "execution_count": null,
      "metadata": {
        "id": "Die-UbJyNFex",
        "outputId": "0887e717-d20c-44a7-abdc-0db000c16cda"
      },
      "outputs": [
        {
          "data": {
            "text/plain": [
              "{'mean_fit_time': array([0.00413427, 0.00420871, 0.00652437, 0.00339818, 0.00455351,\n",
              "        0.00936103, 0.01553488, 0.00976348, 0.00717669, 0.00946407,\n",
              "        0.01751781, 0.01549549, 0.01162682, 0.01625137, 0.01367993,\n",
              "        0.01877427, 0.01612248, 0.0190608 , 0.02700276, 0.0191689 ,\n",
              "        0.03127356, 0.02258382, 0.01831198, 0.01754522, 0.02263503,\n",
              "        0.00777631, 0.00970259, 0.00570192, 0.01370449, 0.00609293,\n",
              "        0.02309952, 0.01834698, 0.01502266, 0.01961555, 0.02469168,\n",
              "        0.03536386, 0.03113866, 0.02151151, 0.01859365, 0.01489568,\n",
              "        0.02277389, 0.02543845, 0.02194438, 0.02711415, 0.019484  ,\n",
              "        0.02678785, 0.02215667, 0.02417507, 0.01583238, 0.01499901,\n",
              "        0.00599375, 0.00812826, 0.00296307, 0.00343566, 0.00686617,\n",
              "        0.02094946, 0.01674814, 0.01497545, 0.02075105, 0.02084227,\n",
              "        0.03602214, 0.02804914, 0.02148967, 0.02781882, 0.02418108,\n",
              "        0.04622302, 0.02318625, 0.01794887, 0.02121449, 0.02244959,\n",
              "        0.03581228, 0.03793874, 0.03236899, 0.03775711, 0.02812357]),\n",
              " 'std_fit_time': array([0.001401  , 0.0008739 , 0.00463795, 0.0015023 , 0.00228346,\n",
              "        0.00090173, 0.01030436, 0.00173935, 0.00329326, 0.00187585,\n",
              "        0.00718691, 0.00243889, 0.0013847 , 0.00374558, 0.00184849,\n",
              "        0.00278609, 0.00189789, 0.00282563, 0.01087933, 0.00293787,\n",
              "        0.00884882, 0.00340763, 0.00229309, 0.00508324, 0.00648576,\n",
              "        0.00279272, 0.00358711, 0.00210436, 0.01371945, 0.00215937,\n",
              "        0.00768092, 0.00268862, 0.00574569, 0.00705331, 0.01404002,\n",
              "        0.01420912, 0.00778351, 0.00183684, 0.00195737, 0.00097121,\n",
              "        0.003847  , 0.00637225, 0.00527055, 0.00799235, 0.00643668,\n",
              "        0.00638995, 0.00345438, 0.00716521, 0.00198851, 0.00437771,\n",
              "        0.00556691, 0.0045879 , 0.00150371, 0.00379281, 0.00234007,\n",
              "        0.00713074, 0.0026153 , 0.00293298, 0.00633499, 0.00531591,\n",
              "        0.01115053, 0.00942312, 0.00439278, 0.005354  , 0.00427504,\n",
              "        0.02688349, 0.00391085, 0.00174076, 0.00245774, 0.00406607,\n",
              "        0.00535683, 0.00881994, 0.00565177, 0.01041148, 0.00995793]),\n",
              " 'mean_score_time': array([0.0008028 , 0.00083952, 0.00148659, 0.00134125, 0.00114646,\n",
              "        0.0008862 , 0.00165644, 0.00115662, 0.00303607, 0.00168853,\n",
              "        0.00097394, 0.00053716, 0.00131779, 0.0012609 , 0.00045519,\n",
              "        0.00061083, 0.00081053, 0.00081625, 0.00060353, 0.00193119,\n",
              "        0.00229344, 0.00112886, 0.00192184, 0.00210762, 0.00151248,\n",
              "        0.00253472, 0.00238562, 0.00347209, 0.00290146, 0.00098982,\n",
              "        0.00189261, 0.0028255 , 0.00206037, 0.00212927, 0.00215855,\n",
              "        0.00171785, 0.00234046, 0.00180402, 0.00061603, 0.00204482,\n",
              "        0.00059896, 0.00125327, 0.00077276, 0.00041862, 0.00173545,\n",
              "        0.00089121, 0.00259871, 0.00098801, 0.00134292, 0.00145683,\n",
              "        0.00145712, 0.00040631, 0.00139022, 0.00061164, 0.00142827,\n",
              "        0.0013783 , 0.00467968, 0.00283985, 0.0014801 , 0.00142064,\n",
              "        0.00311799, 0.00375495, 0.00121441, 0.00177884, 0.00131826,\n",
              "        0.00266852, 0.00062094, 0.00130377, 0.00303946, 0.0020041 ,\n",
              "        0.00172963, 0.0018527 , 0.00755653, 0.00105906, 0.00240569]),\n",
              " 'std_score_time': array([0.00040152, 0.00050212, 0.00154842, 0.00088136, 0.00067966,\n",
              "        0.00047407, 0.00082607, 0.00031803, 0.00333031, 0.00290262,\n",
              "        0.00068812, 0.00084886, 0.0015483 , 0.00158532, 0.00056179,\n",
              "        0.00049888, 0.00040554, 0.00040974, 0.00080585, 0.00101211,\n",
              "        0.00169889, 0.00050077, 0.00178972, 0.00122482, 0.00041651,\n",
              "        0.00169497, 0.00116682, 0.00407053, 0.0019102 , 0.00079787,\n",
              "        0.00163258, 0.00197196, 0.00264771, 0.00180551, 0.00165844,\n",
              "        0.00125776, 0.00130351, 0.00145181, 0.00080798, 0.00139175,\n",
              "        0.00048905, 0.00127534, 0.00067864, 0.00051286, 0.00191517,\n",
              "        0.00048056, 0.00201228, 0.00035858, 0.00104464, 0.00248127,\n",
              "        0.001879  , 0.00049774, 0.00108022, 0.00049958, 0.00046793,\n",
              "        0.00102281, 0.00550282, 0.00323697, 0.00046705, 0.00038179,\n",
              "        0.00224749, 0.00452309, 0.00076831, 0.00097262, 0.00062712,\n",
              "        0.00182804, 0.00050872, 0.00127248, 0.0023783 , 0.00073684,\n",
              "        0.00190703, 0.00041208, 0.01301705, 0.00065073, 0.00134744]),\n",
              " 'param_criterion': masked_array(data=['gini', 'gini', 'gini', 'gini', 'gini', 'gini', 'gini',\n",
              "                    'gini', 'gini', 'gini', 'gini', 'gini', 'gini', 'gini',\n",
              "                    'gini', 'gini', 'gini', 'gini', 'gini', 'gini', 'gini',\n",
              "                    'gini', 'gini', 'gini', 'gini', 'entropy', 'entropy',\n",
              "                    'entropy', 'entropy', 'entropy', 'entropy', 'entropy',\n",
              "                    'entropy', 'entropy', 'entropy', 'entropy', 'entropy',\n",
              "                    'entropy', 'entropy', 'entropy', 'entropy', 'entropy',\n",
              "                    'entropy', 'entropy', 'entropy', 'entropy', 'entropy',\n",
              "                    'entropy', 'entropy', 'entropy', 'log_loss',\n",
              "                    'log_loss', 'log_loss', 'log_loss', 'log_loss',\n",
              "                    'log_loss', 'log_loss', 'log_loss', 'log_loss',\n",
              "                    'log_loss', 'log_loss', 'log_loss', 'log_loss',\n",
              "                    'log_loss', 'log_loss', 'log_loss', 'log_loss',\n",
              "                    'log_loss', 'log_loss', 'log_loss', 'log_loss',\n",
              "                    'log_loss', 'log_loss', 'log_loss', 'log_loss'],\n",
              "              mask=[False, False, False, False, False, False, False, False,\n",
              "                    False, False, False, False, False, False, False, False,\n",
              "                    False, False, False, False, False, False, False, False,\n",
              "                    False, False, False, False, False, False, False, False,\n",
              "                    False, False, False, False, False, False, False, False,\n",
              "                    False, False, False, False, False, False, False, False,\n",
              "                    False, False, False, False, False, False, False, False,\n",
              "                    False, False, False, False, False, False, False, False,\n",
              "                    False, False, False, False, False, False, False, False,\n",
              "                    False, False, False],\n",
              "        fill_value='?',\n",
              "             dtype=object),\n",
              " 'param_max_depth': masked_array(data=[1, 1, 1, 1, 1, 5, 5, 5, 5, 5, 10, 10, 10, 10, 10, 15,\n",
              "                    15, 15, 15, 15, 20, 20, 20, 20, 20, 1, 1, 1, 1, 1, 5,\n",
              "                    5, 5, 5, 5, 10, 10, 10, 10, 10, 15, 15, 15, 15, 15, 20,\n",
              "                    20, 20, 20, 20, 1, 1, 1, 1, 1, 5, 5, 5, 5, 5, 10, 10,\n",
              "                    10, 10, 10, 15, 15, 15, 15, 15, 20, 20, 20, 20, 20],\n",
              "              mask=[False, False, False, False, False, False, False, False,\n",
              "                    False, False, False, False, False, False, False, False,\n",
              "                    False, False, False, False, False, False, False, False,\n",
              "                    False, False, False, False, False, False, False, False,\n",
              "                    False, False, False, False, False, False, False, False,\n",
              "                    False, False, False, False, False, False, False, False,\n",
              "                    False, False, False, False, False, False, False, False,\n",
              "                    False, False, False, False, False, False, False, False,\n",
              "                    False, False, False, False, False, False, False, False,\n",
              "                    False, False, False],\n",
              "        fill_value='?',\n",
              "             dtype=object),\n",
              " 'param_min_samples_leaf': masked_array(data=[1, 5, 10, 15, 20, 1, 5, 10, 15, 20, 1, 5, 10, 15, 20,\n",
              "                    1, 5, 10, 15, 20, 1, 5, 10, 15, 20, 1, 5, 10, 15, 20,\n",
              "                    1, 5, 10, 15, 20, 1, 5, 10, 15, 20, 1, 5, 10, 15, 20,\n",
              "                    1, 5, 10, 15, 20, 1, 5, 10, 15, 20, 1, 5, 10, 15, 20,\n",
              "                    1, 5, 10, 15, 20, 1, 5, 10, 15, 20, 1, 5, 10, 15, 20],\n",
              "              mask=[False, False, False, False, False, False, False, False,\n",
              "                    False, False, False, False, False, False, False, False,\n",
              "                    False, False, False, False, False, False, False, False,\n",
              "                    False, False, False, False, False, False, False, False,\n",
              "                    False, False, False, False, False, False, False, False,\n",
              "                    False, False, False, False, False, False, False, False,\n",
              "                    False, False, False, False, False, False, False, False,\n",
              "                    False, False, False, False, False, False, False, False,\n",
              "                    False, False, False, False, False, False, False, False,\n",
              "                    False, False, False],\n",
              "        fill_value='?',\n",
              "             dtype=object),\n",
              " 'params': [{'criterion': 'gini', 'max_depth': 1, 'min_samples_leaf': 1},\n",
              "  {'criterion': 'gini', 'max_depth': 1, 'min_samples_leaf': 5},\n",
              "  {'criterion': 'gini', 'max_depth': 1, 'min_samples_leaf': 10},\n",
              "  {'criterion': 'gini', 'max_depth': 1, 'min_samples_leaf': 15},\n",
              "  {'criterion': 'gini', 'max_depth': 1, 'min_samples_leaf': 20},\n",
              "  {'criterion': 'gini', 'max_depth': 5, 'min_samples_leaf': 1},\n",
              "  {'criterion': 'gini', 'max_depth': 5, 'min_samples_leaf': 5},\n",
              "  {'criterion': 'gini', 'max_depth': 5, 'min_samples_leaf': 10},\n",
              "  {'criterion': 'gini', 'max_depth': 5, 'min_samples_leaf': 15},\n",
              "  {'criterion': 'gini', 'max_depth': 5, 'min_samples_leaf': 20},\n",
              "  {'criterion': 'gini', 'max_depth': 10, 'min_samples_leaf': 1},\n",
              "  {'criterion': 'gini', 'max_depth': 10, 'min_samples_leaf': 5},\n",
              "  {'criterion': 'gini', 'max_depth': 10, 'min_samples_leaf': 10},\n",
              "  {'criterion': 'gini', 'max_depth': 10, 'min_samples_leaf': 15},\n",
              "  {'criterion': 'gini', 'max_depth': 10, 'min_samples_leaf': 20},\n",
              "  {'criterion': 'gini', 'max_depth': 15, 'min_samples_leaf': 1},\n",
              "  {'criterion': 'gini', 'max_depth': 15, 'min_samples_leaf': 5},\n",
              "  {'criterion': 'gini', 'max_depth': 15, 'min_samples_leaf': 10},\n",
              "  {'criterion': 'gini', 'max_depth': 15, 'min_samples_leaf': 15},\n",
              "  {'criterion': 'gini', 'max_depth': 15, 'min_samples_leaf': 20},\n",
              "  {'criterion': 'gini', 'max_depth': 20, 'min_samples_leaf': 1},\n",
              "  {'criterion': 'gini', 'max_depth': 20, 'min_samples_leaf': 5},\n",
              "  {'criterion': 'gini', 'max_depth': 20, 'min_samples_leaf': 10},\n",
              "  {'criterion': 'gini', 'max_depth': 20, 'min_samples_leaf': 15},\n",
              "  {'criterion': 'gini', 'max_depth': 20, 'min_samples_leaf': 20},\n",
              "  {'criterion': 'entropy', 'max_depth': 1, 'min_samples_leaf': 1},\n",
              "  {'criterion': 'entropy', 'max_depth': 1, 'min_samples_leaf': 5},\n",
              "  {'criterion': 'entropy', 'max_depth': 1, 'min_samples_leaf': 10},\n",
              "  {'criterion': 'entropy', 'max_depth': 1, 'min_samples_leaf': 15},\n",
              "  {'criterion': 'entropy', 'max_depth': 1, 'min_samples_leaf': 20},\n",
              "  {'criterion': 'entropy', 'max_depth': 5, 'min_samples_leaf': 1},\n",
              "  {'criterion': 'entropy', 'max_depth': 5, 'min_samples_leaf': 5},\n",
              "  {'criterion': 'entropy', 'max_depth': 5, 'min_samples_leaf': 10},\n",
              "  {'criterion': 'entropy', 'max_depth': 5, 'min_samples_leaf': 15},\n",
              "  {'criterion': 'entropy', 'max_depth': 5, 'min_samples_leaf': 20},\n",
              "  {'criterion': 'entropy', 'max_depth': 10, 'min_samples_leaf': 1},\n",
              "  {'criterion': 'entropy', 'max_depth': 10, 'min_samples_leaf': 5},\n",
              "  {'criterion': 'entropy', 'max_depth': 10, 'min_samples_leaf': 10},\n",
              "  {'criterion': 'entropy', 'max_depth': 10, 'min_samples_leaf': 15},\n",
              "  {'criterion': 'entropy', 'max_depth': 10, 'min_samples_leaf': 20},\n",
              "  {'criterion': 'entropy', 'max_depth': 15, 'min_samples_leaf': 1},\n",
              "  {'criterion': 'entropy', 'max_depth': 15, 'min_samples_leaf': 5},\n",
              "  {'criterion': 'entropy', 'max_depth': 15, 'min_samples_leaf': 10},\n",
              "  {'criterion': 'entropy', 'max_depth': 15, 'min_samples_leaf': 15},\n",
              "  {'criterion': 'entropy', 'max_depth': 15, 'min_samples_leaf': 20},\n",
              "  {'criterion': 'entropy', 'max_depth': 20, 'min_samples_leaf': 1},\n",
              "  {'criterion': 'entropy', 'max_depth': 20, 'min_samples_leaf': 5},\n",
              "  {'criterion': 'entropy', 'max_depth': 20, 'min_samples_leaf': 10},\n",
              "  {'criterion': 'entropy', 'max_depth': 20, 'min_samples_leaf': 15},\n",
              "  {'criterion': 'entropy', 'max_depth': 20, 'min_samples_leaf': 20},\n",
              "  {'criterion': 'log_loss', 'max_depth': 1, 'min_samples_leaf': 1},\n",
              "  {'criterion': 'log_loss', 'max_depth': 1, 'min_samples_leaf': 5},\n",
              "  {'criterion': 'log_loss', 'max_depth': 1, 'min_samples_leaf': 10},\n",
              "  {'criterion': 'log_loss', 'max_depth': 1, 'min_samples_leaf': 15},\n",
              "  {'criterion': 'log_loss', 'max_depth': 1, 'min_samples_leaf': 20},\n",
              "  {'criterion': 'log_loss', 'max_depth': 5, 'min_samples_leaf': 1},\n",
              "  {'criterion': 'log_loss', 'max_depth': 5, 'min_samples_leaf': 5},\n",
              "  {'criterion': 'log_loss', 'max_depth': 5, 'min_samples_leaf': 10},\n",
              "  {'criterion': 'log_loss', 'max_depth': 5, 'min_samples_leaf': 15},\n",
              "  {'criterion': 'log_loss', 'max_depth': 5, 'min_samples_leaf': 20},\n",
              "  {'criterion': 'log_loss', 'max_depth': 10, 'min_samples_leaf': 1},\n",
              "  {'criterion': 'log_loss', 'max_depth': 10, 'min_samples_leaf': 5},\n",
              "  {'criterion': 'log_loss', 'max_depth': 10, 'min_samples_leaf': 10},\n",
              "  {'criterion': 'log_loss', 'max_depth': 10, 'min_samples_leaf': 15},\n",
              "  {'criterion': 'log_loss', 'max_depth': 10, 'min_samples_leaf': 20},\n",
              "  {'criterion': 'log_loss', 'max_depth': 15, 'min_samples_leaf': 1},\n",
              "  {'criterion': 'log_loss', 'max_depth': 15, 'min_samples_leaf': 5},\n",
              "  {'criterion': 'log_loss', 'max_depth': 15, 'min_samples_leaf': 10},\n",
              "  {'criterion': 'log_loss', 'max_depth': 15, 'min_samples_leaf': 15},\n",
              "  {'criterion': 'log_loss', 'max_depth': 15, 'min_samples_leaf': 20},\n",
              "  {'criterion': 'log_loss', 'max_depth': 20, 'min_samples_leaf': 1},\n",
              "  {'criterion': 'log_loss', 'max_depth': 20, 'min_samples_leaf': 5},\n",
              "  {'criterion': 'log_loss', 'max_depth': 20, 'min_samples_leaf': 10},\n",
              "  {'criterion': 'log_loss', 'max_depth': 20, 'min_samples_leaf': 15},\n",
              "  {'criterion': 'log_loss', 'max_depth': 20, 'min_samples_leaf': 20}],\n",
              " 'split0_test_score': array([0.85858586, 0.85858586, 0.85858586, 0.85858586, 0.85858586,\n",
              "        0.86531987, 0.86195286, 0.87878788, 0.86531987, 0.84848485,\n",
              "        0.84511785, 0.85521886, 0.85521886, 0.84848485, 0.82828283,\n",
              "        0.83501684, 0.84511785, 0.85521886, 0.84848485, 0.82828283,\n",
              "        0.83501684, 0.84511785, 0.85521886, 0.84848485, 0.82828283,\n",
              "        0.85858586, 0.85858586, 0.85858586, 0.85858586, 0.85858586,\n",
              "        0.86531987, 0.85858586, 0.88552189, 0.87205387, 0.85185185,\n",
              "        0.83838384, 0.83164983, 0.87205387, 0.85858586, 0.83164983,\n",
              "        0.84848485, 0.82828283, 0.86531987, 0.85858586, 0.83164983,\n",
              "        0.84848485, 0.82828283, 0.86531987, 0.85858586, 0.83164983,\n",
              "        0.85858586, 0.85858586, 0.85858586, 0.85858586, 0.85858586,\n",
              "        0.86531987, 0.85858586, 0.88552189, 0.87205387, 0.85185185,\n",
              "        0.83838384, 0.83164983, 0.87205387, 0.85858586, 0.83164983,\n",
              "        0.84848485, 0.82828283, 0.86531987, 0.85858586, 0.83164983,\n",
              "        0.84848485, 0.82828283, 0.86531987, 0.85858586, 0.83164983]),\n",
              " 'split1_test_score': array([0.86195286, 0.86195286, 0.86195286, 0.86195286, 0.86195286,\n",
              "        0.86868687, 0.86868687, 0.87205387, 0.86868687, 0.85858586,\n",
              "        0.87542088, 0.87878788, 0.87542088, 0.86868687, 0.87205387,\n",
              "        0.86195286, 0.85521886, 0.87878788, 0.86868687, 0.85858586,\n",
              "        0.84175084, 0.84848485, 0.87878788, 0.86868687, 0.85858586,\n",
              "        0.86195286, 0.86195286, 0.86195286, 0.86195286, 0.86195286,\n",
              "        0.86868687, 0.86868687, 0.87542088, 0.88215488, 0.87878788,\n",
              "        0.86868687, 0.83164983, 0.86195286, 0.85858586, 0.86868687,\n",
              "        0.86195286, 0.84175084, 0.85858586, 0.85858586, 0.86868687,\n",
              "        0.87542088, 0.84175084, 0.85858586, 0.85858586, 0.86868687,\n",
              "        0.86195286, 0.86195286, 0.86195286, 0.86195286, 0.86195286,\n",
              "        0.86868687, 0.86868687, 0.87542088, 0.88215488, 0.87878788,\n",
              "        0.86868687, 0.83164983, 0.86195286, 0.85858586, 0.86868687,\n",
              "        0.86195286, 0.84175084, 0.85858586, 0.85858586, 0.86868687,\n",
              "        0.87542088, 0.84175084, 0.85858586, 0.85858586, 0.86868687]),\n",
              " 'split2_test_score': array([0.87205387, 0.87205387, 0.87205387, 0.87205387, 0.87205387,\n",
              "        0.88215488, 0.88215488, 0.88215488, 0.87878788, 0.86868687,\n",
              "        0.88552189, 0.87878788, 0.8956229 , 0.87878788, 0.86868687,\n",
              "        0.89225589, 0.87878788, 0.8956229 , 0.87878788, 0.86868687,\n",
              "        0.86868687, 0.87878788, 0.8956229 , 0.87878788, 0.86868687,\n",
              "        0.87205387, 0.87205387, 0.87205387, 0.87205387, 0.87205387,\n",
              "        0.88215488, 0.87878788, 0.88215488, 0.86868687, 0.86868687,\n",
              "        0.88215488, 0.86531987, 0.85858586, 0.85858586, 0.86868687,\n",
              "        0.87878788, 0.86868687, 0.85858586, 0.85858586, 0.86531987,\n",
              "        0.87205387, 0.86868687, 0.85858586, 0.85858586, 0.86531987,\n",
              "        0.87205387, 0.87205387, 0.87205387, 0.87205387, 0.87205387,\n",
              "        0.88215488, 0.87878788, 0.88215488, 0.86868687, 0.86868687,\n",
              "        0.88215488, 0.86531987, 0.85858586, 0.85858586, 0.86868687,\n",
              "        0.87878788, 0.86868687, 0.85858586, 0.85858586, 0.86531987,\n",
              "        0.87205387, 0.86868687, 0.85858586, 0.85858586, 0.86531987]),\n",
              " 'split3_test_score': array([0.88513514, 0.88513514, 0.88513514, 0.88513514, 0.88513514,\n",
              "        0.89864865, 0.89527027, 0.88851351, 0.90202703, 0.89864865,\n",
              "        0.91554054, 0.91554054, 0.875     , 0.90878378, 0.90540541,\n",
              "        0.88851351, 0.90878378, 0.88513514, 0.90878378, 0.90540541,\n",
              "        0.87837838, 0.90878378, 0.88513514, 0.90878378, 0.90540541,\n",
              "        0.88513514, 0.88513514, 0.88513514, 0.88513514, 0.88513514,\n",
              "        0.88851351, 0.88513514, 0.88175676, 0.88851351, 0.88513514,\n",
              "        0.87837838, 0.86486486, 0.86824324, 0.88175676, 0.875     ,\n",
              "        0.87837838, 0.84459459, 0.86486486, 0.88175676, 0.875     ,\n",
              "        0.875     , 0.84459459, 0.86486486, 0.88175676, 0.875     ,\n",
              "        0.88513514, 0.88513514, 0.88513514, 0.88513514, 0.88513514,\n",
              "        0.88851351, 0.88513514, 0.88175676, 0.88851351, 0.88513514,\n",
              "        0.87837838, 0.86486486, 0.86824324, 0.88175676, 0.875     ,\n",
              "        0.87837838, 0.84459459, 0.86486486, 0.88175676, 0.875     ,\n",
              "        0.875     , 0.84459459, 0.86486486, 0.88175676, 0.875     ]),\n",
              " 'split4_test_score': array([0.86824324, 0.86824324, 0.86824324, 0.86824324, 0.86824324,\n",
              "        0.85810811, 0.86148649, 0.86824324, 0.875     , 0.86824324,\n",
              "        0.87162162, 0.87837838, 0.88175676, 0.86148649, 0.86148649,\n",
              "        0.85135135, 0.85135135, 0.87837838, 0.86148649, 0.86148649,\n",
              "        0.85135135, 0.85135135, 0.87162162, 0.86148649, 0.86148649,\n",
              "        0.86824324, 0.86824324, 0.86824324, 0.86824324, 0.86824324,\n",
              "        0.87837838, 0.875     , 0.87837838, 0.85810811, 0.86824324,\n",
              "        0.87837838, 0.86824324, 0.87162162, 0.86486486, 0.86148649,\n",
              "        0.875     , 0.85810811, 0.87162162, 0.86486486, 0.86148649,\n",
              "        0.88513514, 0.85810811, 0.87162162, 0.86486486, 0.86148649,\n",
              "        0.86824324, 0.86824324, 0.86824324, 0.86824324, 0.86824324,\n",
              "        0.87837838, 0.875     , 0.87837838, 0.85810811, 0.86824324,\n",
              "        0.87837838, 0.86824324, 0.87162162, 0.86486486, 0.86148649,\n",
              "        0.875     , 0.85810811, 0.87162162, 0.86486486, 0.86148649,\n",
              "        0.88513514, 0.85810811, 0.87162162, 0.86486486, 0.86148649]),\n",
              " 'mean_test_score': array([0.86919419, 0.86919419, 0.86919419, 0.86919419, 0.86919419,\n",
              "        0.87458367, 0.87391027, 0.87795068, 0.87796433, 0.86852989,\n",
              "        0.87864455, 0.88134271, 0.87660388, 0.87324597, 0.86718309,\n",
              "        0.86581809, 0.86785194, 0.87862863, 0.87324597, 0.86448949,\n",
              "        0.85503686, 0.86650514, 0.87727728, 0.87324597, 0.86448949,\n",
              "        0.86919419, 0.86919419, 0.86919419, 0.86919419, 0.86919419,\n",
              "        0.8766107 , 0.87323915, 0.88064656, 0.87390345, 0.870541  ,\n",
              "        0.86919647, 0.85234553, 0.86649149, 0.86447584, 0.86110201,\n",
              "        0.86852079, 0.84828465, 0.86379561, 0.86447584, 0.86042861,\n",
              "        0.87121895, 0.84828465, 0.86379561, 0.86447584, 0.86042861,\n",
              "        0.86919419, 0.86919419, 0.86919419, 0.86919419, 0.86919419,\n",
              "        0.8766107 , 0.87323915, 0.88064656, 0.87390345, 0.870541  ,\n",
              "        0.86919647, 0.85234553, 0.86649149, 0.86447584, 0.86110201,\n",
              "        0.86852079, 0.84828465, 0.86379561, 0.86447584, 0.86042861,\n",
              "        0.87121895, 0.84828465, 0.86379561, 0.86447584, 0.86042861]),\n",
              " 'std_test_score': array([0.00925386, 0.00925386, 0.00925386, 0.00925386, 0.00925386,\n",
              "        0.01434211, 0.01302948, 0.00719662, 0.01291846, 0.01678055,\n",
              "        0.02277   , 0.01935866, 0.01303508, 0.0203265 , 0.02462768,\n",
              "        0.02184941, 0.02342526, 0.01326081, 0.0203265 , 0.0246841 ,\n",
              "        0.0162607 , 0.02429047, 0.01355839, 0.0203265 , 0.0246841 ,\n",
              "        0.00925386, 0.00925386, 0.00925386, 0.00925386, 0.00925386,\n",
              "        0.00855347, 0.00906472, 0.00345626, 0.01059874, 0.01130488,\n",
              "        0.01603879, 0.0169377 , 0.00535584, 0.00897616, 0.01533488,\n",
              "        0.01174003, 0.01392215, 0.00487845, 0.00897616, 0.01505846,\n",
              "        0.01219138, 0.01392215, 0.00487845, 0.00897616, 0.01505846,\n",
              "        0.00925386, 0.00925386, 0.00925386, 0.00925386, 0.00925386,\n",
              "        0.00855347, 0.00906472, 0.00345626, 0.01059874, 0.01130488,\n",
              "        0.01603879, 0.0169377 , 0.00535584, 0.00897616, 0.01533488,\n",
              "        0.01174003, 0.01392215, 0.00487845, 0.00897616, 0.01505846,\n",
              "        0.01219138, 0.01392215, 0.00487845, 0.00897616, 0.01505846]),\n",
              " 'rank_test_score': array([27, 27, 27, 27, 27, 12, 13,  7,  6, 42,  4,  1, 11, 16, 46, 50, 45,\n",
              "         5, 16, 51, 69, 47,  8, 16, 51, 27, 27, 27, 27, 27,  9, 19,  2, 14,\n",
              "        23, 25, 70, 48, 53, 63, 43, 72, 59, 53, 65, 21, 72, 59, 53, 65, 27,\n",
              "        27, 27, 27, 27,  9, 19,  2, 14, 23, 25, 70, 48, 53, 63, 43, 72, 59,\n",
              "        53, 65, 21, 72, 59, 53, 65])}"
            ]
          },
          "execution_count": 65,
          "metadata": {},
          "output_type": "execute_result"
        }
      ],
      "source": [
        "clf_grid2.cv_results_"
      ]
    },
    {
      "cell_type": "markdown",
      "metadata": {
        "id": "BgGsqqmsNFey"
      },
      "source": [
        "#### Accuracy para todas las configuraciones"
      ]
    },
    {
      "cell_type": "code",
      "execution_count": null,
      "metadata": {
        "id": "g4PuBAKVNFey",
        "outputId": "de6d403e-8f1f-4c64-d6df-06e4c3c6a52b"
      },
      "outputs": [
        {
          "data": {
            "text/plain": [
              "array([0.86919419, 0.86919419, 0.86919419, 0.86919419, 0.86919419,\n",
              "       0.87458367, 0.87391027, 0.87795068, 0.87796433, 0.86852989,\n",
              "       0.87864455, 0.88134271, 0.87660388, 0.87324597, 0.86718309,\n",
              "       0.86581809, 0.86785194, 0.87862863, 0.87324597, 0.86448949,\n",
              "       0.85503686, 0.86650514, 0.87727728, 0.87324597, 0.86448949,\n",
              "       0.86919419, 0.86919419, 0.86919419, 0.86919419, 0.86919419,\n",
              "       0.8766107 , 0.87323915, 0.88064656, 0.87390345, 0.870541  ,\n",
              "       0.86919647, 0.85234553, 0.86649149, 0.86447584, 0.86110201,\n",
              "       0.86852079, 0.84828465, 0.86379561, 0.86447584, 0.86042861,\n",
              "       0.87121895, 0.84828465, 0.86379561, 0.86447584, 0.86042861,\n",
              "       0.86919419, 0.86919419, 0.86919419, 0.86919419, 0.86919419,\n",
              "       0.8766107 , 0.87323915, 0.88064656, 0.87390345, 0.870541  ,\n",
              "       0.86919647, 0.85234553, 0.86649149, 0.86447584, 0.86110201,\n",
              "       0.86852079, 0.84828465, 0.86379561, 0.86447584, 0.86042861,\n",
              "       0.87121895, 0.84828465, 0.86379561, 0.86447584, 0.86042861])"
            ]
          },
          "execution_count": 66,
          "metadata": {},
          "output_type": "execute_result"
        }
      ],
      "source": [
        "accuracies_tc = clf_grid2.cv_results_['mean_test_score'] \n",
        "accuracies_tc"
      ]
    },
    {
      "cell_type": "markdown",
      "metadata": {
        "id": "3KL28OxONFey"
      },
      "source": [
        "#### Desviación estándar para todas las configuraciones"
      ]
    },
    {
      "cell_type": "code",
      "execution_count": null,
      "metadata": {
        "id": "PB8ijnRDNFey",
        "outputId": "d83bf394-0eb2-4dec-f313-7b085db8cadc"
      },
      "outputs": [
        {
          "data": {
            "text/plain": [
              "array([0.00925386, 0.00925386, 0.00925386, 0.00925386, 0.00925386,\n",
              "       0.01434211, 0.01302948, 0.00719662, 0.01291846, 0.01678055,\n",
              "       0.02277   , 0.01935866, 0.01303508, 0.0203265 , 0.02462768,\n",
              "       0.02184941, 0.02342526, 0.01326081, 0.0203265 , 0.0246841 ,\n",
              "       0.0162607 , 0.02429047, 0.01355839, 0.0203265 , 0.0246841 ,\n",
              "       0.00925386, 0.00925386, 0.00925386, 0.00925386, 0.00925386,\n",
              "       0.00855347, 0.00906472, 0.00345626, 0.01059874, 0.01130488,\n",
              "       0.01603879, 0.0169377 , 0.00535584, 0.00897616, 0.01533488,\n",
              "       0.01174003, 0.01392215, 0.00487845, 0.00897616, 0.01505846,\n",
              "       0.01219138, 0.01392215, 0.00487845, 0.00897616, 0.01505846,\n",
              "       0.00925386, 0.00925386, 0.00925386, 0.00925386, 0.00925386,\n",
              "       0.00855347, 0.00906472, 0.00345626, 0.01059874, 0.01130488,\n",
              "       0.01603879, 0.0169377 , 0.00535584, 0.00897616, 0.01533488,\n",
              "       0.01174003, 0.01392215, 0.00487845, 0.00897616, 0.01505846,\n",
              "       0.01219138, 0.01392215, 0.00487845, 0.00897616, 0.01505846])"
            ]
          },
          "execution_count": 67,
          "metadata": {},
          "output_type": "execute_result"
        }
      ],
      "source": [
        "std_tc = clf_grid2.cv_results_['std_test_score'] \n",
        "std_tc"
      ]
    },
    {
      "cell_type": "markdown",
      "metadata": {
        "id": "Ll_Yk2V-3Qnx"
      },
      "source": [
        "### Evaluamos el mejor modelo"
      ]
    },
    {
      "cell_type": "code",
      "execution_count": null,
      "metadata": {
        "id": "dH-U_Fkb3Qnx"
      },
      "outputs": [],
      "source": [
        "# Se obtienen las etiquetas predichas para el grupo de datos de entrenamiento y test.\n",
        "y3_train_pred = best_model2.predict(X3_train)\n",
        "y3_test_pred = best_model2.predict(X3_test)\n"
      ]
    },
    {
      "cell_type": "markdown",
      "metadata": {
        "id": "pO4DEMdV3Qnx"
      },
      "source": [
        "#### Sobre el conjunto de entrenamiento"
      ]
    },
    {
      "cell_type": "code",
      "execution_count": null,
      "metadata": {
        "outputId": "f36c4e80-4822-4385-b50c-a500e386667e",
        "id": "5M_i0yrF3Qnx"
      },
      "outputs": [
        {
          "name": "stdout",
          "output_type": "stream",
          "text": [
            "              precision    recall  f1-score   support\n",
            "\n",
            "           0       0.94      0.98      0.96      1232\n",
            "           1       0.89      0.68      0.77       251\n",
            "\n",
            "    accuracy                           0.93      1483\n",
            "   macro avg       0.92      0.83      0.87      1483\n",
            "weighted avg       0.93      0.93      0.93      1483\n",
            "\n"
          ]
        }
      ],
      "source": [
        "# Se obtiene el reporte para los datos de entrenamiento\n",
        "print(classification_report(y3_train, y3_train_pred))"
      ]
    },
    {
      "cell_type": "markdown",
      "metadata": {
        "id": "rFM3VN0J3Qnx"
      },
      "source": [
        "#### Sobre el conjunto de evaluación"
      ]
    },
    {
      "cell_type": "code",
      "execution_count": null,
      "metadata": {
        "outputId": "26f6f78c-90d7-49cd-c614-45fa2132d9eb",
        "id": "pV_0p7De3Qny"
      },
      "outputs": [
        {
          "name": "stdout",
          "output_type": "stream",
          "text": [
            "              precision    recall  f1-score   support\n",
            "\n",
            "           0       0.92      0.97      0.94       313\n",
            "           1       0.76      0.55      0.64        58\n",
            "\n",
            "    accuracy                           0.90       371\n",
            "   macro avg       0.84      0.76      0.79       371\n",
            "weighted avg       0.90      0.90      0.90       371\n",
            "\n"
          ]
        }
      ],
      "source": [
        "# Se obtiene el reporte para los datos de validación\n",
        "print(classification_report(y3_test, y3_test_pred))"
      ]
    },
    {
      "cell_type": "markdown",
      "metadata": {
        "id": "WAm1Zmk43Qny"
      },
      "source": [
        "#### Matriz de confusión - conjunto de evaluación"
      ]
    },
    {
      "cell_type": "code",
      "execution_count": null,
      "metadata": {
        "outputId": "3ee8b04b-ff78-4643-89fd-227b768a4c3c",
        "id": "kCoJOuO63Qny"
      },
      "outputs": [
        {
          "data": {
            "text/plain": [
              "array([[303,  10],\n",
              "       [ 26,  32]], dtype=int64)"
            ]
          },
          "execution_count": 71,
          "metadata": {},
          "output_type": "execute_result"
        }
      ],
      "source": [
        "confusion_matrix(y3_test, y3_test_pred)"
      ]
    },
    {
      "cell_type": "code",
      "execution_count": null,
      "metadata": {
        "outputId": "5884a020-9553-4745-c09b-f5aaedb0be6c",
        "id": "_ultpK_P3Qny"
      },
      "outputs": [
        {
          "data": {
            "image/png": "[encoded data removed]",
            "text/plain": [
              "<Figure size 432x288 with 2 Axes>"
            ]
          },
          "metadata": {
            "needs_background": "light"
          },
          "output_type": "display_data"
        }
      ],
      "source": [
        "cm2 = confusion_matrix(y3_test, y3_test_pred, labels=[0, 1])\n",
        "plot_confusion_matrix(cm2, [0,1])"
      ]
    },
    {
      "cell_type": "markdown",
      "metadata": {
        "id": "chyJ6eWm3Qny"
      },
      "source": [
        "**Conclusión**\n",
        "\n",
        "Luego de realizar el ajuste de hiperparámetros obtuvimos un modelo ligeramente mejor, en términos de accuracy, que el modelo anterior. \n",
        "\n",
        "Según nuestro criterio, los modelos obtenidos no son suficientemente buenos para predecir a las personas que no van a pagar el crédito recibido. Esto podría deberse al desbalance que existe en el dataset, en donde la gran mayoría de los datos corresponden a personas que sí pagaron el crédito y una parte menor a quienes no pagaron. Una manera de solucionar este problema sería aumentar el número de datos intentando balancear el dataset entre quienes pagaron y no pagaron el crédito otorgado."
      ]
    }
  ],
  "metadata": {
    "colab": {
      "collapsed_sections": [
        "kjig262oNFeb",
        "WA9gxkq-NFec",
        "MJKvtym2NFec",
        "v6GkLRO5NFed",
        "V2LVgO4bNFed"
      ],
      "name": "Lab_2-FINAL.ipynb",
      "provenance": [],
      "toc_visible": true
    },
    "hide_input": false,
    "kernelspec": {
      "display_name": "Python 3",
      "language": "python",
      "name": "python3"
    },
    "language_info": {
      "codemirror_mode": {
        "name": "ipython",
        "version": 3
      },
      "file_extension": ".py",
      "mimetype": "text/x-python",
      "name": "python",
      "nbconvert_exporter": "python",
      "pygments_lexer": "ipython3",
      "version": "3.8.6"
    },
    "toc": {
      "base_numbering": 1,
      "nav_menu": {},
      "number_sections": true,
      "sideBar": true,
      "skip_h1_title": false,
      "title_cell": "Table of Contents",
      "title_sidebar": "Contents",
      "toc_cell": false,
      "toc_position": {
        "height": "calc(100% - 180px)",
        "left": "10px",
        "top": "150px",
        "width": "273.188px"
      },
      "toc_section_display": true,
      "toc_window_display": true
    },
    "varInspector": {
      "cols": {
        "lenName": 16,
        "lenType": 16,
        "lenVar": 40
      },
      "kernels_config": {
        "python": {
          "delete_cmd_postfix": "",
          "delete_cmd_prefix": "del ",
          "library": "var_list.py",
          "varRefreshCmd": "print(var_dic_list())"
        },
        "r": {
          "delete_cmd_postfix": ") ",
          "delete_cmd_prefix": "rm(",
          "library": "var_list.r",
          "varRefreshCmd": "cat(var_dic_list()) "
        }
      },
      "types_to_exclude": [
        "module",
        "function",
        "builtin_function_or_method",
        "instance",
        "_Feature"
      ],
      "window_display": false
    }
  },
  "nbformat": 4,
  "nbformat_minor": 0
}